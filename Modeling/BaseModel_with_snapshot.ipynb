{
  "nbformat": 4,
  "nbformat_minor": 0,
  "metadata": {
    "accelerator": "GPU",
    "colab": {
      "name": "BaseModel_with_snapshot.ipynb",
      "provenance": [],
      "collapsed_sections": [],
      "include_colab_link": true
    },
    "kernelspec": {
      "display_name": "Python 3",
      "name": "python3"
    },
    "language_info": {
      "name": "python"
    }
  },
  "cells": [
    {
      "cell_type": "markdown",
      "metadata": {
        "id": "view-in-github",
        "colab_type": "text"
      },
      "source": [
        "<a href=\"https://colab.research.google.com/github/bomiiisong/AI_Project/blob/master/Modeling/BaseModel_with_snapshot.ipynb\" target=\"_parent\"><img src=\"https://colab.research.google.com/assets/colab-badge.svg\" alt=\"Open In Colab\"/></a>"
      ]
    },
    {
      "cell_type": "markdown",
      "metadata": {
        "id": "h3OCfk4OTqmv"
      },
      "source": [
        "# instagram-crawling "
      ]
    },
    {
      "cell_type": "markdown",
      "metadata": {
        "id": "U9rg0wYlTwNC"
      },
      "source": [
        "## 1. Import Packages & Data Load"
      ]
    },
    {
      "cell_type": "markdown",
      "metadata": {
        "id": "lACoFBtPT-bf"
      },
      "source": [
        "> ### 1) Import Packages"
      ]
    },
    {
      "cell_type": "code",
      "metadata": {
        "id": "P-PrGvCenIIz"
      },
      "source": [
        "import pandas as pd\n",
        "import numpy as np\n",
        "import keras\n",
        "import tensorflow"
      ],
      "execution_count": 1,
      "outputs": []
    },
    {
      "cell_type": "markdown",
      "metadata": {
        "id": "wERwlmYOT6Ly"
      },
      "source": [
        "> ### 2) Data Load"
      ]
    },
    {
      "cell_type": "markdown",
      "metadata": {
        "id": "Yrk3TQL2UGd1"
      },
      "source": [
        "* Drive Mount"
      ]
    },
    {
      "cell_type": "code",
      "metadata": {
        "colab": {
          "base_uri": "https://localhost:8080/"
        },
        "id": "I9MfVDLNpUTQ",
        "outputId": "6e2e1c14-a305-4db8-9360-94a32bfca7ab"
      },
      "source": [
        "from google.colab import drive\n",
        "\n",
        "drive.mount('/content/drive')"
      ],
      "execution_count": 2,
      "outputs": [
        {
          "output_type": "stream",
          "text": [
            "Mounted at /content/drive\n"
          ],
          "name": "stdout"
        }
      ]
    },
    {
      "cell_type": "markdown",
      "metadata": {
        "id": "C63pNrSCUIeB"
      },
      "source": [
        "* Data check"
      ]
    },
    {
      "cell_type": "code",
      "metadata": {
        "colab": {
          "base_uri": "https://localhost:8080/"
        },
        "id": "-x8AB1ebQ2u0",
        "outputId": "45d9282f-7dc0-4a9a-8002-4e9e65312da7"
      },
      "source": [
        "!ls -l '/content/drive/My Drive/Colab Notebooks/datasets/snapshot.zip'"
      ],
      "execution_count": 3,
      "outputs": [
        {
          "output_type": "stream",
          "text": [
            "-rw------- 1 root root 17522249 Apr 12 04:25 '/content/drive/My Drive/Colab Notebooks/datasets/snapshot.zip'\n"
          ],
          "name": "stdout"
        }
      ]
    },
    {
      "cell_type": "markdown",
      "metadata": {
        "id": "8CunAFSAULIf"
      },
      "source": [
        "* unzip data"
      ]
    },
    {
      "cell_type": "code",
      "metadata": {
        "id": "kADWYxGx6VO0"
      },
      "source": [
        "!unzip /content/drive/My\\ Drive/Colab\\ Notebooks/datasets/snapshot.zip"
      ],
      "execution_count": null,
      "outputs": []
    },
    {
      "cell_type": "markdown",
      "metadata": {
        "id": "LMD0ITLqUOR7"
      },
      "source": [
        "## 2. Data Preprocessing"
      ]
    },
    {
      "cell_type": "markdown",
      "metadata": {
        "id": "AML47DwjUWOR"
      },
      "source": [
        "> ### 1) Data Directory 설정"
      ]
    },
    {
      "cell_type": "code",
      "metadata": {
        "id": "M8rQeg1pQ2u1"
      },
      "source": [
        "train_dir = 'train'\n",
        "valid_dir = 'test'\n",
        "test_dir = 'hold'"
      ],
      "execution_count": 5,
      "outputs": []
    },
    {
      "cell_type": "markdown",
      "metadata": {
        "id": "wRAsPNePUijn"
      },
      "source": [
        "> ### 2) Data Nomalization & generator 생성"
      ]
    },
    {
      "cell_type": "code",
      "metadata": {
        "colab": {
          "base_uri": "https://localhost:8080/"
        },
        "id": "QMf2V7KxC-yG",
        "outputId": "2b2dccad-a1d1-465b-bf55-0f670afe5374"
      },
      "source": [
        "from keras.preprocessing.image import ImageDataGenerator\n",
        "\n",
        "train_datagen = ImageDataGenerator(rescale = 1./255)\n",
        "valid_datagen = ImageDataGenerator(rescale = 1./255)\n",
        "\n",
        "\n",
        "train_generator = train_datagen.flow_from_directory(train_dir,target_size = (640, 640),\n",
        "                                                    batch_size = 17,class_mode = 'categorical')\n",
        "\n",
        "valid_generator = valid_datagen.flow_from_directory(valid_dir,target_size = (640, 640),\n",
        "                                                    batch_size = 19,class_mode = 'categorical')"
      ],
      "execution_count": 6,
      "outputs": [
        {
          "output_type": "stream",
          "text": [
            "Found 136 images belonging to 2 classes.\n",
            "Found 64 images belonging to 2 classes.\n"
          ],
          "name": "stdout"
        }
      ]
    },
    {
      "cell_type": "markdown",
      "metadata": {
        "id": "pHcSJupdUqtC"
      },
      "source": [
        "* generator 생성 결과 확인"
      ]
    },
    {
      "cell_type": "code",
      "metadata": {
        "id": "Hz4YciGN-J8e"
      },
      "source": [
        "for pred, label in train_generator:\n",
        "  print(pred.shape)\n",
        "  print(label.shape)\n",
        "  print(label)\n",
        "  break"
      ],
      "execution_count": null,
      "outputs": []
    },
    {
      "cell_type": "markdown",
      "metadata": {
        "id": "-6-Z9ClxUvRF"
      },
      "source": [
        "## 3. Modeling"
      ]
    },
    {
      "cell_type": "markdown",
      "metadata": {
        "id": "zO_MulKcUx8x"
      },
      "source": [
        "> ### 1) Transfer Learning (VGG16) Import"
      ]
    },
    {
      "cell_type": "code",
      "metadata": {
        "id": "Fl6i2uWVU7sk"
      },
      "source": [
        "from keras.applications import VGG16\n",
        "\n",
        "conv_base = VGG16(weights = 'imagenet', include_top = False, input_shape = (640, 640, 3))"
      ],
      "execution_count": null,
      "outputs": []
    },
    {
      "cell_type": "markdown",
      "metadata": {
        "id": "i-I_cWmlU-kO"
      },
      "source": [
        "> ### 2) Fine Tuninning 위해 학습 레이어 설정"
      ]
    },
    {
      "cell_type": "code",
      "metadata": {
        "colab": {
          "base_uri": "https://localhost:8080/"
        },
        "id": "pGiWQuDYC-yJ",
        "outputId": "5e0e568e-908b-4f36-8794-90ff79308edc"
      },
      "source": [
        "set_trainable = False\n",
        "\n",
        "for layer in conv_base.layers:\n",
        "  if layer.name == 'block5_conv1':       \n",
        "    set_trainable = True\n",
        "\n",
        "  if set_trainable:\n",
        "    layer.trainable = True\n",
        "  else:\n",
        "    layer.trainable = False\n",
        "\n",
        "conv_base.summary()"
      ],
      "execution_count": 8,
      "outputs": [
        {
          "output_type": "stream",
          "text": [
            "Downloading data from https://storage.googleapis.com/tensorflow/keras-applications/vgg16/vgg16_weights_tf_dim_ordering_tf_kernels_notop.h5\n",
            "58892288/58889256 [==============================] - 0s 0us/step\n",
            "Model: \"vgg16\"\n",
            "_________________________________________________________________\n",
            "Layer (type)                 Output Shape              Param #   \n",
            "=================================================================\n",
            "input_1 (InputLayer)         [(None, 640, 640, 3)]     0         \n",
            "_________________________________________________________________\n",
            "block1_conv1 (Conv2D)        (None, 640, 640, 64)      1792      \n",
            "_________________________________________________________________\n",
            "block1_conv2 (Conv2D)        (None, 640, 640, 64)      36928     \n",
            "_________________________________________________________________\n",
            "block1_pool (MaxPooling2D)   (None, 320, 320, 64)      0         \n",
            "_________________________________________________________________\n",
            "block2_conv1 (Conv2D)        (None, 320, 320, 128)     73856     \n",
            "_________________________________________________________________\n",
            "block2_conv2 (Conv2D)        (None, 320, 320, 128)     147584    \n",
            "_________________________________________________________________\n",
            "block2_pool (MaxPooling2D)   (None, 160, 160, 128)     0         \n",
            "_________________________________________________________________\n",
            "block3_conv1 (Conv2D)        (None, 160, 160, 256)     295168    \n",
            "_________________________________________________________________\n",
            "block3_conv2 (Conv2D)        (None, 160, 160, 256)     590080    \n",
            "_________________________________________________________________\n",
            "block3_conv3 (Conv2D)        (None, 160, 160, 256)     590080    \n",
            "_________________________________________________________________\n",
            "block3_pool (MaxPooling2D)   (None, 80, 80, 256)       0         \n",
            "_________________________________________________________________\n",
            "block4_conv1 (Conv2D)        (None, 80, 80, 512)       1180160   \n",
            "_________________________________________________________________\n",
            "block4_conv2 (Conv2D)        (None, 80, 80, 512)       2359808   \n",
            "_________________________________________________________________\n",
            "block4_conv3 (Conv2D)        (None, 80, 80, 512)       2359808   \n",
            "_________________________________________________________________\n",
            "block4_pool (MaxPooling2D)   (None, 40, 40, 512)       0         \n",
            "_________________________________________________________________\n",
            "block5_conv1 (Conv2D)        (None, 40, 40, 512)       2359808   \n",
            "_________________________________________________________________\n",
            "block5_conv2 (Conv2D)        (None, 40, 40, 512)       2359808   \n",
            "_________________________________________________________________\n",
            "block5_conv3 (Conv2D)        (None, 40, 40, 512)       2359808   \n",
            "_________________________________________________________________\n",
            "block5_pool (MaxPooling2D)   (None, 20, 20, 512)       0         \n",
            "=================================================================\n",
            "Total params: 14,714,688\n",
            "Trainable params: 7,079,424\n",
            "Non-trainable params: 7,635,264\n",
            "_________________________________________________________________\n"
          ],
          "name": "stdout"
        }
      ]
    },
    {
      "cell_type": "markdown",
      "metadata": {
        "id": "khHcgeRxVJ50"
      },
      "source": [
        "> ### 3) VGG16 + DNN Layer 설정"
      ]
    },
    {
      "cell_type": "code",
      "metadata": {
        "colab": {
          "base_uri": "https://localhost:8080/"
        },
        "id": "2oqfI02KC-yJ",
        "outputId": "0819fb3c-75e6-4b73-fa96-2b665f73026a"
      },
      "source": [
        "from keras import models, layers, optimizers\n",
        "\n",
        "model = models.Sequential()\n",
        "model.add(conv_base)\n",
        "\n",
        "model.add(layers.Flatten())\n",
        "model.add(layers.Dense(256, activation = 'relu'))\n",
        "model.add(layers.Dropout(0.5))\n",
        "model.add(layers.Dense(2, activation = 'softmax'))   \n",
        "\n",
        "model.summary()"
      ],
      "execution_count": 9,
      "outputs": [
        {
          "output_type": "stream",
          "text": [
            "Model: \"sequential\"\n",
            "_________________________________________________________________\n",
            "Layer (type)                 Output Shape              Param #   \n",
            "=================================================================\n",
            "vgg16 (Functional)           (None, 20, 20, 512)       14714688  \n",
            "_________________________________________________________________\n",
            "flatten (Flatten)            (None, 204800)            0         \n",
            "_________________________________________________________________\n",
            "dense (Dense)                (None, 256)               52429056  \n",
            "_________________________________________________________________\n",
            "dropout (Dropout)            (None, 256)               0         \n",
            "_________________________________________________________________\n",
            "dense_1 (Dense)              (None, 2)                 514       \n",
            "=================================================================\n",
            "Total params: 67,144,258\n",
            "Trainable params: 59,508,994\n",
            "Non-trainable params: 7,635,264\n",
            "_________________________________________________________________\n"
          ],
          "name": "stdout"
        }
      ]
    },
    {
      "cell_type": "markdown",
      "metadata": {
        "id": "nu_X0jf6VTcu"
      },
      "source": [
        "> ### 4) Model compile"
      ]
    },
    {
      "cell_type": "code",
      "metadata": {
        "id": "p4HbHCUOVYBV"
      },
      "source": [
        "model.compile(loss = 'categorical_crossentropy', \n",
        "              optimizer = optimizers.Adam(lr = 0.000005),\n",
        "              metrics = ['accuracy'])"
      ],
      "execution_count": null,
      "outputs": []
    },
    {
      "cell_type": "markdown",
      "metadata": {
        "id": "XxT4ve2rVZRt"
      },
      "source": [
        "> ### 5) Model fitting"
      ]
    },
    {
      "cell_type": "code",
      "metadata": {
        "colab": {
          "base_uri": "https://localhost:8080/"
        },
        "id": "gSd-Cx9DC-yK",
        "outputId": "794dd3ec-16a3-4f49-fdde-707be9e287a2"
      },
      "source": [
        "%%time\n",
        "\n",
        "Hist = model.fit(train_generator, \n",
        "                 steps_per_epoch = train_generator.samples // train_generator.batch_size, \n",
        "                 epochs = 50, \n",
        "                 validation_data = valid_generator,\n",
        "                 validation_steps=valid_generator.samples // valid_generator.batch_size)"
      ],
      "execution_count": 10,
      "outputs": [
        {
          "output_type": "stream",
          "text": [
            "Epoch 1/50\n",
            "8/8 [==============================] - 87s 4s/step - loss: 0.9992 - accuracy: 0.5259 - val_loss: 0.5889 - val_accuracy: 0.6842\n",
            "Epoch 2/50\n",
            "8/8 [==============================] - 10s 1s/step - loss: 0.5987 - accuracy: 0.6784 - val_loss: 0.5112 - val_accuracy: 0.7544\n",
            "Epoch 3/50\n",
            "8/8 [==============================] - 11s 1s/step - loss: 0.4301 - accuracy: 0.7700 - val_loss: 0.4710 - val_accuracy: 0.7895\n",
            "Epoch 4/50\n",
            "8/8 [==============================] - 10s 1s/step - loss: 0.2560 - accuracy: 0.9188 - val_loss: 0.4427 - val_accuracy: 0.7895\n",
            "Epoch 5/50\n",
            "8/8 [==============================] - 10s 1s/step - loss: 0.2148 - accuracy: 0.9114 - val_loss: 0.4581 - val_accuracy: 0.7193\n",
            "Epoch 6/50\n",
            "8/8 [==============================] - 10s 1s/step - loss: 0.1388 - accuracy: 0.9814 - val_loss: 0.4717 - val_accuracy: 0.7018\n",
            "Epoch 7/50\n",
            "8/8 [==============================] - 10s 1s/step - loss: 0.1119 - accuracy: 0.9542 - val_loss: 0.4471 - val_accuracy: 0.7544\n",
            "Epoch 8/50\n",
            "8/8 [==============================] - 10s 1s/step - loss: 0.0742 - accuracy: 1.0000 - val_loss: 0.4161 - val_accuracy: 0.7544\n",
            "Epoch 9/50\n",
            "8/8 [==============================] - 10s 1s/step - loss: 0.0674 - accuracy: 0.9814 - val_loss: 0.4543 - val_accuracy: 0.7895\n",
            "Epoch 10/50\n",
            "8/8 [==============================] - 10s 1s/step - loss: 0.0513 - accuracy: 0.9880 - val_loss: 0.4149 - val_accuracy: 0.7368\n",
            "Epoch 11/50\n",
            "8/8 [==============================] - 10s 1s/step - loss: 0.0536 - accuracy: 0.9897 - val_loss: 0.4202 - val_accuracy: 0.8421\n",
            "Epoch 12/50\n",
            "8/8 [==============================] - 10s 1s/step - loss: 0.0421 - accuracy: 0.9814 - val_loss: 0.4579 - val_accuracy: 0.7544\n",
            "Epoch 13/50\n",
            "8/8 [==============================] - 10s 1s/step - loss: 0.0252 - accuracy: 1.0000 - val_loss: 0.4317 - val_accuracy: 0.7719\n",
            "Epoch 14/50\n",
            "8/8 [==============================] - 10s 1s/step - loss: 0.0188 - accuracy: 1.0000 - val_loss: 0.4599 - val_accuracy: 0.7544\n",
            "Epoch 15/50\n",
            "8/8 [==============================] - 10s 1s/step - loss: 0.0213 - accuracy: 1.0000 - val_loss: 0.4357 - val_accuracy: 0.8070\n",
            "Epoch 16/50\n",
            "8/8 [==============================] - 10s 1s/step - loss: 0.0198 - accuracy: 1.0000 - val_loss: 0.4569 - val_accuracy: 0.7544\n",
            "Epoch 17/50\n",
            "8/8 [==============================] - 10s 1s/step - loss: 0.0158 - accuracy: 1.0000 - val_loss: 0.4362 - val_accuracy: 0.7719\n",
            "Epoch 18/50\n",
            "8/8 [==============================] - 10s 1s/step - loss: 0.0151 - accuracy: 1.0000 - val_loss: 0.4805 - val_accuracy: 0.7895\n",
            "Epoch 19/50\n",
            "8/8 [==============================] - 10s 1s/step - loss: 0.0095 - accuracy: 1.0000 - val_loss: 0.4325 - val_accuracy: 0.8246\n",
            "Epoch 20/50\n",
            "8/8 [==============================] - 10s 1s/step - loss: 0.0103 - accuracy: 1.0000 - val_loss: 0.4709 - val_accuracy: 0.7895\n",
            "Epoch 21/50\n",
            "8/8 [==============================] - 10s 1s/step - loss: 0.0052 - accuracy: 1.0000 - val_loss: 0.4949 - val_accuracy: 0.7719\n",
            "Epoch 22/50\n",
            "8/8 [==============================] - 10s 1s/step - loss: 0.0056 - accuracy: 1.0000 - val_loss: 0.3999 - val_accuracy: 0.8421\n",
            "Epoch 23/50\n",
            "8/8 [==============================] - 10s 1s/step - loss: 0.0060 - accuracy: 1.0000 - val_loss: 0.5237 - val_accuracy: 0.7895\n",
            "Epoch 24/50\n",
            "8/8 [==============================] - 10s 1s/step - loss: 0.0043 - accuracy: 1.0000 - val_loss: 0.5104 - val_accuracy: 0.7719\n",
            "Epoch 25/50\n",
            "8/8 [==============================] - 10s 1s/step - loss: 0.0043 - accuracy: 1.0000 - val_loss: 0.4492 - val_accuracy: 0.7895\n",
            "Epoch 26/50\n",
            "8/8 [==============================] - 10s 1s/step - loss: 0.0032 - accuracy: 1.0000 - val_loss: 0.4503 - val_accuracy: 0.7719\n",
            "Epoch 27/50\n",
            "8/8 [==============================] - 10s 1s/step - loss: 0.0057 - accuracy: 1.0000 - val_loss: 0.4636 - val_accuracy: 0.8421\n",
            "Epoch 28/50\n",
            "8/8 [==============================] - 10s 1s/step - loss: 0.0041 - accuracy: 1.0000 - val_loss: 0.5195 - val_accuracy: 0.8246\n",
            "Epoch 29/50\n",
            "8/8 [==============================] - 10s 1s/step - loss: 0.0025 - accuracy: 1.0000 - val_loss: 0.4409 - val_accuracy: 0.8246\n",
            "Epoch 30/50\n",
            "8/8 [==============================] - 10s 1s/step - loss: 0.0026 - accuracy: 1.0000 - val_loss: 0.5244 - val_accuracy: 0.7719\n",
            "Epoch 31/50\n",
            "8/8 [==============================] - 10s 1s/step - loss: 0.0023 - accuracy: 1.0000 - val_loss: 0.5529 - val_accuracy: 0.8070\n",
            "Epoch 32/50\n",
            "8/8 [==============================] - 10s 1s/step - loss: 0.0024 - accuracy: 1.0000 - val_loss: 0.4749 - val_accuracy: 0.8246\n",
            "Epoch 33/50\n",
            "8/8 [==============================] - 10s 1s/step - loss: 0.0025 - accuracy: 1.0000 - val_loss: 0.4764 - val_accuracy: 0.8421\n",
            "Epoch 34/50\n",
            "8/8 [==============================] - 10s 1s/step - loss: 0.0045 - accuracy: 1.0000 - val_loss: 0.4361 - val_accuracy: 0.8246\n",
            "Epoch 35/50\n",
            "8/8 [==============================] - 10s 1s/step - loss: 0.0016 - accuracy: 1.0000 - val_loss: 0.5454 - val_accuracy: 0.7895\n",
            "Epoch 36/50\n",
            "8/8 [==============================] - 10s 1s/step - loss: 0.0019 - accuracy: 1.0000 - val_loss: 0.5712 - val_accuracy: 0.7895\n",
            "Epoch 37/50\n",
            "8/8 [==============================] - 10s 1s/step - loss: 0.0016 - accuracy: 1.0000 - val_loss: 0.4692 - val_accuracy: 0.8246\n",
            "Epoch 38/50\n",
            "8/8 [==============================] - 10s 1s/step - loss: 0.0032 - accuracy: 1.0000 - val_loss: 0.5001 - val_accuracy: 0.8070\n",
            "Epoch 39/50\n",
            "8/8 [==============================] - 10s 1s/step - loss: 8.8414e-04 - accuracy: 1.0000 - val_loss: 0.5278 - val_accuracy: 0.8246\n",
            "Epoch 40/50\n",
            "8/8 [==============================] - 10s 1s/step - loss: 8.7022e-04 - accuracy: 1.0000 - val_loss: 0.5638 - val_accuracy: 0.8070\n",
            "Epoch 41/50\n",
            "8/8 [==============================] - 10s 1s/step - loss: 0.0014 - accuracy: 1.0000 - val_loss: 0.5142 - val_accuracy: 0.8070\n",
            "Epoch 42/50\n",
            "8/8 [==============================] - 10s 1s/step - loss: 8.5998e-04 - accuracy: 1.0000 - val_loss: 0.4475 - val_accuracy: 0.8421\n",
            "Epoch 43/50\n",
            "8/8 [==============================] - 10s 1s/step - loss: 9.3695e-04 - accuracy: 1.0000 - val_loss: 0.5777 - val_accuracy: 0.7895\n",
            "Epoch 44/50\n",
            "8/8 [==============================] - 10s 1s/step - loss: 7.1094e-04 - accuracy: 1.0000 - val_loss: 0.5627 - val_accuracy: 0.8246\n",
            "Epoch 45/50\n",
            "8/8 [==============================] - 10s 1s/step - loss: 0.0013 - accuracy: 1.0000 - val_loss: 0.5953 - val_accuracy: 0.8070\n",
            "Epoch 46/50\n",
            "8/8 [==============================] - 10s 1s/step - loss: 0.0013 - accuracy: 1.0000 - val_loss: 0.5983 - val_accuracy: 0.8070\n",
            "Epoch 47/50\n",
            "8/8 [==============================] - 10s 1s/step - loss: 0.0011 - accuracy: 1.0000 - val_loss: 0.5672 - val_accuracy: 0.8070\n",
            "Epoch 48/50\n",
            "8/8 [==============================] - 10s 1s/step - loss: 0.0019 - accuracy: 1.0000 - val_loss: 0.5099 - val_accuracy: 0.8246\n",
            "Epoch 49/50\n",
            "8/8 [==============================] - 10s 1s/step - loss: 6.6666e-04 - accuracy: 1.0000 - val_loss: 0.5375 - val_accuracy: 0.8070\n",
            "Epoch 50/50\n",
            "8/8 [==============================] - 10s 1s/step - loss: 0.0011 - accuracy: 1.0000 - val_loss: 0.4891 - val_accuracy: 0.8246\n",
            "CPU times: user 4min 28s, sys: 1min, total: 5min 28s\n",
            "Wall time: 9min 51s\n"
          ],
          "name": "stdout"
        }
      ]
    },
    {
      "cell_type": "markdown",
      "metadata": {
        "id": "q4oFg-3EVfYV"
      },
      "source": [
        "> ### 6) 학습 결과 평가"
      ]
    },
    {
      "cell_type": "code",
      "metadata": {
        "colab": {
          "base_uri": "https://localhost:8080/"
        },
        "id": "-jmRlLoFC-yL",
        "outputId": "b09e5282-2d19-41ed-c10e-5e1a368a6cff"
      },
      "source": [
        "loss, accuracy = model.evaluate(valid_generator)\n",
        "loss, accuracy"
      ],
      "execution_count": 11,
      "outputs": [
        {
          "output_type": "stream",
          "text": [
            "4/4 [==============================] - 14s 4s/step - loss: 0.5500 - accuracy: 0.8125\n"
          ],
          "name": "stdout"
        },
        {
          "output_type": "execute_result",
          "data": {
            "text/plain": [
              "(0.5499529838562012, 0.8125)"
            ]
          },
          "metadata": {
            "tags": []
          },
          "execution_count": 11
        }
      ]
    },
    {
      "cell_type": "markdown",
      "metadata": {
        "id": "n3VqaqlEVu5b"
      },
      "source": [
        "* 결과 시각화"
      ]
    },
    {
      "cell_type": "code",
      "metadata": {
        "colab": {
          "base_uri": "https://localhost:8080/",
          "height": 791
        },
        "id": "KJM1ucreC-yM",
        "outputId": "0560a2f2-653e-455c-ae04-dec150e8cc86"
      },
      "source": [
        "import matplotlib.pyplot as plt\n",
        "\n",
        "epochs = range(1, len(Hist.history['loss']) + 1)\n",
        "\n",
        "plt.figure(figsize = (9, 6))\n",
        "plt.plot(epochs, Hist.history['loss'])\n",
        "plt.plot(epochs, Hist.history['val_loss'])\n",
        "\n",
        "plt.title('Training & Validation Loss')\n",
        "plt.xlabel('Epochs')\n",
        "plt.ylabel('Loss')\n",
        "plt.legend(['Training Loss', 'Validation Loss'])\n",
        "plt.grid()\n",
        "plt.show()\n",
        "\n",
        "plt.figure(figsize = (9, 6))\n",
        "plt.plot(epochs, Hist.history['accuracy'])\n",
        "plt.plot(epochs, Hist.history['val_accuracy'])\n",
        "\n",
        "plt.title('Training & Validation accuracy')\n",
        "plt.xlabel('Epochs')\n",
        "plt.ylabel('accuracy')\n",
        "plt.legend(['Training accuracy', 'Validation accuracy'])\n",
        "plt.grid()\n",
        "plt.show()"
      ],
      "execution_count": 18,
      "outputs": [
        {
          "output_type": "display_data",
          "data": {
            "image/png": "[encoded data removed]",
            "text/plain": [
              "<Figure size 648x432 with 1 Axes>"
            ]
          },
          "metadata": {
            "tags": [],
            "needs_background": "light"
          }
        },
        {
          "output_type": "display_data",
          "data": {
            "image/png": "[encoded data removed]",
            "text/plain": [
              "<Figure size 648x432 with 1 Axes>"
            ]
          },
          "metadata": {
            "tags": [],
            "needs_background": "light"
          }
        }
      ]
    },
    {
      "cell_type": "markdown",
      "metadata": {
        "id": "tnFpIJWOcTil"
      },
      "source": [
        "## confusion matrix_1Batch"
      ]
    },
    {
      "cell_type": "code",
      "metadata": {
        "colab": {
          "base_uri": "https://localhost:8080/"
        },
        "id": "ex7w0CgQ5Ep_",
        "outputId": "8ade7af5-1e6f-4769-c5e3-7bbcf5a72e74"
      },
      "source": [
        "for pred, label in valid_generator:\n",
        "  print('prediction: ', pred.shape)\n",
        "  print('label: ', label.shape)\n",
        "  break"
      ],
      "execution_count": null,
      "outputs": [
        {
          "output_type": "stream",
          "text": [
            "prediction:  (19, 640, 640, 3)\n",
            "label:  (19, 2)\n"
          ],
          "name": "stdout"
        }
      ]
    },
    {
      "cell_type": "markdown",
      "metadata": {
        "id": "UqzhgyWTV2CZ"
      },
      "source": [
        "## 4. 모델 분류 결과 시각화"
      ]
    },
    {
      "cell_type": "markdown",
      "metadata": {
        "id": "WxuA4qDhWCVA"
      },
      "source": [
        "> ### 1) 분류할 데이터 경로 저장"
      ]
    },
    {
      "cell_type": "code",
      "metadata": {
        "colab": {
          "base_uri": "https://localhost:8080/"
        },
        "id": "X7oTCKOETDlj",
        "outputId": "5c8ae664-cfb4-4311-9b89-d632c25f6633"
      },
      "source": [
        "import pathlib\n",
        "from glob import glob\n",
        "\n",
        "data_root = pathlib.Path(glob('/content/*/')[2])\n",
        "print(data_root)\n",
        "# label = ['0','1']\n",
        "\n",
        "all_image_paths = list(data_root.glob('*/*'))\n",
        "all_image_paths = [str(path) for path in all_image_paths]"
      ],
      "execution_count": 25,
      "outputs": [
        {
          "output_type": "stream",
          "text": [
            "/content/test\n"
          ],
          "name": "stdout"
        }
      ]
    },
    {
      "cell_type": "markdown",
      "metadata": {
        "id": "Iu_0-IFoWPnF"
      },
      "source": [
        "* random으로 데이터 선택 및 데이터 경로 확인"
      ]
    },
    {
      "cell_type": "code",
      "metadata": {
        "colab": {
          "base_uri": "https://localhost:8080/",
          "height": 35
        },
        "id": "GgpkheJR58sK",
        "outputId": "830e4507-4fd3-46c3-89c2-a1aa665b5ae6"
      },
      "source": [
        "import random\n",
        "\n",
        "random.choice(all_image_paths)"
      ],
      "execution_count": 27,
      "outputs": [
        {
          "output_type": "execute_result",
          "data": {
            "application/vnd.google.colaboratory.intrinsic+json": {
              "type": "string"
            },
            "text/plain": [
              "'/content/test/0/전신샷그램1347.jpg'"
            ]
          },
          "metadata": {
            "tags": []
          },
          "execution_count": 27
        }
      ]
    },
    {
      "cell_type": "markdown",
      "metadata": {
        "id": "gBi4KMHuWgGD"
      },
      "source": [
        "> ### 2) 분류할 데이터의 정답 Label 확인"
      ]
    },
    {
      "cell_type": "code",
      "metadata": {
        "id": "OQ-komn-S-d0"
      },
      "source": [
        "import PIL.Image as Image\n",
        "import matplotlib.pyplot as plt\n",
        "\n",
        "image_count = len(all_image_paths)\n",
        "print('image_count:', image_count)\n",
        "\n",
        "plt.figure(figsize=(12,12))\n",
        "for n in range(9):\n",
        "  image_path = random.choice(all_image_paths)\n",
        "  plt.subplot(3,3, n+1)\n",
        "  plt.imshow(plt.imread(image_path))\n",
        "  idx = image_path.split('/')[-2]\n",
        "  plt.title(str(idx)) # 1 -> Best , 0 -> Worst\n",
        "  plt.axis('off')\n",
        "plt.show()"
      ],
      "execution_count": null,
      "outputs": []
    },
    {
      "cell_type": "code",
      "metadata": {
        "id": "4K-50ukD5GVD"
      },
      "source": [
        "import cv2\n",
        "\n",
        "plt.figure(figsize=((16, 16)))\n",
        "\n",
        "def softmax(x):\n",
        "    m = np.max(x)\n",
        "    sm = np.exp(x - m)/np.sum(np.exp(x - m))\n",
        "    return sm\n",
        "  \n",
        "def sigmoid(x):\n",
        "  return 1 / (1 + math.exp(-x))\n",
        "\n",
        "for n in range(9):\n",
        "    #랜덤 이미지 경로 추출\n",
        "    image_path = random.choice(all_image_paths)\n",
        "\n",
        "    #이미지 크기 변경 및 정규화\n",
        "    img = cv2.imread(image_path)\n",
        "    # img = cv2.resize(img, dsize=(224, 224))\n",
        "    img = img / 255.0  # 3차원 행렬(224, 224, 3)\n",
        "    img = np.expand_dims(img, axis=0)  # 4차원 (1, 224, 224, 3)\n",
        "\n",
        "    # 이미지 분류\n",
        "    logits = model.predict(img)[0]\n",
        "\n",
        "    #이미지 출력\n",
        "    plt.subplot(3,3, n+1)\n",
        "    plt.imshow(plt.imread(image_path))\n",
        "    idx = image_path.split('/')[-2]\n",
        "    plt.title('label: ' + str(idx))\n",
        "    plt.xlabel(logits)\n",
        "\n",
        "    # 출력 결과 형태\n",
        "    # title : Label 0/1\n",
        "    # image\n",
        "    # [0으로 분류할 확률, 1로 분류할 확률] -> Softmax 이므로 총합이 1이 되는 두 가지 확률값으로 출력됨"
      ],
      "execution_count": null,
      "outputs": []
    }
  ]
}