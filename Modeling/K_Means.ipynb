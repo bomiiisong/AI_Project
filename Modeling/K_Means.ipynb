{
  "nbformat": 4,
  "nbformat_minor": 0,
  "metadata": {
    "colab": {
      "name": "k-means_Test.ipynb",
      "provenance": [],
      "collapsed_sections": [],
      "authorship_tag": "ABX9TyNE+OE8JVAZARu8afiz8RP/",
      "include_colab_link": true
    },
    "kernelspec": {
      "name": "python3",
      "display_name": "Python 3"
    },
    "language_info": {
      "name": "python"
    },
    "accelerator": "GPU"
  },
  "cells": [
    {
      "cell_type": "markdown",
      "metadata": {
        "id": "view-in-github",
        "colab_type": "text"
      },
      "source": [
        "<a href=\"https://colab.research.google.com/github/bomiiisong/AI_Project/blob/master/Modeling/K_Means.ipynb\" target=\"_parent\"><img src=\"https://colab.research.google.com/assets/colab-badge.svg\" alt=\"Open In Colab\"/></a>"
      ]
    },
    {
      "cell_type": "markdown",
      "metadata": {
        "id": "b1zmDfL2i9SH"
      },
      "source": [
        "# K-Means Clustering\n",
        "\n",
        "Reference : https://towardsdatascience.com/image-clustering-using-k-means-4a78478d2b83"
      ]
    },
    {
      "cell_type": "markdown",
      "metadata": {
        "id": "zYRgZe_n2Ije"
      },
      "source": [
        "* Google Drive Mount"
      ]
    },
    {
      "cell_type": "code",
      "metadata": {
        "colab": {
          "base_uri": "https://localhost:8080/"
        },
        "id": "IfoTLFGVshXs",
        "outputId": "0f85a614-a854-482e-d06b-a5fb69f08de8"
      },
      "source": [
        "from google.colab import drive\n",
        "\n",
        "drive.mount('/content/drive')"
      ],
      "execution_count": 2,
      "outputs": [
        {
          "output_type": "stream",
          "text": [
            "Mounted at /content/drive\n"
          ],
          "name": "stdout"
        }
      ]
    },
    {
      "cell_type": "markdown",
      "metadata": {
        "id": "7p2pmJ8C2LOj"
      },
      "source": [
        "* Dataset Check"
      ]
    },
    {
      "cell_type": "code",
      "metadata": {
        "colab": {
          "base_uri": "https://localhost:8080/"
        },
        "id": "QjB8vy4Qsnbc",
        "outputId": "f29e0959-a315-4697-893d-6908abae7131"
      },
      "source": [
        "!ls -l '/content/drive/My Drive/AI_team3/dataset_final/img_kmeans.zip'"
      ],
      "execution_count": 3,
      "outputs": [
        {
          "output_type": "stream",
          "text": [
            "-rw------- 1 root root 51734047 Apr 16 08:38 '/content/drive/My Drive/AI_team3/dataset_final/img_kmeans.zip'\n"
          ],
          "name": "stdout"
        }
      ]
    },
    {
      "cell_type": "markdown",
      "metadata": {
        "id": "NkpgSVqr2M-q"
      },
      "source": [
        "* Unzip File"
      ]
    },
    {
      "cell_type": "code",
      "metadata": {
        "id": "21FL0NixtqGw"
      },
      "source": [
        "!unzip /content/drive/My\\ Drive/AI_team3/dataset_final/img_kmeans.zip"
      ],
      "execution_count": null,
      "outputs": []
    },
    {
      "cell_type": "markdown",
      "metadata": {
        "id": "SYtvu0tP2PHn"
      },
      "source": [
        "* Import Packages"
      ]
    },
    {
      "cell_type": "code",
      "metadata": {
        "id": "wv8UFxiMttSc"
      },
      "source": [
        "from keras.applications import VGG16\n",
        "from tensorflow.keras.applications.inception_v3 import preprocess_input\n",
        "from tensorflow.keras.preprocessing import image\n",
        "from tensorflow.keras.preprocessing.image import img_to_array\n",
        "from sklearn.cluster import KMeans\n",
        "import pandas as pd\n",
        "import numpy as np\n",
        "import keras\n",
        "import tensorflow\n",
        "from tqdm import tqdm\n",
        "import os\n",
        "import shutil"
      ],
      "execution_count": 5,
      "outputs": []
    },
    {
      "cell_type": "markdown",
      "metadata": {
        "id": "6QvP2MFk2YAq"
      },
      "source": [
        "* Function to Extract features from the images"
      ]
    },
    {
      "cell_type": "code",
      "metadata": {
        "id": "vkvQBj6nuOSD"
      },
      "source": [
        "# Function to Extract features from the images\n",
        "def image_feature(direc):\n",
        "    model = VGG16(weights='imagenet', include_top=False)\n",
        "    features = [];\n",
        "    img_name = [];\n",
        "    for i in tqdm(direc):\n",
        "        fname='/content/data'+'/'+i\n",
        "        img=image.load_img(fname,target_size=(640, 640, 3))\n",
        "        x = img_to_array(img)\n",
        "        x=np.expand_dims(x,axis=0)\n",
        "        x=preprocess_input(x)\n",
        "        feat=model.predict(x)\n",
        "        feat=feat.flatten()\n",
        "        features.append(feat)\n",
        "        img_name.append(i)\n",
        "    return features,img_name"
      ],
      "execution_count": 6,
      "outputs": []
    },
    {
      "cell_type": "markdown",
      "metadata": {
        "id": "nAPcneer2bLQ"
      },
      "source": [
        "* Load image path for Extract Features"
      ]
    },
    {
      "cell_type": "code",
      "metadata": {
        "colab": {
          "base_uri": "https://localhost:8080/"
        },
        "id": "lyJVaWPEub42",
        "outputId": "22ee9285-09c5-4bbf-8fab-c8fdf19473a3"
      },
      "source": [
        "img_path=os.listdir('/content/data')\n",
        "img_features,img_name=image_feature(img_path)"
      ],
      "execution_count": 8,
      "outputs": [
        {
          "output_type": "stream",
          "text": [
            "Downloading data from https://storage.googleapis.com/tensorflow/keras-applications/vgg16/vgg16_weights_tf_dim_ordering_tf_kernels_notop.h5\n",
            "58892288/58889256 [==============================] - 0s 0us/step\n"
          ],
          "name": "stdout"
        },
        {
          "output_type": "stream",
          "text": [
            "100%|██████████| 544/544 [01:16<00:00,  7.15it/s]\n"
          ],
          "name": "stderr"
        }
      ]
    },
    {
      "cell_type": "markdown",
      "metadata": {
        "id": "8ZQaqU9d2nWq"
      },
      "source": [
        "* Cluster Model"
      ]
    },
    {
      "cell_type": "code",
      "metadata": {
        "colab": {
          "base_uri": "https://localhost:8080/"
        },
        "id": "sO9UIjOmuxmW",
        "outputId": "a61f1e99-4828-401a-b0ad-28ff41f0e750"
      },
      "source": [
        "#Creating Clusters\n",
        "k = 2\n",
        "clusters = KMeans(k, random_state = 827)\n",
        "clusters.fit(img_features)"
      ],
      "execution_count": 9,
      "outputs": [
        {
          "output_type": "execute_result",
          "data": {
            "text/plain": [
              "KMeans(algorithm='auto', copy_x=True, init='k-means++', max_iter=300,\n",
              "       n_clusters=2, n_init=10, n_jobs=None, precompute_distances='auto',\n",
              "       random_state=827, tol=0.0001, verbose=0)"
            ]
          },
          "metadata": {
            "tags": []
          },
          "execution_count": 9
        }
      ]
    },
    {
      "cell_type": "markdown",
      "metadata": {
        "id": "I8yMe4lW2rkO"
      },
      "source": [
        "* Create dataframe with result of clustering"
      ]
    },
    {
      "cell_type": "code",
      "metadata": {
        "colab": {
          "base_uri": "https://localhost:8080/",
          "height": 419
        },
        "id": "zcC-k6n-02ni",
        "outputId": "6596a3d0-868f-4968-d5c5-949e1ee62c0e"
      },
      "source": [
        "image_cluster = pd.DataFrame(img_name,columns=['image'])\n",
        "image_cluster[\"clusterid\"] = clusters.labels_\n",
        "image_cluster # 0 denotes cat and 1 denotes dog"
      ],
      "execution_count": 10,
      "outputs": [
        {
          "output_type": "execute_result",
          "data": {
            "text/html": [
              "<div>\n",
              "<style scoped>\n",
              "    .dataframe tbody tr th:only-of-type {\n",
              "        vertical-align: middle;\n",
              "    }\n",
              "\n",
              "    .dataframe tbody tr th {\n",
              "        vertical-align: top;\n",
              "    }\n",
              "\n",
              "    .dataframe thead th {\n",
              "        text-align: right;\n",
              "    }\n",
              "</style>\n",
              "<table border=\"1\" class=\"dataframe\">\n",
              "  <thead>\n",
              "    <tr style=\"text-align: right;\">\n",
              "      <th></th>\n",
              "      <th>image</th>\n",
              "      <th>clusterid</th>\n",
              "    </tr>\n",
              "  </thead>\n",
              "  <tbody>\n",
              "    <tr>\n",
              "      <th>0</th>\n",
              "      <td>267.jpg</td>\n",
              "      <td>1</td>\n",
              "    </tr>\n",
              "    <tr>\n",
              "      <th>1</th>\n",
              "      <td>56.jpg</td>\n",
              "      <td>0</td>\n",
              "    </tr>\n",
              "    <tr>\n",
              "      <th>2</th>\n",
              "      <td>200.jpg</td>\n",
              "      <td>1</td>\n",
              "    </tr>\n",
              "    <tr>\n",
              "      <th>3</th>\n",
              "      <td>305.jpg</td>\n",
              "      <td>1</td>\n",
              "    </tr>\n",
              "    <tr>\n",
              "      <th>4</th>\n",
              "      <td>411.jpg</td>\n",
              "      <td>0</td>\n",
              "    </tr>\n",
              "    <tr>\n",
              "      <th>...</th>\n",
              "      <td>...</td>\n",
              "      <td>...</td>\n",
              "    </tr>\n",
              "    <tr>\n",
              "      <th>539</th>\n",
              "      <td>76.jpg</td>\n",
              "      <td>1</td>\n",
              "    </tr>\n",
              "    <tr>\n",
              "      <th>540</th>\n",
              "      <td>513.jpg</td>\n",
              "      <td>0</td>\n",
              "    </tr>\n",
              "    <tr>\n",
              "      <th>541</th>\n",
              "      <td>274.jpg</td>\n",
              "      <td>1</td>\n",
              "    </tr>\n",
              "    <tr>\n",
              "      <th>542</th>\n",
              "      <td>83.jpg</td>\n",
              "      <td>0</td>\n",
              "    </tr>\n",
              "    <tr>\n",
              "      <th>543</th>\n",
              "      <td>343.jpg</td>\n",
              "      <td>0</td>\n",
              "    </tr>\n",
              "  </tbody>\n",
              "</table>\n",
              "<p>544 rows × 2 columns</p>\n",
              "</div>"
            ],
            "text/plain": [
              "       image  clusterid\n",
              "0    267.jpg          1\n",
              "1     56.jpg          0\n",
              "2    200.jpg          1\n",
              "3    305.jpg          1\n",
              "4    411.jpg          0\n",
              "..       ...        ...\n",
              "539   76.jpg          1\n",
              "540  513.jpg          0\n",
              "541  274.jpg          1\n",
              "542   83.jpg          0\n",
              "543  343.jpg          0\n",
              "\n",
              "[544 rows x 2 columns]"
            ]
          },
          "metadata": {
            "tags": []
          },
          "execution_count": 10
        }
      ]
    },
    {
      "cell_type": "markdown",
      "metadata": {
        "id": "gquMDNXH1450"
      },
      "source": [
        "* Clustering 결과 저장"
      ]
    },
    {
      "cell_type": "markdown",
      "metadata": {
        "id": "aSazA-kh29C9"
      },
      "source": [
        "* Make folder to seperate images"
      ]
    },
    {
      "cell_type": "code",
      "metadata": {
        "id": "E9t_cbT109L3"
      },
      "source": [
        "# Made folder to seperate images\n",
        "os.mkdir('/content/drive/MyDrive/best')\n",
        "os.mkdir('/content/drive/MyDrive/worst')"
      ],
      "execution_count": null,
      "outputs": []
    },
    {
      "cell_type": "code",
      "metadata": {
        "id": "tjLvTg3Axgxq"
      },
      "source": [
        "# Images will be seperated according to cluster they belong\n",
        "for i in range(len(image_cluster)):\n",
        "    if image_cluster['clusterid'][i]==1:\n",
        "        # print(image_cluster['image'])\n",
        "        shutil.move(os.path.join('/content/data', image_cluster['image'][i]), '/content/drive/MyDrive/best')\n",
        "    else:\n",
        "        # print(image_cluster['image'])\n",
        "        shutil.move(os.path.join('/content/data', image_cluster['image'][i]), '/content/drive/MyDrive/worst')"
      ],
      "execution_count": 12,
      "outputs": []
    },
    {
      "cell_type": "markdown",
      "metadata": {
        "id": "VwGG4oUO1seT"
      },
      "source": [
        "* Best Cluster Visualization"
      ]
    },
    {
      "cell_type": "code",
      "metadata": {
        "colab": {
          "base_uri": "https://localhost:8080/"
        },
        "id": "X7oTCKOETDlj",
        "outputId": "1122d8bc-8bd8-456f-f984-5d2ddb19f894"
      },
      "source": [
        "import pathlib\n",
        "from glob import glob\n",
        "\n",
        "data_root = pathlib.Path(glob('/content/drive/MyDrive/*')[7])\n",
        "print(data_root)\n",
        "# label = ['0','1']"
      ],
      "execution_count": 14,
      "outputs": [
        {
          "output_type": "stream",
          "text": [
            "/content/drive/MyDrive/best\n"
          ],
          "name": "stdout"
        }
      ]
    },
    {
      "cell_type": "code",
      "metadata": {
        "colab": {
          "base_uri": "https://localhost:8080/",
          "height": 35
        },
        "id": "GgpkheJR58sK",
        "outputId": "66782161-dba6-4aa0-d6eb-afaa14961c53"
      },
      "source": [
        "import random\n",
        "\n",
        "all_image_paths = list(data_root.glob('*'))\n",
        "all_image_paths = [str(path) for path in all_image_paths]\n",
        "\n",
        "# all_image_paths\n",
        "random.choice(all_image_paths)"
      ],
      "execution_count": 18,
      "outputs": [
        {
          "output_type": "execute_result",
          "data": {
            "application/vnd.google.colaboratory.intrinsic+json": {
              "type": "string"
            },
            "text/plain": [
              "'/content/drive/MyDrive/best/100.jpg'"
            ]
          },
          "metadata": {
            "tags": []
          },
          "execution_count": 18
        }
      ]
    },
    {
      "cell_type": "code",
      "metadata": {
        "id": "OQ-komn-S-d0"
      },
      "source": [
        "import PIL.Image as Image\n",
        "import matplotlib.pyplot as plt\n",
        "\n",
        "image_count = len(all_image_paths)\n",
        "print('image_count:', image_count)\n",
        "\n",
        "plt.figure(figsize=(12,12))\n",
        "for n in range(15):\n",
        "  image_path = random.choice(all_image_paths)\n",
        "  plt.subplot(5,3, n+1)\n",
        "  plt.imshow(plt.imread(image_path))\n",
        "  idx = image_path.split('/')[-2]\n",
        "  plt.title(str(idx)) # 1 -> Best , 0 -> Worst\n",
        "  plt.axis('off')\n",
        "plt.show()"
      ],
      "execution_count": null,
      "outputs": []
    },
    {
      "cell_type": "markdown",
      "metadata": {
        "id": "wbyeYLiQ1xQ0"
      },
      "source": [
        "* Worst Cluster Visualization"
      ]
    },
    {
      "cell_type": "code",
      "metadata": {
        "colab": {
          "base_uri": "https://localhost:8080/",
          "height": 52
        },
        "id": "51TNdG0B2laE",
        "outputId": "fe42999a-a423-4e59-c0aa-2eb29deebabf"
      },
      "source": [
        "worst_data_root = pathlib.Path(glob('/content/drive/MyDrive/*')[8])\n",
        "print(worst_data_root)\n",
        "\n",
        "worst_image_paths = list(worst_data_root.glob('*'))\n",
        "worst_image_paths = [str(path) for path in worst_image_paths]\n",
        "\n",
        "random.choice(worst_image_paths)"
      ],
      "execution_count": 20,
      "outputs": [
        {
          "output_type": "stream",
          "text": [
            "/content/drive/MyDrive/worst\n"
          ],
          "name": "stdout"
        },
        {
          "output_type": "execute_result",
          "data": {
            "application/vnd.google.colaboratory.intrinsic+json": {
              "type": "string"
            },
            "text/plain": [
              "'/content/drive/MyDrive/worst/140.jpg'"
            ]
          },
          "metadata": {
            "tags": []
          },
          "execution_count": 20
        }
      ]
    },
    {
      "cell_type": "code",
      "metadata": {
        "id": "hKU3V_O22Jqr"
      },
      "source": [
        "import PIL.Image as Image\n",
        "import matplotlib.pyplot as plt\n",
        "\n",
        "image_num = len(worst_image_paths)\n",
        "print('image_count:', image_num)\n",
        "\n",
        "plt.figure(figsize=(12,12))\n",
        "for n in range(15):\n",
        "  img_path = random.choice(worst_image_paths)\n",
        "  plt.subplot(5,3, n+1)\n",
        "  plt.imshow(plt.imread(img_path))\n",
        "  idx = img_path.split('/')[-2]\n",
        "  plt.title(str(idx)) # 1 -> Best , 0 -> Worst\n",
        "  plt.axis('off')\n",
        "plt.show()"
      ],
      "execution_count": null,
      "outputs": []
    }
  ]
}