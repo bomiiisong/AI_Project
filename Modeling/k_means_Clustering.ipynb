{
  "nbformat": 4,
  "nbformat_minor": 0,
  "metadata": {
    "accelerator": "GPU",
    "colab": {
      "name": "k_means_Test(scatter 필요).ipynb",
      "provenance": [],
      "collapsed_sections": [],
      "include_colab_link": true
    },
    "kernelspec": {
      "display_name": "Python 3",
      "name": "python3"
    },
    "language_info": {
      "name": "python"
    }
  },
  "cells": [
    {
      "cell_type": "markdown",
      "metadata": {
        "id": "view-in-github",
        "colab_type": "text"
      },
      "source": [
        "<a href=\"https://colab.research.google.com/github/bomiiisong/AI_Project/blob/master/Modeling/k_means_Clustering.ipynb\" target=\"_parent\"><img src=\"https://colab.research.google.com/assets/colab-badge.svg\" alt=\"Open In Colab\"/></a>"
      ]
    },
    {
      "cell_type": "markdown",
      "metadata": {
        "id": "b1zmDfL2i9SH"
      },
      "source": [
        "# K-Means Clustering\n",
        "\n",
        "Reference : https://towardsdatascience.com/image-clustering-using-k-means-4a78478d2b83"
      ]
    },
    {
      "cell_type": "markdown",
      "metadata": {
        "id": "zYRgZe_n2Ije"
      },
      "source": [
        "* Google Drive Mount"
      ]
    },
    {
      "cell_type": "code",
      "metadata": {
        "colab": {
          "base_uri": "https://localhost:8080/"
        },
        "id": "IfoTLFGVshXs",
        "outputId": "5ccba438-1fb5-4b05-baa6-dfae9c59c0f1"
      },
      "source": [
        "from google.colab import drive\n",
        "\n",
        "drive.mount('/content/drive')"
      ],
      "execution_count": 1,
      "outputs": [
        {
          "output_type": "stream",
          "text": [
            "Mounted at /content/drive\n"
          ],
          "name": "stdout"
        }
      ]
    },
    {
      "cell_type": "markdown",
      "metadata": {
        "id": "7p2pmJ8C2LOj"
      },
      "source": [
        "* Dataset Check"
      ]
    },
    {
      "cell_type": "code",
      "metadata": {
        "colab": {
          "base_uri": "https://localhost:8080/"
        },
        "id": "QjB8vy4Qsnbc",
        "outputId": "03318283-5ac0-47f1-81d4-2f556b1b2197"
      },
      "source": [
        "!ls -l '/content/drive/My Drive/AI_team3/img_kmeans.zip'"
      ],
      "execution_count": 2,
      "outputs": [
        {
          "output_type": "stream",
          "text": [
            "-rw------- 1 root root 51734047 Apr 21 07:50 '/content/drive/My Drive/AI_team3/img_kmeans.zip'\n"
          ],
          "name": "stdout"
        }
      ]
    },
    {
      "cell_type": "markdown",
      "metadata": {
        "id": "NkpgSVqr2M-q"
      },
      "source": [
        "* Unzip File"
      ]
    },
    {
      "cell_type": "code",
      "metadata": {
        "id": "21FL0NixtqGw"
      },
      "source": [
        "!unzip '/content/drive/My Drive/AI_team3/img_kmeans.zip'"
      ],
      "execution_count": null,
      "outputs": []
    },
    {
      "cell_type": "markdown",
      "metadata": {
        "id": "SYtvu0tP2PHn"
      },
      "source": [
        "* Import Packages"
      ]
    },
    {
      "cell_type": "code",
      "metadata": {
        "id": "wv8UFxiMttSc"
      },
      "source": [
        "from keras.applications import VGG16\n",
        "from tensorflow.keras.applications.inception_v3 import preprocess_input\n",
        "from tensorflow.keras.preprocessing import image\n",
        "from tensorflow.keras.preprocessing.image import img_to_array\n",
        "from sklearn.cluster import KMeans\n",
        "import seaborn as sns\n",
        "import pandas as pd\n",
        "import numpy as np\n",
        "import keras\n",
        "import tensorflow\n",
        "from tqdm import tqdm\n",
        "import os\n",
        "import shutil"
      ],
      "execution_count": 4,
      "outputs": []
    },
    {
      "cell_type": "markdown",
      "metadata": {
        "id": "6QvP2MFk2YAq"
      },
      "source": [
        "* Function to Extract features from the images"
      ]
    },
    {
      "cell_type": "code",
      "metadata": {
        "id": "vkvQBj6nuOSD"
      },
      "source": [
        "# Function to Extract features from the images\n",
        "def image_feature(direc):\n",
        "    model = VGG16(weights='imagenet', include_top=False)\n",
        "    features = [];\n",
        "    img_name = [];\n",
        "    for i in tqdm(direc):\n",
        "        fname='/content/data'+'/'+i\n",
        "        img=image.load_img(fname,target_size=(640, 640, 3))\n",
        "        x = img_to_array(img)\n",
        "        x=np.expand_dims(x,axis=0)\n",
        "        x=preprocess_input(x)\n",
        "        feat=model.predict(x)\n",
        "        feat=feat.flatten()\n",
        "        features.append(feat)\n",
        "        img_name.append(i)\n",
        "    return features,img_name"
      ],
      "execution_count": 5,
      "outputs": []
    },
    {
      "cell_type": "markdown",
      "metadata": {
        "id": "nAPcneer2bLQ"
      },
      "source": [
        "* Load image path for Extract Features"
      ]
    },
    {
      "cell_type": "code",
      "metadata": {
        "colab": {
          "base_uri": "https://localhost:8080/"
        },
        "id": "lyJVaWPEub42",
        "outputId": "a1d33bae-c673-4a76-d670-f3a176092fa0"
      },
      "source": [
        "img_path=os.listdir('/content/data')\n",
        "img_features,img_name=image_feature(img_path)"
      ],
      "execution_count": 6,
      "outputs": [
        {
          "output_type": "stream",
          "text": [
            "Downloading data from https://storage.googleapis.com/tensorflow/keras-applications/vgg16/vgg16_weights_tf_dim_ordering_tf_kernels_notop.h5\n",
            "58892288/58889256 [==============================] - 2s 0us/step\n"
          ],
          "name": "stdout"
        },
        {
          "output_type": "stream",
          "text": [
            "100%|██████████| 544/544 [02:40<00:00,  3.39it/s]\n"
          ],
          "name": "stderr"
        }
      ]
    },
    {
      "cell_type": "markdown",
      "metadata": {
        "id": "8ZQaqU9d2nWq"
      },
      "source": [
        "* Cluster Model"
      ]
    },
    {
      "cell_type": "code",
      "metadata": {
        "colab": {
          "base_uri": "https://localhost:8080/"
        },
        "id": "sO9UIjOmuxmW",
        "outputId": "b66122bd-ca48-4a65-90ce-233c27c6d972"
      },
      "source": [
        "%%time\n",
        "\n",
        "#Creating Clusters\n",
        "k = 2\n",
        "clusters = KMeans(k, \n",
        "                  random_state = 2045, \n",
        "                  init = 'k-means++',\n",
        "                  max_iter = 500)\n",
        "clusters.fit(img_features)"
      ],
      "execution_count": 7,
      "outputs": [
        {
          "output_type": "stream",
          "text": [
            "CPU times: user 42.1 s, sys: 2.73 s, total: 44.8 s\n",
            "Wall time: 39.5 s\n"
          ],
          "name": "stdout"
        }
      ]
    },
    {
      "cell_type": "markdown",
      "metadata": {
        "id": "I8yMe4lW2rkO"
      },
      "source": [
        "* Create dataframe with result of clustering"
      ]
    },
    {
      "cell_type": "code",
      "metadata": {
        "colab": {
          "base_uri": "https://localhost:8080/",
          "height": 419
        },
        "id": "zcC-k6n-02ni",
        "outputId": "be6cd60c-fe72-4421-f99e-6deee209180d"
      },
      "source": [
        "image_cluster = pd.DataFrame(img_name,columns=['image'])\n",
        "image_cluster[\"clusterid\"] = clusters.labels_\n",
        "image_cluster # 0 denotes cat and 1 denotes dog"
      ],
      "execution_count": null,
      "outputs": [
        {
          "output_type": "execute_result",
          "data": {
            "text/html": [
              "<div>\n",
              "<style scoped>\n",
              "    .dataframe tbody tr th:only-of-type {\n",
              "        vertical-align: middle;\n",
              "    }\n",
              "\n",
              "    .dataframe tbody tr th {\n",
              "        vertical-align: top;\n",
              "    }\n",
              "\n",
              "    .dataframe thead th {\n",
              "        text-align: right;\n",
              "    }\n",
              "</style>\n",
              "<table border=\"1\" class=\"dataframe\">\n",
              "  <thead>\n",
              "    <tr style=\"text-align: right;\">\n",
              "      <th></th>\n",
              "      <th>image</th>\n",
              "      <th>clusterid</th>\n",
              "    </tr>\n",
              "  </thead>\n",
              "  <tbody>\n",
              "    <tr>\n",
              "      <th>0</th>\n",
              "      <td>489.jpg</td>\n",
              "      <td>1</td>\n",
              "    </tr>\n",
              "    <tr>\n",
              "      <th>1</th>\n",
              "      <td>6.jpg</td>\n",
              "      <td>0</td>\n",
              "    </tr>\n",
              "    <tr>\n",
              "      <th>2</th>\n",
              "      <td>400.jpg</td>\n",
              "      <td>1</td>\n",
              "    </tr>\n",
              "    <tr>\n",
              "      <th>3</th>\n",
              "      <td>330.jpg</td>\n",
              "      <td>0</td>\n",
              "    </tr>\n",
              "    <tr>\n",
              "      <th>4</th>\n",
              "      <td>97.jpg</td>\n",
              "      <td>0</td>\n",
              "    </tr>\n",
              "    <tr>\n",
              "      <th>...</th>\n",
              "      <td>...</td>\n",
              "      <td>...</td>\n",
              "    </tr>\n",
              "    <tr>\n",
              "      <th>539</th>\n",
              "      <td>102.jpg</td>\n",
              "      <td>1</td>\n",
              "    </tr>\n",
              "    <tr>\n",
              "      <th>540</th>\n",
              "      <td>53.jpg</td>\n",
              "      <td>1</td>\n",
              "    </tr>\n",
              "    <tr>\n",
              "      <th>541</th>\n",
              "      <td>498.jpg</td>\n",
              "      <td>0</td>\n",
              "    </tr>\n",
              "    <tr>\n",
              "      <th>542</th>\n",
              "      <td>328.jpg</td>\n",
              "      <td>0</td>\n",
              "    </tr>\n",
              "    <tr>\n",
              "      <th>543</th>\n",
              "      <td>74.jpg</td>\n",
              "      <td>0</td>\n",
              "    </tr>\n",
              "  </tbody>\n",
              "</table>\n",
              "<p>544 rows × 2 columns</p>\n",
              "</div>"
            ],
            "text/plain": [
              "       image  clusterid\n",
              "0    489.jpg          1\n",
              "1      6.jpg          0\n",
              "2    400.jpg          1\n",
              "3    330.jpg          0\n",
              "4     97.jpg          0\n",
              "..       ...        ...\n",
              "539  102.jpg          1\n",
              "540   53.jpg          1\n",
              "541  498.jpg          0\n",
              "542  328.jpg          0\n",
              "543   74.jpg          0\n",
              "\n",
              "[544 rows x 2 columns]"
            ]
          },
          "metadata": {
            "tags": []
          },
          "execution_count": 8
        }
      ]
    },
    {
      "cell_type": "markdown",
      "metadata": {
        "id": "KYRuTGLNFKEE"
      },
      "source": [
        "* Feature to Vector"
      ]
    },
    {
      "cell_type": "code",
      "metadata": {
        "colab": {
          "base_uri": "https://localhost:8080/"
        },
        "id": "1tM4h4BfkPZa",
        "outputId": "7509dafe-dcbc-4337-e192-e027f4de61fa"
      },
      "source": [
        "%%time\n",
        "\n",
        "from sklearn.manifold import TSNE\n",
        "\n",
        "tsne = TSNE(n_components=2, learning_rate=100, perplexity=15, random_state=2045)\n",
        "\n",
        "tsne_vector = tsne.fit_transform(img_features)"
      ],
      "execution_count": null,
      "outputs": [
        {
          "output_type": "stream",
          "text": [
            "CPU times: user 2min 21s, sys: 115 ms, total: 2min 21s\n",
            "Wall time: 2min 18s\n"
          ],
          "name": "stdout"
        }
      ]
    },
    {
      "cell_type": "code",
      "metadata": {
        "colab": {
          "base_uri": "https://localhost:8080/"
        },
        "id": "hU_Znp-KkVnP",
        "outputId": "669246f9-ac7c-46fc-be6d-9229b1a01fa6"
      },
      "source": [
        "tsne_vector.shape"
      ],
      "execution_count": null,
      "outputs": [
        {
          "output_type": "execute_result",
          "data": {
            "text/plain": [
              "(544, 2)"
            ]
          },
          "metadata": {
            "tags": []
          },
          "execution_count": 14
        }
      ]
    },
    {
      "cell_type": "code",
      "metadata": {
        "colab": {
          "base_uri": "https://localhost:8080/",
          "height": 432
        },
        "id": "3l97BVlPlXlE",
        "outputId": "d2d9dde7-6795-4110-c94b-26812e6dd5a6"
      },
      "source": [
        "import matplotlib.pyplot as plt\n",
        "\n",
        "plt.figure(figsize=(9,7))\n",
        "fig = plt.scatter(tsne_vector[:, 0],\n",
        "                  tsne_vector[:, 1],\n",
        "                  marker='.',\n",
        "                  c = clusters.labels_,\n",
        "                  cmap='rainbow')\n",
        "cb = plt.colorbar(fig, ticks=range(10))\n",
        "\n",
        "plt.show()"
      ],
      "execution_count": null,
      "outputs": [
        {
          "output_type": "display_data",
          "data": {
            "image/png": "[encoded data removed]",
            "text/plain": [
              "<Figure size 648x504 with 2 Axes>"
            ]
          },
          "metadata": {
            "tags": [],
            "needs_background": "light"
          }
        }
      ]
    },
    {
      "cell_type": "markdown",
      "metadata": {
        "id": "gquMDNXH1450"
      },
      "source": [
        "# Clustering 결과 저장 - 오류 수정"
      ]
    },
    {
      "cell_type": "markdown",
      "metadata": {
        "id": "aSazA-kh29C9"
      },
      "source": [
        "* Make folder to seperate images"
      ]
    },
    {
      "cell_type": "code",
      "metadata": {
        "id": "E9t_cbT109L3"
      },
      "source": [
        "# Made folder to seperate images\n",
        "os.mkdir('/content/drive/MyDrive/best')  # 정확한 폴더 생성 경로 지정\n",
        "os.mkdir('/content/drive/MyDrive/worst')"
      ],
      "execution_count": null,
      "outputs": []
    },
    {
      "cell_type": "code",
      "metadata": {
        "id": "tjLvTg3Axgxq"
      },
      "source": [
        "# Images will be seperated according to cluster they belong\n",
        "for i in range(len(image_cluster)):\n",
        "    if image_cluster['clusterid'][i]==1:\n",
        "        # print(image_cluster['image'])\n",
        "        shutil.move(os.path.join('/content/imgs', image_cluster['image'][i]), '/content/drive/MyDrive/best')\n",
        "    else:\n",
        "        # print(image_cluster['image'])\n",
        "        shutil.move(os.path.join('/content/imgs', image_cluster['image'][i]), '/content/drive/MyDrive/worst')"
      ],
      "execution_count": null,
      "outputs": []
    },
    {
      "cell_type": "markdown",
      "metadata": {
        "id": "VwGG4oUO1seT"
      },
      "source": [
        "* Best Cluster Visualization"
      ]
    },
    {
      "cell_type": "code",
      "metadata": {
        "colab": {
          "base_uri": "https://localhost:8080/"
        },
        "id": "X7oTCKOETDlj",
        "outputId": "e1652bc8-b864-4a6f-a7ac-9c17ec1b3306"
      },
      "source": [
        "import pathlib\n",
        "from glob import glob\n",
        "\n",
        "data_root = pathlib.Path(glob('/content/drive/MyDrive/best')[0])\n",
        "print(data_root)\n",
        "# label = ['0','1']"
      ],
      "execution_count": null,
      "outputs": [
        {
          "output_type": "stream",
          "text": [
            "/content/drive/MyDrive/best\n"
          ],
          "name": "stdout"
        }
      ]
    },
    {
      "cell_type": "code",
      "metadata": {
        "colab": {
          "base_uri": "https://localhost:8080/",
          "height": 34
        },
        "id": "GgpkheJR58sK",
        "outputId": "8c42d47d-dde0-4d52-c3b6-9be6ce314f11"
      },
      "source": [
        "import random\n",
        "\n",
        "all_image_paths = list(data_root.glob('*'))\n",
        "all_image_paths = [str(path) for path in all_image_paths]\n",
        "\n",
        "# all_image_paths\n",
        "random.choice(all_image_paths)"
      ],
      "execution_count": null,
      "outputs": [
        {
          "output_type": "execute_result",
          "data": {
            "application/vnd.google.colaboratory.intrinsic+json": {
              "type": "string"
            },
            "text/plain": [
              "'/content/drive/MyDrive/best/96.jpg'"
            ]
          },
          "metadata": {
            "tags": []
          },
          "execution_count": 12
        }
      ]
    },
    {
      "cell_type": "code",
      "metadata": {
        "id": "OQ-komn-S-d0"
      },
      "source": [
        "import PIL.Image as Image\n",
        "import matplotlib.pyplot as plt\n",
        "\n",
        "image_count = len(all_image_paths)\n",
        "print('image_count:', image_count)\n",
        "\n",
        "plt.figure(figsize=(12,12))\n",
        "for n in range(15):\n",
        "  image_path = random.choice(all_image_paths)\n",
        "  plt.subplot(5,3, n+1)\n",
        "  plt.imshow(plt.imread(image_path))\n",
        "  idx = image_path.split('/')[-2]\n",
        "  plt.title(str(idx)) # 1 -> Best , 0 -> Worst\n",
        "  plt.axis('off')\n",
        "plt.show()"
      ],
      "execution_count": null,
      "outputs": []
    },
    {
      "cell_type": "markdown",
      "metadata": {
        "id": "wbyeYLiQ1xQ0"
      },
      "source": [
        "* Worst Cluster Visualization"
      ]
    },
    {
      "cell_type": "code",
      "metadata": {
        "colab": {
          "base_uri": "https://localhost:8080/",
          "height": 52
        },
        "id": "51TNdG0B2laE",
        "outputId": "0ffdf66d-2b62-47b4-a022-b884a55e23a1"
      },
      "source": [
        "worst_data_root = pathlib.Path(glob('/content/drive/MyDrive/worst')[0])\n",
        "print(worst_data_root)\n",
        "\n",
        "worst_image_paths = list(worst_data_root.glob('*'))\n",
        "worst_image_paths = [str(path) for path in worst_image_paths]\n",
        "\n",
        "random.choice(worst_image_paths)"
      ],
      "execution_count": null,
      "outputs": [
        {
          "output_type": "stream",
          "text": [
            "/content/drive/MyDrive/worst\n"
          ],
          "name": "stdout"
        },
        {
          "output_type": "execute_result",
          "data": {
            "application/vnd.google.colaboratory.intrinsic+json": {
              "type": "string"
            },
            "text/plain": [
              "'/content/drive/MyDrive/worst/157.jpg'"
            ]
          },
          "metadata": {
            "tags": []
          },
          "execution_count": 14
        }
      ]
    },
    {
      "cell_type": "code",
      "metadata": {
        "id": "hKU3V_O22Jqr"
      },
      "source": [
        "import PIL.Image as Image\n",
        "import matplotlib.pyplot as plt\n",
        "\n",
        "image_num = len(worst_image_paths)\n",
        "print('image_count:', image_num)\n",
        "\n",
        "plt.figure(figsize=(12,12))\n",
        "for n in range(15):\n",
        "  img_path = random.choice(worst_image_paths)\n",
        "  plt.subplot(5,3, n+1)\n",
        "  plt.imshow(plt.imread(img_path))\n",
        "  idx = img_path.split('/')[-2]\n",
        "  plt.title(str(idx)) # 1 -> Best , 0 -> Worst\n",
        "  plt.axis('off')\n",
        "plt.show()"
      ],
      "execution_count": null,
      "outputs": []
    }
  ]
}