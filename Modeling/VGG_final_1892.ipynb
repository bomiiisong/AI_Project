{
  "nbformat": 4,
  "nbformat_minor": 0,
  "metadata": {
    "accelerator": "GPU",
    "colab": {
      "name": "VGG_final_1892.ipynb",
      "provenance": [],
      "collapsed_sections": [],
      "include_colab_link": true
    },
    "kernelspec": {
      "display_name": "Python 3",
      "name": "python3"
    },
    "language_info": {
      "name": "python"
    }
  },
  "cells": [
    {
      "cell_type": "markdown",
      "metadata": {
        "id": "view-in-github",
        "colab_type": "text"
      },
      "source": [
        "<a href=\"https://colab.research.google.com/github/bomiiisong/AI_Project/blob/master/Modeling/VGG_final_1892.ipynb\" target=\"_parent\"><img src=\"https://colab.research.google.com/assets/colab-badge.svg\" alt=\"Open In Colab\"/></a>"
      ]
    },
    {
      "cell_type": "code",
      "metadata": {
        "id": "P-PrGvCenIIz"
      },
      "source": [
        "import pandas as pd\n",
        "import numpy as np\n",
        "import keras\n",
        "import tensorflow"
      ],
      "execution_count": 1,
      "outputs": []
    },
    {
      "cell_type": "code",
      "metadata": {
        "colab": {
          "base_uri": "https://localhost:8080/"
        },
        "id": "I9MfVDLNpUTQ",
        "outputId": "d294b9fc-5455-4637-ed03-05d7b275411d"
      },
      "source": [
        "from google.colab import drive\n",
        "\n",
        "drive.mount('/content/drive')"
      ],
      "execution_count": 2,
      "outputs": [
        {
          "output_type": "stream",
          "text": [
            "Mounted at /content/drive\n"
          ],
          "name": "stdout"
        }
      ]
    },
    {
      "cell_type": "code",
      "metadata": {
        "colab": {
          "base_uri": "https://localhost:8080/"
        },
        "id": "-iVQat_9MJO8",
        "outputId": "c8dce918-898a-4b8c-d236-0e8830c09914"
      },
      "source": [
        "!ls -l '/content/drive/My Drive/AI_team3/img_final_mdx.zip'"
      ],
      "execution_count": 6,
      "outputs": [
        {
          "output_type": "stream",
          "text": [
            "-rw------- 1 root root 311857006 Apr 20 06:29 '/content/drive/My Drive/AI_team3/img_final_mdx.zip'\n"
          ],
          "name": "stdout"
        }
      ]
    },
    {
      "cell_type": "code",
      "metadata": {
        "id": "kADWYxGx6VO0"
      },
      "source": [
        "!unzip /content/drive/My\\ Drive/AI_team3/img_final_mdx.zip"
      ],
      "execution_count": null,
      "outputs": []
    },
    {
      "cell_type": "code",
      "metadata": {
        "id": "O1HvvdZN8fm-"
      },
      "source": [
        "image_dir = 'img'"
      ],
      "execution_count": 8,
      "outputs": []
    },
    {
      "cell_type": "code",
      "metadata": {
        "colab": {
          "base_uri": "https://localhost:8080/"
        },
        "id": "QMf2V7KxC-yG",
        "outputId": "c8fd6da4-943a-4e6a-f4d6-665ef7f9f797"
      },
      "source": [
        "from keras.preprocessing.image import ImageDataGenerator\n",
        "\n",
        "random_seed = 414\n",
        "\n",
        "datagen = ImageDataGenerator(rescale = 1./255, validation_split=0.3)\n",
        "\n",
        "train_generator = datagen.flow_from_directory(image_dir,target_size = (640, 640), seed=random_seed,\n",
        "                                                    batch_size = 25, class_mode = 'binary', subset='training')\n",
        "valid_generator = datagen.flow_from_directory(image_dir, target_size=(640, 640), seed=random_seed,\n",
        "                                              batch_size=21, class_mode='binary', subset='validation')"
      ],
      "execution_count": 9,
      "outputs": [
        {
          "output_type": "stream",
          "text": [
            "Found 1325 images belonging to 2 classes.\n",
            "Found 567 images belonging to 2 classes.\n"
          ],
          "name": "stdout"
        }
      ]
    },
    {
      "cell_type": "code",
      "metadata": {
        "id": "Hz4YciGN-J8e"
      },
      "source": [
        "for pred, label in train_generator:\n",
        "  print(pred.shape)\n",
        "  print(label.shape)\n",
        "  print(label)\n",
        "  break"
      ],
      "execution_count": null,
      "outputs": []
    },
    {
      "cell_type": "code",
      "metadata": {
        "colab": {
          "base_uri": "https://localhost:8080/"
        },
        "id": "pGiWQuDYC-yJ",
        "outputId": "2472d8de-8ace-4384-f551-7dbc9522edbc"
      },
      "source": [
        "from keras.applications import VGG16\n",
        "\n",
        "conv_base = VGG16(weights = 'imagenet', include_top = False, input_shape = (640, 640, 3))\n",
        "\n",
        "set_trainable = False\n",
        "\n",
        "for layer in conv_base.layers:\n",
        "  if layer.name == 'block5_conv1':       \n",
        "    set_trainable = True\n",
        "\n",
        "  if set_trainable:\n",
        "    layer.trainable = True\n",
        "  else:\n",
        "    layer.trainable = False\n",
        "\n",
        "conv_base.summary()"
      ],
      "execution_count": 10,
      "outputs": [
        {
          "output_type": "stream",
          "text": [
            "Downloading data from https://storage.googleapis.com/tensorflow/keras-applications/vgg16/vgg16_weights_tf_dim_ordering_tf_kernels_notop.h5\n",
            "58892288/58889256 [==============================] - 0s 0us/step\n",
            "Model: \"vgg16\"\n",
            "_________________________________________________________________\n",
            "Layer (type)                 Output Shape              Param #   \n",
            "=================================================================\n",
            "input_1 (InputLayer)         [(None, 640, 640, 3)]     0         \n",
            "_________________________________________________________________\n",
            "block1_conv1 (Conv2D)        (None, 640, 640, 64)      1792      \n",
            "_________________________________________________________________\n",
            "block1_conv2 (Conv2D)        (None, 640, 640, 64)      36928     \n",
            "_________________________________________________________________\n",
            "block1_pool (MaxPooling2D)   (None, 320, 320, 64)      0         \n",
            "_________________________________________________________________\n",
            "block2_conv1 (Conv2D)        (None, 320, 320, 128)     73856     \n",
            "_________________________________________________________________\n",
            "block2_conv2 (Conv2D)        (None, 320, 320, 128)     147584    \n",
            "_________________________________________________________________\n",
            "block2_pool (MaxPooling2D)   (None, 160, 160, 128)     0         \n",
            "_________________________________________________________________\n",
            "block3_conv1 (Conv2D)        (None, 160, 160, 256)     295168    \n",
            "_________________________________________________________________\n",
            "block3_conv2 (Conv2D)        (None, 160, 160, 256)     590080    \n",
            "_________________________________________________________________\n",
            "block3_conv3 (Conv2D)        (None, 160, 160, 256)     590080    \n",
            "_________________________________________________________________\n",
            "block3_pool (MaxPooling2D)   (None, 80, 80, 256)       0         \n",
            "_________________________________________________________________\n",
            "block4_conv1 (Conv2D)        (None, 80, 80, 512)       1180160   \n",
            "_________________________________________________________________\n",
            "block4_conv2 (Conv2D)        (None, 80, 80, 512)       2359808   \n",
            "_________________________________________________________________\n",
            "block4_conv3 (Conv2D)        (None, 80, 80, 512)       2359808   \n",
            "_________________________________________________________________\n",
            "block4_pool (MaxPooling2D)   (None, 40, 40, 512)       0         \n",
            "_________________________________________________________________\n",
            "block5_conv1 (Conv2D)        (None, 40, 40, 512)       2359808   \n",
            "_________________________________________________________________\n",
            "block5_conv2 (Conv2D)        (None, 40, 40, 512)       2359808   \n",
            "_________________________________________________________________\n",
            "block5_conv3 (Conv2D)        (None, 40, 40, 512)       2359808   \n",
            "_________________________________________________________________\n",
            "block5_pool (MaxPooling2D)   (None, 20, 20, 512)       0         \n",
            "=================================================================\n",
            "Total params: 14,714,688\n",
            "Trainable params: 7,079,424\n",
            "Non-trainable params: 7,635,264\n",
            "_________________________________________________________________\n"
          ],
          "name": "stdout"
        }
      ]
    },
    {
      "cell_type": "code",
      "metadata": {
        "colab": {
          "base_uri": "https://localhost:8080/"
        },
        "id": "2oqfI02KC-yJ",
        "outputId": "6fe226d9-11d1-4645-a4d0-b30db1884960"
      },
      "source": [
        "from keras import models, layers, optimizers\n",
        "\n",
        "model = models.Sequential()\n",
        "model.add(conv_base)\n",
        "\n",
        "model.add(layers.Flatten())\n",
        "model.add(layers.Dense(256, activation = 'relu'))\n",
        "model.add(layers.Dropout(0.5))\n",
        "model.add(layers.Dense(1, activation = 'sigmoid'))   \n",
        "\n",
        "model.summary()\n",
        "\n",
        "\n",
        "model.compile(loss = 'binary_crossentropy', \n",
        "              optimizer = optimizers.Adam(lr = 0.000005),\n",
        "              metrics = ['accuracy'])"
      ],
      "execution_count": 11,
      "outputs": [
        {
          "output_type": "stream",
          "text": [
            "Model: \"sequential\"\n",
            "_________________________________________________________________\n",
            "Layer (type)                 Output Shape              Param #   \n",
            "=================================================================\n",
            "vgg16 (Functional)           (None, 20, 20, 512)       14714688  \n",
            "_________________________________________________________________\n",
            "flatten (Flatten)            (None, 204800)            0         \n",
            "_________________________________________________________________\n",
            "dense (Dense)                (None, 256)               52429056  \n",
            "_________________________________________________________________\n",
            "dropout (Dropout)            (None, 256)               0         \n",
            "_________________________________________________________________\n",
            "dense_1 (Dense)              (None, 1)                 257       \n",
            "=================================================================\n",
            "Total params: 67,144,001\n",
            "Trainable params: 59,508,737\n",
            "Non-trainable params: 7,635,264\n",
            "_________________________________________________________________\n"
          ],
          "name": "stdout"
        }
      ]
    },
    {
      "cell_type": "code",
      "metadata": {
        "colab": {
          "base_uri": "https://localhost:8080/"
        },
        "id": "gSd-Cx9DC-yK",
        "outputId": "257090e7-da22-455f-f8c8-4f5cf7978feb"
      },
      "source": [
        "%%time\n",
        "\n",
        "Hist = model.fit(train_generator, \n",
        "                 steps_per_epoch = train_generator.samples // train_generator.batch_size, \n",
        "                 epochs = 50, \n",
        "                 validation_data = valid_generator,\n",
        "                 validation_steps=valid_generator.samples // valid_generator.batch_size)"
      ],
      "execution_count": 12,
      "outputs": [
        {
          "output_type": "stream",
          "text": [
            "Epoch 1/50\n",
            "53/53 [==============================] - 162s 2s/step - loss: 0.6958 - accuracy: 0.5970 - val_loss: 0.4599 - val_accuracy: 0.7937\n",
            "Epoch 2/50\n",
            "53/53 [==============================] - 85s 2s/step - loss: 0.3469 - accuracy: 0.8639 - val_loss: 0.3550 - val_accuracy: 0.8201\n",
            "Epoch 3/50\n",
            "53/53 [==============================] - 85s 2s/step - loss: 0.2013 - accuracy: 0.9292 - val_loss: 0.3134 - val_accuracy: 0.8501\n",
            "Epoch 4/50\n",
            "53/53 [==============================] - 85s 2s/step - loss: 0.1428 - accuracy: 0.9536 - val_loss: 0.3081 - val_accuracy: 0.8624\n",
            "Epoch 5/50\n",
            "53/53 [==============================] - 85s 2s/step - loss: 0.1134 - accuracy: 0.9685 - val_loss: 0.2785 - val_accuracy: 0.8765\n",
            "Epoch 6/50\n",
            "53/53 [==============================] - 85s 2s/step - loss: 0.0582 - accuracy: 0.9893 - val_loss: 0.2803 - val_accuracy: 0.8748\n",
            "Epoch 7/50\n",
            "53/53 [==============================] - 86s 2s/step - loss: 0.0395 - accuracy: 0.9939 - val_loss: 0.3147 - val_accuracy: 0.8624\n",
            "Epoch 8/50\n",
            "53/53 [==============================] - 85s 2s/step - loss: 0.0302 - accuracy: 0.9959 - val_loss: 0.3039 - val_accuracy: 0.8730\n",
            "Epoch 9/50\n",
            "53/53 [==============================] - 85s 2s/step - loss: 0.0174 - accuracy: 0.9998 - val_loss: 0.3407 - val_accuracy: 0.8624\n",
            "Epoch 10/50\n",
            "53/53 [==============================] - 85s 2s/step - loss: 0.0157 - accuracy: 1.0000 - val_loss: 0.3333 - val_accuracy: 0.8713\n",
            "Epoch 11/50\n",
            "53/53 [==============================] - 85s 2s/step - loss: 0.0097 - accuracy: 1.0000 - val_loss: 0.3191 - val_accuracy: 0.8907\n",
            "Epoch 12/50\n",
            "53/53 [==============================] - 85s 2s/step - loss: 0.0092 - accuracy: 0.9998 - val_loss: 0.3243 - val_accuracy: 0.8836\n",
            "Epoch 13/50\n",
            "53/53 [==============================] - 85s 2s/step - loss: 0.0072 - accuracy: 1.0000 - val_loss: 0.3220 - val_accuracy: 0.8907\n",
            "Epoch 14/50\n",
            "53/53 [==============================] - 85s 2s/step - loss: 0.0055 - accuracy: 1.0000 - val_loss: 0.3231 - val_accuracy: 0.8942\n",
            "Epoch 15/50\n",
            "53/53 [==============================] - 86s 2s/step - loss: 0.0060 - accuracy: 1.0000 - val_loss: 0.3369 - val_accuracy: 0.8836\n",
            "Epoch 16/50\n",
            "53/53 [==============================] - 86s 2s/step - loss: 0.0057 - accuracy: 1.0000 - val_loss: 0.3546 - val_accuracy: 0.8854\n",
            "Epoch 17/50\n",
            "53/53 [==============================] - 85s 2s/step - loss: 0.0037 - accuracy: 1.0000 - val_loss: 0.3542 - val_accuracy: 0.8889\n",
            "Epoch 18/50\n",
            "53/53 [==============================] - 86s 2s/step - loss: 0.0023 - accuracy: 1.0000 - val_loss: 0.3747 - val_accuracy: 0.8818\n",
            "Epoch 19/50\n",
            "53/53 [==============================] - 86s 2s/step - loss: 0.0027 - accuracy: 1.0000 - val_loss: 0.3933 - val_accuracy: 0.8818\n",
            "Epoch 20/50\n",
            "53/53 [==============================] - 85s 2s/step - loss: 0.0016 - accuracy: 1.0000 - val_loss: 0.3734 - val_accuracy: 0.8889\n",
            "Epoch 21/50\n",
            "53/53 [==============================] - 86s 2s/step - loss: 0.0020 - accuracy: 1.0000 - val_loss: 0.3845 - val_accuracy: 0.8889\n",
            "Epoch 22/50\n",
            "53/53 [==============================] - 85s 2s/step - loss: 0.0018 - accuracy: 1.0000 - val_loss: 0.3848 - val_accuracy: 0.8854\n",
            "Epoch 23/50\n",
            "53/53 [==============================] - 85s 2s/step - loss: 0.0011 - accuracy: 1.0000 - val_loss: 0.4074 - val_accuracy: 0.8854\n",
            "Epoch 24/50\n",
            "53/53 [==============================] - 85s 2s/step - loss: 0.0011 - accuracy: 1.0000 - val_loss: 0.3979 - val_accuracy: 0.8871\n",
            "Epoch 25/50\n",
            "53/53 [==============================] - 85s 2s/step - loss: 0.0011 - accuracy: 1.0000 - val_loss: 0.3989 - val_accuracy: 0.8889\n",
            "Epoch 26/50\n",
            "53/53 [==============================] - 85s 2s/step - loss: 0.0011 - accuracy: 1.0000 - val_loss: 0.4010 - val_accuracy: 0.8959\n",
            "Epoch 27/50\n",
            "53/53 [==============================] - 85s 2s/step - loss: 8.4091e-04 - accuracy: 1.0000 - val_loss: 0.4056 - val_accuracy: 0.8924\n",
            "Epoch 28/50\n",
            "53/53 [==============================] - 85s 2s/step - loss: 6.1242e-04 - accuracy: 1.0000 - val_loss: 0.4101 - val_accuracy: 0.8924\n",
            "Epoch 29/50\n",
            "53/53 [==============================] - 85s 2s/step - loss: 6.2628e-04 - accuracy: 1.0000 - val_loss: 0.4147 - val_accuracy: 0.8924\n",
            "Epoch 30/50\n",
            "53/53 [==============================] - 86s 2s/step - loss: 6.6868e-04 - accuracy: 1.0000 - val_loss: 0.4551 - val_accuracy: 0.8818\n",
            "Epoch 31/50\n",
            "53/53 [==============================] - 85s 2s/step - loss: 8.5083e-04 - accuracy: 1.0000 - val_loss: 0.4362 - val_accuracy: 0.8836\n",
            "Epoch 32/50\n",
            "53/53 [==============================] - 85s 2s/step - loss: 0.0010 - accuracy: 1.0000 - val_loss: 0.4032 - val_accuracy: 0.8959\n",
            "Epoch 33/50\n",
            "53/53 [==============================] - 86s 2s/step - loss: 0.0013 - accuracy: 1.0000 - val_loss: 0.4181 - val_accuracy: 0.8871\n",
            "Epoch 34/50\n",
            "53/53 [==============================] - 85s 2s/step - loss: 0.0010 - accuracy: 1.0000 - val_loss: 0.4118 - val_accuracy: 0.8871\n",
            "Epoch 35/50\n",
            "53/53 [==============================] - 85s 2s/step - loss: 0.0016 - accuracy: 1.0000 - val_loss: 0.4265 - val_accuracy: 0.8871\n",
            "Epoch 36/50\n",
            "53/53 [==============================] - 86s 2s/step - loss: 4.9821e-04 - accuracy: 1.0000 - val_loss: 0.4327 - val_accuracy: 0.8907\n",
            "Epoch 37/50\n",
            "53/53 [==============================] - 86s 2s/step - loss: 5.2411e-04 - accuracy: 1.0000 - val_loss: 0.4406 - val_accuracy: 0.8871\n",
            "Epoch 38/50\n",
            "53/53 [==============================] - 85s 2s/step - loss: 4.8250e-04 - accuracy: 1.0000 - val_loss: 0.4514 - val_accuracy: 0.8854\n",
            "Epoch 39/50\n",
            "53/53 [==============================] - 85s 2s/step - loss: 4.0123e-04 - accuracy: 1.0000 - val_loss: 0.4401 - val_accuracy: 0.8942\n",
            "Epoch 40/50\n",
            "53/53 [==============================] - 86s 2s/step - loss: 2.8410e-04 - accuracy: 1.0000 - val_loss: 0.4472 - val_accuracy: 0.8907\n",
            "Epoch 41/50\n",
            "53/53 [==============================] - 85s 2s/step - loss: 2.1244e-04 - accuracy: 1.0000 - val_loss: 0.4524 - val_accuracy: 0.8924\n",
            "Epoch 42/50\n",
            "53/53 [==============================] - 85s 2s/step - loss: 2.6514e-04 - accuracy: 1.0000 - val_loss: 0.4600 - val_accuracy: 0.8924\n",
            "Epoch 43/50\n",
            "53/53 [==============================] - 86s 2s/step - loss: 3.0461e-04 - accuracy: 1.0000 - val_loss: 0.4662 - val_accuracy: 0.8889\n",
            "Epoch 44/50\n",
            "53/53 [==============================] - 86s 2s/step - loss: 5.0051e-04 - accuracy: 1.0000 - val_loss: 0.4727 - val_accuracy: 0.8889\n",
            "Epoch 45/50\n",
            "53/53 [==============================] - 85s 2s/step - loss: 2.9900e-04 - accuracy: 1.0000 - val_loss: 0.4735 - val_accuracy: 0.8907\n",
            "Epoch 46/50\n",
            "53/53 [==============================] - 85s 2s/step - loss: 2.1394e-04 - accuracy: 1.0000 - val_loss: 0.4807 - val_accuracy: 0.8907\n",
            "Epoch 47/50\n",
            "53/53 [==============================] - 86s 2s/step - loss: 1.9258e-04 - accuracy: 1.0000 - val_loss: 0.4812 - val_accuracy: 0.8854\n",
            "Epoch 48/50\n",
            "53/53 [==============================] - 85s 2s/step - loss: 1.6054e-04 - accuracy: 1.0000 - val_loss: 0.4808 - val_accuracy: 0.8924\n",
            "Epoch 49/50\n",
            "53/53 [==============================] - 85s 2s/step - loss: 1.7578e-04 - accuracy: 1.0000 - val_loss: 0.4845 - val_accuracy: 0.8942\n",
            "Epoch 50/50\n",
            "53/53 [==============================] - 86s 2s/step - loss: 2.0380e-04 - accuracy: 1.0000 - val_loss: 0.4946 - val_accuracy: 0.8871\n",
            "CPU times: user 45min 21s, sys: 5min 20s, total: 50min 42s\n",
            "Wall time: 1h 12min 29s\n"
          ],
          "name": "stdout"
        }
      ]
    },
    {
      "cell_type": "code",
      "metadata": {
        "colab": {
          "base_uri": "https://localhost:8080/"
        },
        "id": "-jmRlLoFC-yL",
        "outputId": "a715e396-f579-4f44-c7eb-3cb4b962f8c9"
      },
      "source": [
        "loss, accuracy = model.evaluate(valid_generator, steps=valid_generator.samples // valid_generator.batch_size)\n",
        "loss, accuracy"
      ],
      "execution_count": 13,
      "outputs": [
        {
          "output_type": "stream",
          "text": [
            "27/27 [==============================] - 26s 957ms/step - loss: 0.4946 - accuracy: 0.8871\n"
          ],
          "name": "stdout"
        },
        {
          "output_type": "execute_result",
          "data": {
            "text/plain": [
              "(0.49464625120162964, 0.8871251940727234)"
            ]
          },
          "metadata": {
            "tags": []
          },
          "execution_count": 13
        }
      ]
    },
    {
      "cell_type": "code",
      "metadata": {
        "id": "UNzZWOqg11SY"
      },
      "source": [
        "model.save('/content/drive/My Drive/Colab Notebooks/models/VGG16_1892.h5') # 1시간 12분 29초 소요"
      ],
      "execution_count": 14,
      "outputs": []
    },
    {
      "cell_type": "code",
      "metadata": {
        "colab": {
          "base_uri": "https://localhost:8080/"
        },
        "id": "s6eVwqSv2F8V",
        "outputId": "426ef597-d32b-4243-c883-9ae3f5a74f38"
      },
      "source": [
        "!ls -l /content/drive/My\\ Drive/Colab\\ Notebooks/models"
      ],
      "execution_count": 15,
      "outputs": [
        {
          "output_type": "stream",
          "text": [
            "total 3745504\n",
            "-rw------- 1 root root      34592 Mar 17 07:31 001_Model_iris.h5\n",
            "-rw------- 1 root root   41499744 Mar 23 06:47 002_dogs_and_cats_Augmentation.h5\n",
            "-rw------- 1 root root   41498896 Mar 23 02:16 002_dogs_and_cats_small.h5\n",
            "-rw------- 1 root root   25199032 Mar 24 05:15 004_dogs_and_cats_feature_extraction.h5\n",
            "-rw------- 1 root root  140748400 Mar 24 08:15 005_dogs_and_cats_fine_tuning.h5\n",
            "-rw------- 1 root root   41661328 Mar 23 06:45 201_CNN_Logo_Augmentation.h5\n",
            "-rw------- 1 root root 2800023136 Apr 20 08:36 ResNet_all_train.h5\n",
            "-rw------- 1 root root  744728176 Apr 20 10:34 VGG16_1892.h5\n"
          ],
          "name": "stdout"
        }
      ]
    },
    {
      "cell_type": "code",
      "metadata": {
        "id": "lIx2aQTB2GWU"
      },
      "source": [
        "from keras.models import load_model\n",
        "model_loading = load_model('/content/drive/My Drive/Colab Notebooks/models/VGG16_1892.h5')"
      ],
      "execution_count": 17,
      "outputs": []
    },
    {
      "cell_type": "code",
      "metadata": {
        "colab": {
          "base_uri": "https://localhost:8080/"
        },
        "id": "RB_UV7LE2N7M",
        "outputId": "e37a0568-c8e7-4e9a-bede-ec5c3eecf1b8"
      },
      "source": [
        "loss, accuracy = model_loading.evaluate(valid_generator, steps=valid_generator.n // valid_generator.batch_size)\n",
        "\n",
        "print(f'Loss : {loss:.5f}')\n",
        "print(f'Accuracy : {accuracy:.5f}')"
      ],
      "execution_count": 18,
      "outputs": [
        {
          "output_type": "stream",
          "text": [
            "27/27 [==============================] - 25s 922ms/step - loss: 0.4946 - accuracy: 0.8871\n",
            "Loss : 0.49465\n",
            "Accuracy : 0.88713\n"
          ],
          "name": "stdout"
        }
      ]
    },
    {
      "cell_type": "markdown",
      "metadata": {
        "id": "fAxhniTi2kD2"
      },
      "source": [
        "## Visualization"
      ]
    },
    {
      "cell_type": "code",
      "metadata": {
        "colab": {
          "base_uri": "https://localhost:8080/"
        },
        "id": "2pxuhmp6dt30",
        "outputId": "29093554-b26e-41f6-d67b-6d4bf493edac"
      },
      "source": [
        "import pathlib\n",
        "from glob import glob\n",
        "\n",
        "data_root = pathlib.Path(glob('/content/*/*/')[0])\n",
        "print(data_root)\n",
        "# label = ['0','1']"
      ],
      "execution_count": 19,
      "outputs": [
        {
          "output_type": "stream",
          "text": [
            "/content/img/1\n"
          ],
          "name": "stdout"
        }
      ]
    },
    {
      "cell_type": "code",
      "metadata": {
        "id": "SErl6EkreDX4"
      },
      "source": [
        "import random\n",
        "\n",
        "all_image_paths = list(data_root.glob('*'))\n",
        "all_image_paths = [str(path) for path in all_image_paths]\n",
        "\n",
        "# random.choice(all_image_paths)\n",
        "\n",
        "all_image_paths"
      ],
      "execution_count": null,
      "outputs": []
    },
    {
      "cell_type": "code",
      "metadata": {
        "id": "AOCNMQXLeIbA"
      },
      "source": [
        "import cv2\n",
        "import numpy as np\n",
        "import matplotlib.pyplot as plt\n",
        "\n",
        "plt.figure(figsize=(20,10))\n",
        "\n",
        "paths = all_image_paths[:10]\n",
        "\n",
        "for idx, image in enumerate(paths) :\n",
        "    img = cv2.imread(image)\n",
        "    img = cv2.resize(img, dsize=(640,640))\n",
        "    img = img / 255.0\n",
        "    img = np.expand_dims(img, axis=0)\n",
        "\n",
        "    logits = model_loading.predict(img)[0]\n",
        "    \n",
        "    plt.subplot(2, 5, idx+1)\n",
        "    plt.imshow(plt.imread(image))\n",
        "    label = image.split('/')[-2]\n",
        "    plt.title(\"label : \" + str(label))\n",
        "    plt.xlabel(logits)"
      ],
      "execution_count": null,
      "outputs": []
    },
    {
      "cell_type": "markdown",
      "metadata": {
        "id": "-CJ3zdZ0hnuS"
      },
      "source": [
        "* worst"
      ]
    },
    {
      "cell_type": "code",
      "metadata": {
        "colab": {
          "base_uri": "https://localhost:8080/"
        },
        "id": "1FNKh9VjhpiR",
        "outputId": "5435f11b-567f-47c3-d0b8-dd6ab8c7c2b7"
      },
      "source": [
        "import pathlib\n",
        "from glob import glob\n",
        "\n",
        "data_root_worst = pathlib.Path(glob('/content/*/*/')[1])\n",
        "print(data_root_worst)\n",
        "# label = ['0','1']"
      ],
      "execution_count": 23,
      "outputs": [
        {
          "output_type": "stream",
          "text": [
            "/content/img/0\n"
          ],
          "name": "stdout"
        }
      ]
    },
    {
      "cell_type": "code",
      "metadata": {
        "id": "msgam3NOhpiS"
      },
      "source": [
        "import random\n",
        "\n",
        "worst_image_paths = list(data_root_worst.glob('*'))\n",
        "worst_image_paths = [str(path) for path in worst_image_paths]\n",
        "\n",
        "# random.choice(all_image_paths)\n",
        "\n",
        "worst_image_paths"
      ],
      "execution_count": null,
      "outputs": []
    },
    {
      "cell_type": "code",
      "metadata": {
        "id": "oyX-FBh3hpiU"
      },
      "source": [
        "import cv2\n",
        "import numpy as np\n",
        "\n",
        "plt.figure(figsize=(20,10))\n",
        "\n",
        "paths_worst = worst_image_paths[:10]\n",
        "\n",
        "for idx, image in enumerate(paths_worst) :\n",
        "    worst_img = cv2.imread(image)\n",
        "    worst_img = cv2.resize(worst_img, dsize=(640,640))\n",
        "    worst_img = worst_img / 255.0\n",
        "    worst_img = np.expand_dims(worst_img, axis=0)\n",
        "\n",
        "    logits_2 = model_loading.predict(worst_img)[0]\n",
        "    \n",
        "    plt.subplot(2, 5, idx+1)\n",
        "    plt.imshow(plt.imread(image))\n",
        "    label = image.split('/')[-2]\n",
        "    plt.title(\"label : \" + str(label))\n",
        "    plt.xlabel(logits_2)"
      ],
      "execution_count": null,
      "outputs": []
    }
  ]
}