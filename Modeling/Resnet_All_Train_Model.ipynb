{
  "nbformat": 4,
  "nbformat_minor": 0,
  "metadata": {
    "colab": {
      "name": "Resnet_models_with_initial_for_new_files.ipynb",
      "provenance": [],
      "collapsed_sections": [],
      "include_colab_link": true
    },
    "kernelspec": {
      "name": "python3",
      "display_name": "Python 3"
    },
    "language_info": {
      "name": "python"
    },
    "accelerator": "GPU"
  },
  "cells": [
    {
      "cell_type": "markdown",
      "metadata": {
        "id": "view-in-github",
        "colab_type": "text"
      },
      "source": [
        "<a href=\"https://colab.research.google.com/github/bomiiisong/AI_Project/blob/master/Modeling/Resnet_All_Train_Model.ipynb\" target=\"_parent\"><img src=\"https://colab.research.google.com/assets/colab-badge.svg\" alt=\"Open In Colab\"/></a>"
      ]
    },
    {
      "cell_type": "code",
      "metadata": {
        "id": "ZX-_PjMF2gNa",
        "colab": {
          "base_uri": "https://localhost:8080/"
        },
        "outputId": "ebe89c20-08f2-4d57-de25-774c979d6c24"
      },
      "source": [
        "from google.colab import drive\n",
        "\n",
        "drive.mount('/content/drive')"
      ],
      "execution_count": null,
      "outputs": [
        {
          "output_type": "stream",
          "text": [
            "Mounted at /content/drive\n"
          ],
          "name": "stdout"
        }
      ]
    },
    {
      "cell_type": "code",
      "metadata": {
        "id": "z2azrWPBKTTw",
        "colab": {
          "base_uri": "https://localhost:8080/"
        },
        "outputId": "6ac3d167-e324-4394-c2a7-61190585f719"
      },
      "source": [
        "!ls -l '/content/drive/My Drive/Colab Notebooks/datasets/img_final_mdx.zip'"
      ],
      "execution_count": null,
      "outputs": [
        {
          "output_type": "stream",
          "text": [
            "ls: cannot access '/content/drive/My Drive/Colab Notebooks/datasets/img_final_mdx.zip': No such file or directory\n"
          ],
          "name": "stdout"
        }
      ]
    },
    {
      "cell_type": "code",
      "metadata": {
        "colab": {
          "base_uri": "https://localhost:8080/"
        },
        "id": "t670kKG6xzQG",
        "outputId": "d8a774a1-59ea-49b2-db48-101c51ecfa08"
      },
      "source": [
        "!ls -l '/content/drive/My Drive/AI_team3/img_final_mdx.zip'"
      ],
      "execution_count": null,
      "outputs": [
        {
          "output_type": "stream",
          "text": [
            "-rw------- 1 root root 311857006 Apr 20 06:29 '/content/drive/My Drive/AI_team3/img_final_mdx.zip'\n"
          ],
          "name": "stdout"
        }
      ]
    },
    {
      "cell_type": "code",
      "metadata": {
        "id": "Olr39vl1U89G"
      },
      "source": [
        "!unzip /content/drive/My\\ Drive/AI_team3/img_final_mdx.zip"
      ],
      "execution_count": null,
      "outputs": []
    },
    {
      "cell_type": "code",
      "metadata": {
        "id": "_M5flC97z-SN",
        "colab": {
          "base_uri": "https://localhost:8080/"
        },
        "outputId": "96762a1e-4c4f-48aa-aabe-b2181bf3a00d"
      },
      "source": [
        "!ls -l './img'"
      ],
      "execution_count": null,
      "outputs": [
        {
          "output_type": "stream",
          "text": [
            "total 52\n",
            "drwxr-xr-x 2 root root 24576 Apr 20  2021 0\n",
            "drwxr-xr-x 2 root root 24576 Apr 20  2021 1\n"
          ],
          "name": "stdout"
        }
      ]
    },
    {
      "cell_type": "code",
      "metadata": {
        "id": "CuXK3JohdhQW"
      },
      "source": [
        "import pathlib\n",
        "from glob import glob\n",
        "from keras.preprocessing import image\n",
        "import tensorflow as tf\n",
        "from keras.preprocessing.image import ImageDataGenerator\n",
        "from tensorflow.keras.applications import ResNet50\n",
        "from keras import layers, models, optimizers\n",
        "from keras.initializers import RandomNormal\n",
        "import matplotlib.pyplot as plt"
      ],
      "execution_count": null,
      "outputs": []
    },
    {
      "cell_type": "markdown",
      "metadata": {
        "id": "5x0Jm_FugB_9"
      },
      "source": [
        "# All trainable"
      ]
    },
    {
      "cell_type": "code",
      "metadata": {
        "id": "yknjPym_gL7H"
      },
      "source": [
        "from keras import backend as K\n",
        "\n",
        "K.clear_session()"
      ],
      "execution_count": null,
      "outputs": []
    },
    {
      "cell_type": "code",
      "metadata": {
        "id": "pc02CeKogL7H",
        "colab": {
          "base_uri": "https://localhost:8080/"
        },
        "outputId": "50673599-820f-49b2-d569-0105991c83cc"
      },
      "source": [
        "conv_base =  ResNet50(weights='imagenet', include_top=False, input_shape =(640,640,3))\n",
        "\n",
        "tf.keras.initializers.HeNormal()\n",
        "model = models.Sequential()\n",
        "model.add(conv_base)\n",
        "\n",
        "model.add(layers.Flatten())\n",
        "model.add(layers.Dense(256, activation='relu'))\n",
        "model.add(layers.Dropout(0.5))\n",
        "model.add(layers.Dense(1, activation='sigmoid')) \n",
        "\n",
        "model.summary()\n",
        "\n",
        "model.compile(loss='binary_crossentropy', optimizer=optimizers.Adam(lr=0.000005), metrics=['accuracy'])    "
      ],
      "execution_count": null,
      "outputs": [
        {
          "output_type": "stream",
          "text": [
            "Downloading data from https://storage.googleapis.com/tensorflow/keras-applications/resnet/resnet50_weights_tf_dim_ordering_tf_kernels_notop.h5\n",
            "94773248/94765736 [==============================] - 0s 0us/step\n",
            "Model: \"sequential\"\n",
            "_________________________________________________________________\n",
            "Layer (type)                 Output Shape              Param #   \n",
            "=================================================================\n",
            "resnet50 (Functional)        (None, 20, 20, 2048)      23587712  \n",
            "_________________________________________________________________\n",
            "flatten (Flatten)            (None, 819200)            0         \n",
            "_________________________________________________________________\n",
            "dense (Dense)                (None, 256)               209715456 \n",
            "_________________________________________________________________\n",
            "dropout (Dropout)            (None, 256)               0         \n",
            "_________________________________________________________________\n",
            "dense_1 (Dense)              (None, 1)                 257       \n",
            "=================================================================\n",
            "Total params: 233,303,425\n",
            "Trainable params: 233,250,305\n",
            "Non-trainable params: 53,120\n",
            "_________________________________________________________________\n"
          ],
          "name": "stdout"
        }
      ]
    },
    {
      "cell_type": "markdown",
      "metadata": {
        "id": "isPHnrSKgSbP"
      },
      "source": [
        "## batch_size=10"
      ]
    },
    {
      "cell_type": "code",
      "metadata": {
        "id": "tf5j2srTgpoN",
        "colab": {
          "base_uri": "https://localhost:8080/"
        },
        "outputId": "9de8cc04-7e82-4537-e000-3f937464b210"
      },
      "source": [
        "image_dir = '/content/img'\n",
        "\n",
        "random_seed = 414\n",
        "\n",
        "datagen = ImageDataGenerator(rescale = 1./255, validation_split=0.3)\n",
        "\n",
        "train_generator = datagen.flow_from_directory(image_dir,target_size = (640, 640), seed=random_seed,\n",
        "                                                    batch_size = 5, class_mode = 'binary', subset='training')\n",
        "valid_generator = datagen.flow_from_directory(image_dir, target_size=(640, 640), seed=random_seed,\n",
        "                                              batch_size=9, class_mode='binary', subset='validation')\n"
      ],
      "execution_count": null,
      "outputs": [
        {
          "output_type": "stream",
          "text": [
            "Found 1325 images belonging to 2 classes.\n",
            "Found 567 images belonging to 2 classes.\n"
          ],
          "name": "stdout"
        }
      ]
    },
    {
      "cell_type": "markdown",
      "metadata": {
        "id": "zWRWzJoCgSbP"
      },
      "source": [
        "## modeling"
      ]
    },
    {
      "cell_type": "code",
      "metadata": {
        "id": "8R8F2xICgSbP",
        "colab": {
          "base_uri": "https://localhost:8080/"
        },
        "outputId": "953efa80-f56d-47d8-bf17-a106c174d689"
      },
      "source": [
        "%%time\n",
        "\n",
        "Hist = model.fit(train_generator, \n",
        "                 steps_per_epoch=train_generator.n // train_generator.batch_size,\n",
        "                epochs=50, validation_data=valid_generator, \n",
        "                 validation_steps=valid_generator.n // valid_generator.batch_size) "
      ],
      "execution_count": null,
      "outputs": [
        {
          "output_type": "stream",
          "text": [
            "Epoch 1/50\n",
            "265/265 [==============================] - 186s 555ms/step - loss: 1.2080 - accuracy: 0.6770 - val_loss: 2.0564 - val_accuracy: 0.4991\n",
            "Epoch 2/50\n",
            "265/265 [==============================] - 145s 546ms/step - loss: 0.1600 - accuracy: 0.9318 - val_loss: 2.2683 - val_accuracy: 0.5203\n",
            "Epoch 3/50\n",
            "265/265 [==============================] - 145s 548ms/step - loss: 0.1002 - accuracy: 0.9647 - val_loss: 0.6057 - val_accuracy: 0.7901\n",
            "Epoch 4/50\n",
            "265/265 [==============================] - 145s 545ms/step - loss: 0.0318 - accuracy: 0.9872 - val_loss: 0.4151 - val_accuracy: 0.8713\n",
            "Epoch 5/50\n",
            "265/265 [==============================] - 144s 544ms/step - loss: 0.0221 - accuracy: 0.9931 - val_loss: 0.4424 - val_accuracy: 0.8360\n",
            "Epoch 6/50\n",
            "265/265 [==============================] - 145s 546ms/step - loss: 0.0210 - accuracy: 0.9959 - val_loss: 0.4623 - val_accuracy: 0.8501\n",
            "Epoch 7/50\n",
            "265/265 [==============================] - 144s 544ms/step - loss: 0.0088 - accuracy: 0.9986 - val_loss: 0.4307 - val_accuracy: 0.8571\n",
            "Epoch 8/50\n",
            "265/265 [==============================] - 144s 543ms/step - loss: 0.0211 - accuracy: 0.9937 - val_loss: 0.4906 - val_accuracy: 0.8466\n",
            "Epoch 9/50\n",
            "265/265 [==============================] - 144s 544ms/step - loss: 0.0280 - accuracy: 0.9908 - val_loss: 0.4944 - val_accuracy: 0.8554\n",
            "Epoch 10/50\n",
            "265/265 [==============================] - 144s 545ms/step - loss: 0.0078 - accuracy: 0.9993 - val_loss: 0.5123 - val_accuracy: 0.8483\n",
            "Epoch 11/50\n",
            "265/265 [==============================] - 144s 544ms/step - loss: 0.0049 - accuracy: 0.9989 - val_loss: 0.5429 - val_accuracy: 0.8554\n",
            "Epoch 12/50\n",
            "265/265 [==============================] - 145s 546ms/step - loss: 0.0058 - accuracy: 0.9980 - val_loss: 0.5672 - val_accuracy: 0.8448\n",
            "Epoch 13/50\n",
            "265/265 [==============================] - 144s 545ms/step - loss: 0.0237 - accuracy: 0.9932 - val_loss: 0.6596 - val_accuracy: 0.8448\n",
            "Epoch 14/50\n",
            "265/265 [==============================] - 144s 544ms/step - loss: 0.0251 - accuracy: 0.9929 - val_loss: 0.7053 - val_accuracy: 0.8395\n",
            "Epoch 15/50\n",
            "265/265 [==============================] - 144s 544ms/step - loss: 0.0163 - accuracy: 0.9946 - val_loss: 0.7652 - val_accuracy: 0.8307\n",
            "Epoch 16/50\n",
            "265/265 [==============================] - 144s 545ms/step - loss: 0.0618 - accuracy: 0.9778 - val_loss: 0.6900 - val_accuracy: 0.8519\n",
            "Epoch 17/50\n",
            "265/265 [==============================] - 144s 545ms/step - loss: 0.0090 - accuracy: 0.9945 - val_loss: 0.7172 - val_accuracy: 0.8589\n",
            "Epoch 18/50\n",
            "265/265 [==============================] - 144s 545ms/step - loss: 0.0145 - accuracy: 0.9937 - val_loss: 1.2196 - val_accuracy: 0.8078\n",
            "Epoch 19/50\n",
            "265/265 [==============================] - 144s 544ms/step - loss: 0.0225 - accuracy: 0.9927 - val_loss: 0.8727 - val_accuracy: 0.8360\n",
            "Epoch 20/50\n",
            "265/265 [==============================] - 144s 545ms/step - loss: 0.0072 - accuracy: 0.9970 - val_loss: 0.8798 - val_accuracy: 0.8466\n",
            "Epoch 21/50\n",
            "265/265 [==============================] - 145s 545ms/step - loss: 0.0077 - accuracy: 0.9970 - val_loss: 0.8626 - val_accuracy: 0.8589\n",
            "Epoch 22/50\n",
            "265/265 [==============================] - 144s 545ms/step - loss: 0.0165 - accuracy: 0.9954 - val_loss: 1.6907 - val_accuracy: 0.7549\n",
            "Epoch 23/50\n",
            "265/265 [==============================] - 144s 544ms/step - loss: 0.0439 - accuracy: 0.9901 - val_loss: 1.2178 - val_accuracy: 0.8131\n",
            "Epoch 24/50\n",
            "265/265 [==============================] - 144s 545ms/step - loss: 0.0648 - accuracy: 0.9823 - val_loss: 0.7721 - val_accuracy: 0.8466\n",
            "Epoch 25/50\n",
            "265/265 [==============================] - 144s 545ms/step - loss: 0.0052 - accuracy: 0.9995 - val_loss: 0.7942 - val_accuracy: 0.8589\n",
            "Epoch 26/50\n",
            "265/265 [==============================] - 144s 544ms/step - loss: 0.0015 - accuracy: 0.9991 - val_loss: 0.7446 - val_accuracy: 0.8501\n",
            "Epoch 27/50\n",
            "265/265 [==============================] - 144s 544ms/step - loss: 0.0027 - accuracy: 0.9993 - val_loss: 0.8770 - val_accuracy: 0.8501\n",
            "Epoch 28/50\n",
            "265/265 [==============================] - 145s 545ms/step - loss: 0.0056 - accuracy: 0.9978 - val_loss: 0.8457 - val_accuracy: 0.8554\n",
            "Epoch 29/50\n",
            "265/265 [==============================] - 145s 545ms/step - loss: 8.1552e-04 - accuracy: 0.9996 - val_loss: 0.8786 - val_accuracy: 0.8536\n",
            "Epoch 30/50\n",
            "265/265 [==============================] - 144s 544ms/step - loss: 0.0107 - accuracy: 0.9949 - val_loss: 0.8698 - val_accuracy: 0.8571\n",
            "Epoch 31/50\n",
            "265/265 [==============================] - 144s 544ms/step - loss: 0.0011 - accuracy: 1.0000 - val_loss: 0.9079 - val_accuracy: 0.8519\n",
            "Epoch 32/50\n",
            "265/265 [==============================] - 144s 545ms/step - loss: 1.9989e-04 - accuracy: 1.0000 - val_loss: 1.0579 - val_accuracy: 0.8571\n",
            "Epoch 33/50\n",
            "265/265 [==============================] - 144s 545ms/step - loss: 0.0092 - accuracy: 0.9979 - val_loss: 1.1252 - val_accuracy: 0.8501\n",
            "Epoch 34/50\n",
            "265/265 [==============================] - 144s 545ms/step - loss: 0.0028 - accuracy: 0.9994 - val_loss: 1.0400 - val_accuracy: 0.8501\n",
            "Epoch 35/50\n",
            "265/265 [==============================] - 144s 543ms/step - loss: 0.0024 - accuracy: 0.9981 - val_loss: 1.1780 - val_accuracy: 0.8483\n",
            "Epoch 36/50\n",
            "265/265 [==============================] - 144s 543ms/step - loss: 0.0011 - accuracy: 0.9987 - val_loss: 1.0137 - val_accuracy: 0.8642\n",
            "Epoch 37/50\n",
            "265/265 [==============================] - 144s 544ms/step - loss: 0.0016 - accuracy: 0.9995 - val_loss: 1.3713 - val_accuracy: 0.8501\n",
            "Epoch 38/50\n",
            "265/265 [==============================] - 144s 545ms/step - loss: 0.0240 - accuracy: 0.9910 - val_loss: 1.9119 - val_accuracy: 0.8131\n",
            "Epoch 39/50\n",
            "265/265 [==============================] - 144s 544ms/step - loss: 0.0158 - accuracy: 0.9959 - val_loss: 2.2012 - val_accuracy: 0.8201\n",
            "Epoch 40/50\n",
            "265/265 [==============================] - 144s 544ms/step - loss: 0.0303 - accuracy: 0.9931 - val_loss: 1.3855 - val_accuracy: 0.8571\n",
            "Epoch 41/50\n",
            "265/265 [==============================] - 144s 544ms/step - loss: 0.0066 - accuracy: 0.9980 - val_loss: 1.2800 - val_accuracy: 0.8536\n",
            "Epoch 42/50\n",
            "265/265 [==============================] - 144s 545ms/step - loss: 0.0042 - accuracy: 0.9979 - val_loss: 1.6536 - val_accuracy: 0.8289\n",
            "Epoch 43/50\n",
            "265/265 [==============================] - 144s 544ms/step - loss: 0.0058 - accuracy: 0.9984 - val_loss: 1.3614 - val_accuracy: 0.8536\n",
            "Epoch 44/50\n",
            "265/265 [==============================] - 144s 543ms/step - loss: 9.6138e-05 - accuracy: 1.0000 - val_loss: 1.3702 - val_accuracy: 0.8519\n",
            "Epoch 45/50\n",
            "265/265 [==============================] - 144s 543ms/step - loss: 9.4929e-05 - accuracy: 1.0000 - val_loss: 1.3723 - val_accuracy: 0.8519\n",
            "Epoch 46/50\n",
            "265/265 [==============================] - 144s 543ms/step - loss: 0.0140 - accuracy: 0.9971 - val_loss: 1.2206 - val_accuracy: 0.8536\n",
            "Epoch 47/50\n",
            "265/265 [==============================] - 144s 544ms/step - loss: 0.0012 - accuracy: 0.9998 - val_loss: 1.2905 - val_accuracy: 0.8501\n",
            "Epoch 48/50\n",
            "265/265 [==============================] - 144s 544ms/step - loss: 7.1357e-05 - accuracy: 1.0000 - val_loss: 1.2833 - val_accuracy: 0.8501\n",
            "Epoch 49/50\n",
            "265/265 [==============================] - 144s 543ms/step - loss: 0.0018 - accuracy: 0.9995 - val_loss: 1.4496 - val_accuracy: 0.8607\n",
            "Epoch 50/50\n",
            "265/265 [==============================] - 144s 545ms/step - loss: 0.0026 - accuracy: 0.9986 - val_loss: 1.3314 - val_accuracy: 0.8677\n",
            "CPU times: user 1h 32min 33s, sys: 32min 33s, total: 2h 5min 6s\n",
            "Wall time: 2h 58s\n"
          ],
          "name": "stdout"
        }
      ]
    },
    {
      "cell_type": "markdown",
      "metadata": {
        "id": "J2_4su07sw89"
      },
      "source": [
        "## model save"
      ]
    },
    {
      "cell_type": "code",
      "metadata": {
        "id": "5iNmHsAwazrw"
      },
      "source": [
        "model.save('/content/drive/My Drive/Colab Notebooks/models/ResNet_all_train.h5') # 2시간 58초 소요"
      ],
      "execution_count": null,
      "outputs": []
    },
    {
      "cell_type": "code",
      "metadata": {
        "colab": {
          "base_uri": "https://localhost:8080/"
        },
        "id": "pEmOL7orbJee",
        "outputId": "4f6016d0-464c-4e30-ed62-9d063d7484ba"
      },
      "source": [
        "!ls -l /content/drive/My\\ Drive/Colab\\ Notebooks/models"
      ],
      "execution_count": null,
      "outputs": [
        {
          "output_type": "stream",
          "text": [
            "total 3018230\n",
            "-rw------- 1 root root      34592 Mar 17 07:31 001_Model_iris.h5\n",
            "-rw------- 1 root root   41499744 Mar 23 06:47 002_dogs_and_cats_Augmentation.h5\n",
            "-rw------- 1 root root   41498896 Mar 23 02:16 002_dogs_and_cats_small.h5\n",
            "-rw------- 1 root root   25199032 Mar 24 05:15 004_dogs_and_cats_feature_extraction.h5\n",
            "-rw------- 1 root root  140748400 Mar 24 08:15 005_dogs_and_cats_fine_tuning.h5\n",
            "-rw------- 1 root root   41661328 Mar 23 06:45 201_CNN_Logo_Augmentation.h5\n",
            "-rw------- 1 root root 2800023136 Apr 20 08:37 ResNet_all_train.h5\n"
          ],
          "name": "stdout"
        }
      ]
    },
    {
      "cell_type": "code",
      "metadata": {
        "id": "o8YMG9mWbZjv"
      },
      "source": [
        "from keras.models import load_model\n",
        "model_loading = load_model('/content/drive/My Drive/Colab Notebooks/models/ResNet_all_train.h5')"
      ],
      "execution_count": null,
      "outputs": []
    },
    {
      "cell_type": "code",
      "metadata": {
        "colab": {
          "base_uri": "https://localhost:8080/"
        },
        "id": "FQVZrES8dVXq",
        "outputId": "ba47ce60-4bf6-41c4-c7db-abef2f7d5a1e"
      },
      "source": [
        "loss, accuracy = model_loading.evaluate(valid_generator, steps=valid_generator.n // valid_generator.batch_size)\n",
        "\n",
        "print(f'Loss : {loss:.5f}')\n",
        "print(f'Accuracy : {accuracy:.5f}')"
      ],
      "execution_count": null,
      "outputs": [
        {
          "output_type": "stream",
          "text": [
            "63/63 [==============================] - 64s 518ms/step - loss: 1.3314 - accuracy: 0.8677\n",
            "Loss : 1.33144\n",
            "Accuracy : 0.86772\n"
          ],
          "name": "stdout"
        }
      ]
    },
    {
      "cell_type": "markdown",
      "metadata": {
        "id": "gVmp2foody_V"
      },
      "source": [
        "## 시각화"
      ]
    },
    {
      "cell_type": "code",
      "metadata": {
        "colab": {
          "base_uri": "https://localhost:8080/"
        },
        "id": "2pxuhmp6dt30",
        "outputId": "6e0fe2dd-d5d1-4e3e-ffd5-e8ccf0d886ed"
      },
      "source": [
        "import pathlib\n",
        "from glob import glob\n",
        "\n",
        "data_root = pathlib.Path(glob('/content/*/*/')[0])\n",
        "print(data_root)\n",
        "# label = ['0','1']"
      ],
      "execution_count": null,
      "outputs": [
        {
          "output_type": "stream",
          "text": [
            "/content/img/1\n"
          ],
          "name": "stdout"
        }
      ]
    },
    {
      "cell_type": "code",
      "metadata": {
        "id": "SErl6EkreDX4"
      },
      "source": [
        "import random\n",
        "\n",
        "all_image_paths = list(data_root.glob('*'))\n",
        "all_image_paths = [str(path) for path in all_image_paths]\n",
        "\n",
        "# random.choice(all_image_paths)\n",
        "\n",
        "all_image_paths"
      ],
      "execution_count": null,
      "outputs": []
    },
    {
      "cell_type": "code",
      "metadata": {
        "id": "AOCNMQXLeIbA"
      },
      "source": [
        "import cv2\n",
        "import numpy as np\n",
        "\n",
        "plt.figure(figsize=(20,10))\n",
        "\n",
        "paths = all_image_paths[20:30]\n",
        "\n",
        "for idx, image in enumerate(paths) :\n",
        "    img = cv2.imread(image)\n",
        "    img = cv2.resize(img, dsize=(640,640))\n",
        "    img = img / 255.0\n",
        "    img = np.expand_dims(img, axis=0)\n",
        "\n",
        "    logits = model_loading.predict(img)[0]\n",
        "    \n",
        "    plt.subplot(2, 5, idx+1)\n",
        "    plt.imshow(plt.imread(image))\n",
        "    label = image.split('/')[-2]\n",
        "    plt.title(\"label : \" + str(label))\n",
        "    plt.xlabel(logits)"
      ],
      "execution_count": null,
      "outputs": []
    },
    {
      "cell_type": "markdown",
      "metadata": {
        "id": "-CJ3zdZ0hnuS"
      },
      "source": [
        "* worst"
      ]
    },
    {
      "cell_type": "code",
      "metadata": {
        "colab": {
          "base_uri": "https://localhost:8080/"
        },
        "id": "1FNKh9VjhpiR",
        "outputId": "3661c3bc-0aff-4a00-b692-d8f73267afd6"
      },
      "source": [
        "import pathlib\n",
        "from glob import glob\n",
        "\n",
        "data_root_worst = pathlib.Path(glob('/content/*/*/')[1])\n",
        "print(data_root_worst)\n",
        "# label = ['0','1']"
      ],
      "execution_count": null,
      "outputs": [
        {
          "output_type": "stream",
          "text": [
            "/content/img/0\n"
          ],
          "name": "stdout"
        }
      ]
    },
    {
      "cell_type": "code",
      "metadata": {
        "id": "msgam3NOhpiS"
      },
      "source": [
        "import random\n",
        "\n",
        "worst_image_paths = list(data_root_worst.glob('*'))\n",
        "worst_image_paths = [str(path) for path in worst_image_paths]\n",
        "\n",
        "# random.choice(all_image_paths)\n",
        "\n",
        "worst_image_paths"
      ],
      "execution_count": null,
      "outputs": []
    },
    {
      "cell_type": "code",
      "metadata": {
        "id": "oyX-FBh3hpiU"
      },
      "source": [
        "import cv2\n",
        "import numpy as np\n",
        "\n",
        "plt.figure(figsize=(20,10))\n",
        "\n",
        "paths_worst = worst_image_paths[20:30]\n",
        "\n",
        "for idx, image in enumerate(paths_worst) :\n",
        "    worst_img = cv2.imread(image)\n",
        "    worst_img = cv2.resize(worst_img, dsize=(640,640))\n",
        "    worst_img = worst_img / 255.0\n",
        "    worst_img = np.expand_dims(worst_img, axis=0)\n",
        "\n",
        "    logits_2 = model_loading.predict(worst_img)[0]\n",
        "    \n",
        "    plt.subplot(2, 5, idx+1)\n",
        "    plt.imshow(plt.imread(image))\n",
        "    label = image.split('/')[-2]\n",
        "    plt.title(\"label : \" + str(label))\n",
        "    plt.xlabel(logits_2)"
      ],
      "execution_count": null,
      "outputs": []
    },
    {
      "cell_type": "markdown",
      "metadata": {
        "id": "HD0v9fuPgSbP"
      },
      "source": [
        "## loss & 시각화\n",
        "\n",
        "\n"
      ]
    },
    {
      "cell_type": "code",
      "metadata": {
        "id": "6MIgEGIJgSbQ",
        "colab": {
          "base_uri": "https://localhost:8080/",
          "height": 785
        },
        "outputId": "8719c0eb-2f2e-4587-9a57-80e03af9ba38"
      },
      "source": [
        "loss, accuracy = model.evaluate(valid_generator, steps=valid_generator.n // valid_generator.batch_size)\n",
        "print('Loss = {:.5f}'.format(loss))\n",
        "print('Accuracy = {:.5f}'.format(accuracy))\n",
        "\n",
        "\n",
        "\n",
        "\n",
        "plt.figure(figsize = (9, 6))\n",
        "plt.plot( Hist.history['loss'])\n",
        "plt.plot(Hist.history['val_loss'])\n",
        "\n",
        "plt.legend(['Training Loss', 'Validation Loss'])\n",
        "plt.grid()\n",
        "plt.show()\n",
        "\n",
        "\n",
        "plt.figure(figsize = (9, 6))\n",
        "plt.plot(Hist.history['accuracy'])\n",
        "plt.plot( Hist.history['val_accuracy'])\n",
        "\n",
        "plt.legend(['Training accuracy', 'Validation accuracy'])\n",
        "plt.grid()\n",
        "plt.show()"
      ],
      "execution_count": null,
      "outputs": [
        {
          "output_type": "stream",
          "text": [
            "63/63 [==============================] - 17s 268ms/step - loss: 1.3314 - accuracy: 0.8677\n",
            "Loss = 1.33144\n",
            "Accuracy = 0.86772\n"
          ],
          "name": "stdout"
        },
        {
          "output_type": "display_data",
          "data": {
            "image/png": "[encoded data removed]",
            "text/plain": [
              "<Figure size 648x432 with 1 Axes>"
            ]
          },
          "metadata": {
            "tags": [],
            "needs_background": "light"
          }
        },
        {
          "output_type": "display_data",
          "data": {
            "image/png": "[encoded data removed]",
            "text/plain": [
              "<Figure size 648x432 with 1 Axes>"
            ]
          },
          "metadata": {
            "tags": [],
            "needs_background": "light"
          }
        }
      ]
    }
  ]
}