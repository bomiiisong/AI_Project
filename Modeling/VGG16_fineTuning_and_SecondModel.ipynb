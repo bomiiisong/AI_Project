{
  "nbformat": 4,
  "nbformat_minor": 0,
  "metadata": {
    "accelerator": "GPU",
    "colab": {
      "name": "VGG16_5-1_addBatchNormal_0.904_and_secondModel.ipynb",
      "provenance": [],
      "collapsed_sections": [],
      "include_colab_link": true
    },
    "kernelspec": {
      "display_name": "Python 3",
      "name": "python3"
    },
    "language_info": {
      "name": "python"
    }
  },
  "cells": [
    {
      "cell_type": "markdown",
      "metadata": {
        "id": "view-in-github",
        "colab_type": "text"
      },
      "source": [
        "<a href=\"https://colab.research.google.com/github/bomiiisong/AI_Project/blob/master/Modeling/VGG16_fineTuning_and_SecondModel.ipynb\" target=\"_parent\"><img src=\"https://colab.research.google.com/assets/colab-badge.svg\" alt=\"Open In Colab\"/></a>"
      ]
    },
    {
      "cell_type": "markdown",
      "metadata": {
        "id": "dXqx9G7HCXgO"
      },
      "source": [
        "# AI 전공 프로젝트\n",
        "> ### 프로젝트 팀명 : 포토그래퍼(3조)\n",
        "> ### 프로젝트 주제 : Best Photo Classification and Select Model"
      ]
    },
    {
      "cell_type": "markdown",
      "metadata": {
        "id": "wWoCxqmYCyx9"
      },
      "source": [
        "## Ⅰ. 개발 환경 설정"
      ]
    },
    {
      "cell_type": "markdown",
      "metadata": {
        "id": "SISkvxD2DFUm"
      },
      "source": [
        "> ### 1. Import Packages"
      ]
    },
    {
      "cell_type": "code",
      "metadata": {
        "id": "P-PrGvCenIIz"
      },
      "source": [
        "from keras.preprocessing.image import ImageDataGenerator\n",
        "from keras.applications import VGG16\n",
        "from keras import models, layers, optimizers\n",
        "from keras.models import load_model\n",
        "\n",
        "import cv2\n",
        "import pandas as pd\n",
        "import numpy as np\n",
        "import keras\n",
        "import tensorflow as tf\n",
        "import matplotlib.pyplot as plt\n",
        "\n",
        "## Encoding\n",
        "# -*- coding: utf-8 -*-"
      ],
      "execution_count": null,
      "outputs": []
    },
    {
      "cell_type": "markdown",
      "metadata": {
        "id": "A_5Xo46aDJ4s"
      },
      "source": [
        "> ### 2. Drive Mount"
      ]
    },
    {
      "cell_type": "code",
      "metadata": {
        "colab": {
          "base_uri": "https://localhost:8080/"
        },
        "id": "I9MfVDLNpUTQ",
        "outputId": "f7722624-e6da-4842-c839-309d22dcaff3"
      },
      "source": [
        "from google.colab import drive\n",
        "\n",
        "drive.mount('/content/drive')"
      ],
      "execution_count": null,
      "outputs": [
        {
          "output_type": "stream",
          "text": [
            "Drive already mounted at /content/drive; to attempt to forcibly remount, call drive.mount(\"/content/drive\", force_remount=True).\n"
          ],
          "name": "stdout"
        }
      ]
    },
    {
      "cell_type": "markdown",
      "metadata": {
        "id": "yFZWl9oRDN4U"
      },
      "source": [
        "> ### 3. Load Data"
      ]
    },
    {
      "cell_type": "markdown",
      "metadata": {
        "id": "klhmS_93Dye0"
      },
      "source": [
        "* dataset 목록 확인 "
      ]
    },
    {
      "cell_type": "code",
      "metadata": {
        "colab": {
          "base_uri": "https://localhost:8080/"
        },
        "id": "-iVQat_9MJO8",
        "outputId": "a59a9bf6-14f1-4bed-990f-8b4b911d3c04"
      },
      "source": [
        "!ls -l '/content/drive/My Drive/AI_team3/dataset_final/img_final_mdx.zip'"
      ],
      "execution_count": null,
      "outputs": [
        {
          "output_type": "stream",
          "text": [
            "-rw------- 1 root root 311857006 Apr 20 06:29 '/content/drive/My Drive/AI_team3/dataset_final/img_final_mdx.zip'\n"
          ],
          "name": "stdout"
        }
      ]
    },
    {
      "cell_type": "markdown",
      "metadata": {
        "id": "7K6LX02LEpSy"
      },
      "source": [
        "* Unzip Dataset"
      ]
    },
    {
      "cell_type": "code",
      "metadata": {
        "id": "kADWYxGx6VO0"
      },
      "source": [
        "!unzip /content/drive/My\\Drive/AI_team3/dataset_final/img_final_mdx.zip"
      ],
      "execution_count": null,
      "outputs": []
    },
    {
      "cell_type": "markdown",
      "metadata": {
        "id": "xH6veRD6E0a5"
      },
      "source": [
        "## Ⅱ. Data Preprocessing"
      ]
    },
    {
      "cell_type": "markdown",
      "metadata": {
        "id": "_TImyY_TFDKn"
      },
      "source": [
        "> ### 1. Apply Image Generator"
      ]
    },
    {
      "cell_type": "markdown",
      "metadata": {
        "id": "CyGw8tdbFKwP"
      },
      "source": [
        "* dataset 경로 설정"
      ]
    },
    {
      "cell_type": "code",
      "metadata": {
        "id": "O1HvvdZN8fm-"
      },
      "source": [
        "image_dir = 'img'"
      ],
      "execution_count": null,
      "outputs": []
    },
    {
      "cell_type": "markdown",
      "metadata": {
        "id": "do0556IEFQdb"
      },
      "source": [
        "* Image Data Generator 설정 및 적용 (1)\n",
        "\n",
        "    * train 80% , test 20% 분할"
      ]
    },
    {
      "cell_type": "code",
      "metadata": {
        "colab": {
          "base_uri": "https://localhost:8080/"
        },
        "id": "5HP9BK4dpseG",
        "outputId": "2daefb5a-ba8f-43df-d40b-fdeecabfcadb"
      },
      "source": [
        "random_seed = 414\n",
        "\n",
        "datagen = ImageDataGenerator(rescale = 1./255, validation_split=0.2)\n",
        "\n",
        "train = datagen.flow_from_directory(image_dir,target_size = (640, 640), seed=random_seed,\n",
        "                                                    batch_size = 1515, class_mode = 'binary', subset='training')\n",
        "test_generator = datagen.flow_from_directory(image_dir, target_size=(640, 640), seed=random_seed,\n",
        "                                              batch_size=10, class_mode='binary', subset='validation')"
      ],
      "execution_count": null,
      "outputs": [
        {
          "output_type": "stream",
          "text": [
            "Found 1515 images belonging to 2 classes.\n",
            "Found 377 images belonging to 2 classes.\n"
          ],
          "name": "stdout"
        }
      ]
    },
    {
      "cell_type": "markdown",
      "metadata": {
        "id": "oTZJw9X7FybM"
      },
      "source": [
        "*  train data - Image set and Label 분리"
      ]
    },
    {
      "cell_type": "code",
      "metadata": {
        "id": "LVsr7DN2ptUg"
      },
      "source": [
        "X_train, y_train = train.next()"
      ],
      "execution_count": null,
      "outputs": []
    },
    {
      "cell_type": "markdown",
      "metadata": {
        "id": "36h2-hIQF_xN"
      },
      "source": [
        "* Image Data Generator 설정 및 적용 (2)\n",
        "    * train 80% 를 train / validation 으로 분할\n",
        "    * train 60% / validation 20%"
      ]
    },
    {
      "cell_type": "code",
      "metadata": {
        "id": "DdOAhYVupvJ6"
      },
      "source": [
        "datagen_second = ImageDataGenerator(validation_split=0.2)\n",
        "\n",
        "train_generator = datagen_second.flow(X_train, y_train , seed=random_seed, batch_size = 12, subset='training')\n",
        "valid_generator = datagen_second.flow(X_train, y_train , seed=random_seed, batch_size = 3, subset='validation')"
      ],
      "execution_count": null,
      "outputs": []
    },
    {
      "cell_type": "markdown",
      "metadata": {
        "id": "dMAc8t4CG3fj"
      },
      "source": [
        "*  train data / validation data 개수 확인"
      ]
    },
    {
      "cell_type": "code",
      "metadata": {
        "colab": {
          "base_uri": "https://localhost:8080/"
        },
        "id": "croXH43Gpzw1",
        "outputId": "8b7a175b-3b05-4f38-e074-87385cccda14"
      },
      "source": [
        "print(len(train_generator))  ## batch size 12 로 나눈 값 출력\n",
        "print(len(valid_generator))  ## batch size 3 으로 나눈 값 출력\n",
        "\n",
        "## train data : 1212\n",
        "## validation data : 303"
      ],
      "execution_count": null,
      "outputs": [
        {
          "output_type": "stream",
          "text": [
            "101\n",
            "101\n"
          ],
          "name": "stdout"
        }
      ]
    },
    {
      "cell_type": "markdown",
      "metadata": {
        "id": "utLAgh5IHbXm"
      },
      "source": [
        "## Ⅲ. Modeling (Transfer Learning)"
      ]
    },
    {
      "cell_type": "markdown",
      "metadata": {
        "id": "R7sWx1fdHfc2"
      },
      "source": [
        "> ### 1. Transfer Learning Model Load\n",
        "\n",
        "* Model : VGG16"
      ]
    },
    {
      "cell_type": "code",
      "metadata": {
        "id": "ZWjnSaI2H7yx"
      },
      "source": [
        "conv_base = VGG16(weights = 'imagenet', include_top = False, input_shape = (640, 640, 3))"
      ],
      "execution_count": null,
      "outputs": []
    },
    {
      "cell_type": "markdown",
      "metadata": {
        "id": "EoYVXsLjIalf"
      },
      "source": [
        "> ### 2. Fine Tuning Layer setting\n",
        "\n",
        "* Tuning Layer : from block5_conv1 ~"
      ]
    },
    {
      "cell_type": "code",
      "metadata": {
        "id": "R25hMUKuIXZw"
      },
      "source": [
        "set_trainable = False\n",
        "\n",
        "for layer in conv_base.layers:\n",
        "  if layer.name == 'block5_conv1':       \n",
        "    set_trainable = True\n",
        "\n",
        "  if set_trainable:\n",
        "    layer.trainable = True\n",
        "  else:\n",
        "    layer.trainable = False"
      ],
      "execution_count": null,
      "outputs": []
    },
    {
      "cell_type": "markdown",
      "metadata": {
        "id": "kYAmvpDjH-N7"
      },
      "source": [
        "* VGG16 Model Summary"
      ]
    },
    {
      "cell_type": "code",
      "metadata": {
        "colab": {
          "base_uri": "https://localhost:8080/"
        },
        "id": "pGiWQuDYC-yJ",
        "outputId": "a12a1415-3e42-4912-f0fe-32fb708822e5"
      },
      "source": [
        "conv_base.summary()\n",
        "\n",
        "## Trainable params: 7,079,424"
      ],
      "execution_count": null,
      "outputs": [
        {
          "output_type": "stream",
          "text": [
            "Downloading data from https://storage.googleapis.com/tensorflow/keras-applications/vgg16/vgg16_weights_tf_dim_ordering_tf_kernels_notop.h5\n",
            "58892288/58889256 [==============================] - 0s 0us/step\n",
            "Model: \"vgg16\"\n",
            "_________________________________________________________________\n",
            "Layer (type)                 Output Shape              Param #   \n",
            "=================================================================\n",
            "input_1 (InputLayer)         [(None, 640, 640, 3)]     0         \n",
            "_________________________________________________________________\n",
            "block1_conv1 (Conv2D)        (None, 640, 640, 64)      1792      \n",
            "_________________________________________________________________\n",
            "block1_conv2 (Conv2D)        (None, 640, 640, 64)      36928     \n",
            "_________________________________________________________________\n",
            "block1_pool (MaxPooling2D)   (None, 320, 320, 64)      0         \n",
            "_________________________________________________________________\n",
            "block2_conv1 (Conv2D)        (None, 320, 320, 128)     73856     \n",
            "_________________________________________________________________\n",
            "block2_conv2 (Conv2D)        (None, 320, 320, 128)     147584    \n",
            "_________________________________________________________________\n",
            "block2_pool (MaxPooling2D)   (None, 160, 160, 128)     0         \n",
            "_________________________________________________________________\n",
            "block3_conv1 (Conv2D)        (None, 160, 160, 256)     295168    \n",
            "_________________________________________________________________\n",
            "block3_conv2 (Conv2D)        (None, 160, 160, 256)     590080    \n",
            "_________________________________________________________________\n",
            "block3_conv3 (Conv2D)        (None, 160, 160, 256)     590080    \n",
            "_________________________________________________________________\n",
            "block3_pool (MaxPooling2D)   (None, 80, 80, 256)       0         \n",
            "_________________________________________________________________\n",
            "block4_conv1 (Conv2D)        (None, 80, 80, 512)       1180160   \n",
            "_________________________________________________________________\n",
            "block4_conv2 (Conv2D)        (None, 80, 80, 512)       2359808   \n",
            "_________________________________________________________________\n",
            "block4_conv3 (Conv2D)        (None, 80, 80, 512)       2359808   \n",
            "_________________________________________________________________\n",
            "block4_pool (MaxPooling2D)   (None, 40, 40, 512)       0         \n",
            "_________________________________________________________________\n",
            "block5_conv1 (Conv2D)        (None, 40, 40, 512)       2359808   \n",
            "_________________________________________________________________\n",
            "block5_conv2 (Conv2D)        (None, 40, 40, 512)       2359808   \n",
            "_________________________________________________________________\n",
            "block5_conv3 (Conv2D)        (None, 40, 40, 512)       2359808   \n",
            "_________________________________________________________________\n",
            "block5_pool (MaxPooling2D)   (None, 20, 20, 512)       0         \n",
            "=================================================================\n",
            "Total params: 14,714,688\n",
            "Trainable params: 7,079,424\n",
            "Non-trainable params: 7,635,264\n",
            "_________________________________________________________________\n"
          ],
          "name": "stdout"
        }
      ]
    },
    {
      "cell_type": "markdown",
      "metadata": {
        "id": "-mSk50h6IzBf"
      },
      "source": [
        "> ### 3. DNN Layer Define\n",
        "\n",
        "* 2 Hidden Layer\n",
        "* Batch Nomalization and Dropout 적용\n",
        "* Activation Function : Relu"
      ]
    },
    {
      "cell_type": "code",
      "metadata": {
        "colab": {
          "base_uri": "https://localhost:8080/"
        },
        "id": "2oqfI02KC-yJ",
        "outputId": "a4637fbe-b81f-454b-ba4e-10996e9cb75c"
      },
      "source": [
        "tf.keras.initializers.HeNormal()  ## 가중치 초기화 함수 적용\n",
        "\n",
        "model = models.Sequential()\n",
        "model.add(conv_base)   ## VGG16 Model\n",
        "\n",
        "model.add(layers.Flatten())\n",
        "\n",
        "model.add(layers.Dense(512, activation = 'relu'))\n",
        "model.add(layers.Dropout(0.5))\n",
        "model.add(layers.BatchNormalization())\n",
        "\n",
        "model.add(layers.Dense(256))\n",
        "model.add(layers.Dropout(0.2))\n",
        "model.add(layers.BatchNormalization())\n",
        "model.add(layers.Activation('relu'))\n",
        "\n",
        "model.add(layers.Dense(1, activation = 'sigmoid'))   \n",
        "\n",
        "model.summary()\n",
        "\n",
        "## Total Trainable params: 112,070,657"
      ],
      "execution_count": null,
      "outputs": [
        {
          "output_type": "stream",
          "text": [
            "Model: \"sequential\"\n",
            "_________________________________________________________________\n",
            "Layer (type)                 Output Shape              Param #   \n",
            "=================================================================\n",
            "vgg16 (Functional)           (None, 20, 20, 512)       14714688  \n",
            "_________________________________________________________________\n",
            "flatten (Flatten)            (None, 204800)            0         \n",
            "_________________________________________________________________\n",
            "dense (Dense)                (None, 512)               104858112 \n",
            "_________________________________________________________________\n",
            "dropout (Dropout)            (None, 512)               0         \n",
            "_________________________________________________________________\n",
            "batch_normalization (BatchNo (None, 512)               2048      \n",
            "_________________________________________________________________\n",
            "dense_1 (Dense)              (None, 256)               131328    \n",
            "_________________________________________________________________\n",
            "dropout_1 (Dropout)          (None, 256)               0         \n",
            "_________________________________________________________________\n",
            "batch_normalization_1 (Batch (None, 256)               1024      \n",
            "_________________________________________________________________\n",
            "activation (Activation)      (None, 256)               0         \n",
            "_________________________________________________________________\n",
            "dense_2 (Dense)              (None, 1)                 257       \n",
            "=================================================================\n",
            "Total params: 119,707,457\n",
            "Trainable params: 112,070,657\n",
            "Non-trainable params: 7,636,800\n",
            "_________________________________________________________________\n"
          ],
          "name": "stdout"
        }
      ]
    },
    {
      "cell_type": "markdown",
      "metadata": {
        "id": "JGsw2TOYJRJC"
      },
      "source": [
        "> ### 4. Model Compile"
      ]
    },
    {
      "cell_type": "code",
      "metadata": {
        "id": "LmDfc3cBJPxI"
      },
      "source": [
        "model.compile(loss = 'binary_crossentropy', \n",
        "              optimizer = optimizers.Adam(lr = 0.000005),\n",
        "              metrics = ['accuracy'])"
      ],
      "execution_count": null,
      "outputs": []
    },
    {
      "cell_type": "markdown",
      "metadata": {
        "id": "wzH6e8GoJbPz"
      },
      "source": [
        "> ### 5. Model Fitting"
      ]
    },
    {
      "cell_type": "code",
      "metadata": {
        "colab": {
          "base_uri": "https://localhost:8080/"
        },
        "id": "gSd-Cx9DC-yK",
        "outputId": "fb9e7318-d866-495b-d198-73c57eee5f53"
      },
      "source": [
        "%%time\n",
        "\n",
        "## 소요 시간 : 55분 \n",
        "\n",
        "Hist = model.fit(train_generator, \n",
        "                 steps_per_epoch = train_generator.n // train_generator.batch_size, \n",
        "                 epochs = 50, \n",
        "                 validation_data = valid_generator,\n",
        "                 validation_steps=valid_generator.n // valid_generator.batch_size)"
      ],
      "execution_count": null,
      "outputs": [
        {
          "output_type": "stream",
          "text": [
            "Epoch 1/50\n",
            "101/101 [==============================] - 84s 672ms/step - loss: 0.5428 - accuracy: 0.7211 - val_loss: 0.6434 - val_accuracy: 0.6832\n",
            "Epoch 2/50\n",
            "101/101 [==============================] - 64s 631ms/step - loss: 0.3664 - accuracy: 0.8424 - val_loss: 0.3126 - val_accuracy: 0.8746\n",
            "Epoch 3/50\n",
            "101/101 [==============================] - 64s 639ms/step - loss: 0.2801 - accuracy: 0.9026 - val_loss: 0.2889 - val_accuracy: 0.8845\n",
            "Epoch 4/50\n",
            "101/101 [==============================] - 65s 645ms/step - loss: 0.2537 - accuracy: 0.9059 - val_loss: 0.2742 - val_accuracy: 0.8779\n",
            "Epoch 5/50\n",
            "101/101 [==============================] - 65s 647ms/step - loss: 0.1893 - accuracy: 0.9563 - val_loss: 0.2706 - val_accuracy: 0.8977\n",
            "Epoch 6/50\n",
            "101/101 [==============================] - 66s 650ms/step - loss: 0.1979 - accuracy: 0.9373 - val_loss: 0.3505 - val_accuracy: 0.8614\n",
            "Epoch 7/50\n",
            "101/101 [==============================] - 66s 652ms/step - loss: 0.1771 - accuracy: 0.9513 - val_loss: 0.2631 - val_accuracy: 0.9043\n",
            "Epoch 8/50\n",
            "101/101 [==============================] - 66s 651ms/step - loss: 0.1386 - accuracy: 0.9711 - val_loss: 0.2541 - val_accuracy: 0.8977\n",
            "Epoch 9/50\n",
            "101/101 [==============================] - 66s 653ms/step - loss: 0.1493 - accuracy: 0.9645 - val_loss: 0.2589 - val_accuracy: 0.8944\n",
            "Epoch 10/50\n",
            "101/101 [==============================] - 66s 650ms/step - loss: 0.1206 - accuracy: 0.9752 - val_loss: 0.2393 - val_accuracy: 0.9175\n",
            "Epoch 11/50\n",
            "101/101 [==============================] - 66s 654ms/step - loss: 0.0978 - accuracy: 0.9868 - val_loss: 0.2543 - val_accuracy: 0.8944\n",
            "Epoch 12/50\n",
            "101/101 [==============================] - 66s 652ms/step - loss: 0.1062 - accuracy: 0.9777 - val_loss: 0.2335 - val_accuracy: 0.9076\n",
            "Epoch 13/50\n",
            "101/101 [==============================] - 66s 654ms/step - loss: 0.0926 - accuracy: 0.9851 - val_loss: 0.2427 - val_accuracy: 0.9010\n",
            "Epoch 14/50\n",
            "101/101 [==============================] - 66s 651ms/step - loss: 0.0818 - accuracy: 0.9851 - val_loss: 0.2368 - val_accuracy: 0.8977\n",
            "Epoch 15/50\n",
            "101/101 [==============================] - 66s 650ms/step - loss: 0.0817 - accuracy: 0.9876 - val_loss: 0.2267 - val_accuracy: 0.9142\n",
            "Epoch 16/50\n",
            "101/101 [==============================] - 66s 655ms/step - loss: 0.0678 - accuracy: 0.9934 - val_loss: 0.2315 - val_accuracy: 0.9043\n",
            "Epoch 17/50\n",
            "101/101 [==============================] - 66s 655ms/step - loss: 0.0736 - accuracy: 0.9876 - val_loss: 0.2401 - val_accuracy: 0.9076\n",
            "Epoch 18/50\n",
            "101/101 [==============================] - 66s 654ms/step - loss: 0.0650 - accuracy: 0.9926 - val_loss: 0.2265 - val_accuracy: 0.9076\n",
            "Epoch 19/50\n",
            "101/101 [==============================] - 66s 657ms/step - loss: 0.0517 - accuracy: 0.9983 - val_loss: 0.2184 - val_accuracy: 0.9142\n",
            "Epoch 20/50\n",
            "101/101 [==============================] - 66s 655ms/step - loss: 0.0541 - accuracy: 0.9942 - val_loss: 0.2170 - val_accuracy: 0.9109\n",
            "Epoch 21/50\n",
            "101/101 [==============================] - 66s 657ms/step - loss: 0.0545 - accuracy: 0.9983 - val_loss: 0.2336 - val_accuracy: 0.9076\n",
            "Epoch 22/50\n",
            "101/101 [==============================] - 66s 658ms/step - loss: 0.0567 - accuracy: 0.9934 - val_loss: 0.2202 - val_accuracy: 0.9175\n",
            "Epoch 23/50\n",
            "101/101 [==============================] - 66s 658ms/step - loss: 0.0417 - accuracy: 0.9983 - val_loss: 0.2366 - val_accuracy: 0.9076\n",
            "Epoch 24/50\n",
            "101/101 [==============================] - 66s 655ms/step - loss: 0.0441 - accuracy: 0.9975 - val_loss: 0.2191 - val_accuracy: 0.9241\n",
            "Epoch 25/50\n",
            "101/101 [==============================] - 67s 660ms/step - loss: 0.0429 - accuracy: 0.9934 - val_loss: 0.2188 - val_accuracy: 0.9208\n",
            "Epoch 26/50\n",
            "101/101 [==============================] - 66s 659ms/step - loss: 0.0500 - accuracy: 0.9901 - val_loss: 0.2125 - val_accuracy: 0.9175\n",
            "Epoch 27/50\n",
            "101/101 [==============================] - 66s 658ms/step - loss: 0.0480 - accuracy: 0.9917 - val_loss: 0.2253 - val_accuracy: 0.9208\n",
            "Epoch 28/50\n",
            "101/101 [==============================] - 66s 656ms/step - loss: 0.0311 - accuracy: 0.9959 - val_loss: 0.1985 - val_accuracy: 0.9241\n",
            "Epoch 29/50\n",
            "101/101 [==============================] - 66s 655ms/step - loss: 0.0327 - accuracy: 1.0000 - val_loss: 0.2085 - val_accuracy: 0.9142\n",
            "Epoch 30/50\n",
            "101/101 [==============================] - 66s 659ms/step - loss: 0.0381 - accuracy: 0.9950 - val_loss: 0.2261 - val_accuracy: 0.9142\n",
            "Epoch 31/50\n",
            "101/101 [==============================] - 66s 658ms/step - loss: 0.0243 - accuracy: 1.0000 - val_loss: 0.2053 - val_accuracy: 0.9241\n",
            "Epoch 32/50\n",
            "101/101 [==============================] - 66s 655ms/step - loss: 0.0328 - accuracy: 0.9975 - val_loss: 0.2241 - val_accuracy: 0.9076\n",
            "Epoch 33/50\n",
            "101/101 [==============================] - 66s 659ms/step - loss: 0.0302 - accuracy: 0.9975 - val_loss: 0.2361 - val_accuracy: 0.9076\n",
            "Epoch 34/50\n",
            "101/101 [==============================] - 67s 661ms/step - loss: 0.0354 - accuracy: 0.9959 - val_loss: 0.2748 - val_accuracy: 0.9010\n",
            "Epoch 35/50\n",
            "101/101 [==============================] - 66s 657ms/step - loss: 0.0280 - accuracy: 0.9967 - val_loss: 0.2075 - val_accuracy: 0.9241\n",
            "Epoch 36/50\n",
            "101/101 [==============================] - 67s 660ms/step - loss: 0.0353 - accuracy: 0.9959 - val_loss: 0.2147 - val_accuracy: 0.9010\n",
            "Epoch 37/50\n",
            "101/101 [==============================] - 66s 657ms/step - loss: 0.0282 - accuracy: 0.9983 - val_loss: 0.2121 - val_accuracy: 0.9109\n",
            "Epoch 38/50\n",
            "101/101 [==============================] - 66s 659ms/step - loss: 0.0217 - accuracy: 0.9992 - val_loss: 0.2164 - val_accuracy: 0.9175\n",
            "Epoch 39/50\n",
            "101/101 [==============================] - 66s 655ms/step - loss: 0.0262 - accuracy: 0.9975 - val_loss: 0.2460 - val_accuracy: 0.9175\n",
            "Epoch 40/50\n",
            "101/101 [==============================] - 66s 659ms/step - loss: 0.0188 - accuracy: 1.0000 - val_loss: 0.2078 - val_accuracy: 0.9142\n",
            "Epoch 41/50\n",
            "101/101 [==============================] - 66s 656ms/step - loss: 0.0250 - accuracy: 0.9975 - val_loss: 0.2548 - val_accuracy: 0.9076\n",
            "Epoch 42/50\n",
            "101/101 [==============================] - 66s 654ms/step - loss: 0.0202 - accuracy: 1.0000 - val_loss: 0.2103 - val_accuracy: 0.9241\n",
            "Epoch 43/50\n",
            "101/101 [==============================] - 67s 660ms/step - loss: 0.0192 - accuracy: 0.9992 - val_loss: 0.2085 - val_accuracy: 0.9274\n",
            "Epoch 44/50\n",
            "101/101 [==============================] - 67s 660ms/step - loss: 0.0195 - accuracy: 0.9983 - val_loss: 0.2191 - val_accuracy: 0.9208\n",
            "Epoch 45/50\n",
            "101/101 [==============================] - 66s 658ms/step - loss: 0.0196 - accuracy: 0.9992 - val_loss: 0.2231 - val_accuracy: 0.9175\n",
            "Epoch 46/50\n",
            "101/101 [==============================] - 66s 659ms/step - loss: 0.0221 - accuracy: 0.9967 - val_loss: 0.2279 - val_accuracy: 0.9076\n",
            "Epoch 47/50\n",
            "101/101 [==============================] - 66s 657ms/step - loss: 0.0305 - accuracy: 0.9926 - val_loss: 0.2236 - val_accuracy: 0.9208\n",
            "Epoch 48/50\n",
            "101/101 [==============================] - 66s 655ms/step - loss: 0.0177 - accuracy: 1.0000 - val_loss: 0.2191 - val_accuracy: 0.9241\n",
            "Epoch 49/50\n",
            "101/101 [==============================] - 66s 656ms/step - loss: 0.0153 - accuracy: 1.0000 - val_loss: 0.2148 - val_accuracy: 0.9208\n",
            "Epoch 50/50\n",
            "101/101 [==============================] - 66s 659ms/step - loss: 0.0258 - accuracy: 0.9975 - val_loss: 0.2229 - val_accuracy: 0.9208\n",
            "CPU times: user 16min 11s, sys: 5min 13s, total: 21min 24s\n",
            "Wall time: 55min 20s\n"
          ],
          "name": "stdout"
        }
      ]
    },
    {
      "cell_type": "markdown",
      "metadata": {
        "id": "vrI0K9ieJfld"
      },
      "source": [
        "## Ⅳ. Model 평가\n",
        "\n",
        "* test data 활용\n",
        "* Accuracy : 0.92838\n",
        "* Loss : 0.17416"
      ]
    },
    {
      "cell_type": "code",
      "metadata": {
        "colab": {
          "base_uri": "https://localhost:8080/"
        },
        "id": "NVUncnPQrbHo",
        "outputId": "f76aa51d-dbc3-4629-df11-71adf9f1260f"
      },
      "source": [
        "loss, accuracy = model.evaluate(test_generator)\n",
        "print(f'Loss : {loss:.5f}')\n",
        "print(f'Accuracy : {accuracy:.5f}')"
      ],
      "execution_count": null,
      "outputs": [
        {
          "output_type": "stream",
          "text": [
            "38/38 [==============================] - 39s 709ms/step - loss: 0.1742 - accuracy: 0.9284\n",
            "Loss : 0.17416\n",
            "Accuracy : 0.92838\n"
          ],
          "name": "stdout"
        }
      ]
    },
    {
      "cell_type": "markdown",
      "metadata": {
        "id": "p7QoLGFYKITa"
      },
      "source": [
        "* Loss and Accuracy Visualization"
      ]
    },
    {
      "cell_type": "code",
      "metadata": {
        "colab": {
          "base_uri": "https://localhost:8080/",
          "height": 808
        },
        "id": "KJM1ucreC-yM",
        "outputId": "1111471a-a26e-423b-d51b-f0957bb5f733"
      },
      "source": [
        "import matplotlib.pyplot as plt\n",
        "\n",
        "epochs = range(1, len(Hist.history['loss']) + 1)\n",
        "\n",
        "plt.figure(figsize = (9, 6))\n",
        "plt.plot(epochs, Hist.history['loss'])\n",
        "plt.plot(epochs, Hist.history['val_loss'])\n",
        "\n",
        "plt.title('Training & Validation Loss')\n",
        "plt.xlabel('Epochs')\n",
        "plt.ylabel('Loss')\n",
        "plt.legend(['Training Loss', 'Validation Loss'])\n",
        "plt.grid()\n",
        "plt.show()\n",
        "print()\n",
        "\n",
        "plt.figure(figsize = (9, 6))\n",
        "plt.plot(epochs, Hist.history['accuracy'])\n",
        "plt.plot(epochs, Hist.history['val_accuracy'])\n",
        "\n",
        "plt.title('Training & Validation accuracy')\n",
        "plt.xlabel('Epochs')\n",
        "plt.ylabel('accuracy')\n",
        "plt.legend(['Training accuracy', 'Validation accuracy'])\n",
        "plt.grid()\n",
        "plt.show()"
      ],
      "execution_count": null,
      "outputs": [
        {
          "output_type": "display_data",
          "data": {
            "image/png": "[encoded data removed]",
            "text/plain": [
              "<Figure size 648x432 with 1 Axes>"
            ]
          },
          "metadata": {
            "tags": []
          }
        },
        {
          "output_type": "stream",
          "text": [
            "\n"
          ],
          "name": "stdout"
        },
        {
          "output_type": "display_data",
          "data": {
            "image/png": "[encoded data removed]",
            "text/plain": [
              "<Figure size 648x432 with 1 Axes>"
            ]
          },
          "metadata": {
            "tags": []
          }
        }
      ]
    },
    {
      "cell_type": "markdown",
      "metadata": {
        "id": "3y1j0733_To-"
      },
      "source": [
        "## Ⅴ. best / worst 분류 시각화"
      ]
    },
    {
      "cell_type": "markdown",
      "metadata": {
        "id": "Zdea3q_3Jy_Z"
      },
      "source": [
        "## Ⅵ. Model Save"
      ]
    },
    {
      "cell_type": "markdown",
      "metadata": {
        "id": "T-zE7165J9pM"
      },
      "source": [
        "* 저장 경로 설정"
      ]
    },
    {
      "cell_type": "code",
      "metadata": {
        "id": "rqYf6kKi5eWH"
      },
      "source": [
        "model.save('/content/drive/My Drive/Colab Notebooks/models/VGG16_5-1_addBatchNormal&test_split_0.928.h5')  # train time : 55분"
      ],
      "execution_count": null,
      "outputs": []
    },
    {
      "cell_type": "markdown",
      "metadata": {
        "id": "EgwqnrYOKANZ"
      },
      "source": [
        "* 저장 결과 확인"
      ]
    },
    {
      "cell_type": "code",
      "metadata": {
        "colab": {
          "base_uri": "https://localhost:8080/"
        },
        "id": "BNxNaVpe5qIP",
        "outputId": "723f615b-5360-4a85-e8e3-9002b0c7365e"
      },
      "source": [
        "!ls -l /content/drive/My\\ Drive/Colab\\ Notebooks/models"
      ],
      "execution_count": null,
      "outputs": [
        {
          "output_type": "stream",
          "text": [
            "total 5263305\n",
            "-rw------- 1 root root 2638611656 Apr 19 04:44  baseModel_ResNet.h5\n",
            "-rw------- 1 root root 1375505480 Apr 21 02:17  VGG16_5-1_addBatchNormal_0.904.h5\n",
            "-rw------- 1 root root 1375505480 Apr 21 05:28 'VGG16_5-1_addBatchNormal&test_split_0.928.h5'\n"
          ],
          "name": "stdout"
        }
      ]
    },
    {
      "cell_type": "markdown",
      "metadata": {
        "id": "DuBpUl10LED3"
      },
      "source": [
        "## Ⅶ. Model 불러오기"
      ]
    },
    {
      "cell_type": "code",
      "metadata": {
        "id": "jgS4_n2RLU0T"
      },
      "source": [
        "VGG16_model = load_model('/content/drive/My Drive/Colab Notebooks/models/VGG16_5-1_addBatchNormal&test_split_0.928.h5')"
      ],
      "execution_count": null,
      "outputs": []
    },
    {
      "cell_type": "markdown",
      "metadata": {
        "id": "hA_RH7Fg9_cq"
      },
      "source": [
        "## Ⅷ. Best Photo Select Model"
      ]
    },
    {
      "cell_type": "markdown",
      "metadata": {
        "id": "IbQ9mLQVOOvn"
      },
      "source": [
        "> ### 1. Image Selector 함수 정의\n",
        "\n",
        "* 1) Best / worst 분류 모델 적용\n",
        "    * Best 로 분류될 확률 추출\n",
        "* 2) Best 로 분류될 확률이 가장 높은 사진 1장 추출"
      ]
    },
    {
      "cell_type": "code",
      "metadata": {
        "id": "lpyq2fk1-Yiw"
      },
      "source": [
        "def image_select(path, model) :\n",
        "    img_dict = {}\n",
        "    \n",
        "    for idx, image in enumerate(path) :\n",
        "        img = cv2.imread(image)\n",
        "        img = cv2.resize(img, dsize=(640,640))\n",
        "        img = img / 255.0\n",
        "        img = np.expand_dims(img, axis=0)\n",
        "\n",
        "        logits = model.predict(img)[0]\n",
        "        img_dict[image] = logits\n",
        "\n",
        "    max_value = 0\n",
        "    for key in img_dict.values() :\n",
        "        if key > max_value :\n",
        "            max_value = key\n",
        "\n",
        "    for i, v in img_dict.items() : \n",
        "        if v == max_value :\n",
        "            plt.imshow(plt.imread(i))\n",
        "            plt.title('Best Photo')\n",
        "            plt.xlabel(v)\n",
        "            \n",
        "    return"
      ],
      "execution_count": null,
      "outputs": []
    },
    {
      "cell_type": "markdown",
      "metadata": {
        "id": "QhlR_37PW48u"
      },
      "source": [
        "> ### 2. Data Load"
      ]
    },
    {
      "cell_type": "code",
      "metadata": {
        "colab": {
          "base_uri": "https://localhost:8080/"
        },
        "id": "YyKkmS9bW24h",
        "outputId": "f7722624-e6da-4842-c839-309d22dcaff3"
      },
      "source": [
        "from google.colab import drive\n",
        "\n",
        "drive.mount('/content/drive')"
      ],
      "execution_count": null,
      "outputs": [
        {
          "output_type": "stream",
          "text": [
            "Drive already mounted at /content/drive; to attempt to forcibly remount, call drive.mount(\"/content/drive\", force_remount=True).\n"
          ],
          "name": "stdout"
        }
      ]
    },
    {
      "cell_type": "markdown",
      "metadata": {
        "id": "SKHmYJJWW24j"
      },
      "source": [
        "* dataset 목록 확인 "
      ]
    },
    {
      "cell_type": "code",
      "metadata": {
        "colab": {
          "base_uri": "https://localhost:8080/"
        },
        "id": "OEx0sagRW24k",
        "outputId": "a59a9bf6-14f1-4bed-990f-8b4b911d3c04"
      },
      "source": [
        "!ls -l '/content/drive/My Drive/AI_team3/dataset_final/img_final_mdx.zip'"
      ],
      "execution_count": null,
      "outputs": [
        {
          "output_type": "stream",
          "text": [
            "-rw------- 1 root root 311857006 Apr 20 06:29 '/content/drive/My Drive/AI_team3/dataset_final/img_final_mdx.zip'\n"
          ],
          "name": "stdout"
        }
      ]
    },
    {
      "cell_type": "markdown",
      "metadata": {
        "id": "os64z7hRW24l"
      },
      "source": [
        "* Unzip Dataset"
      ]
    },
    {
      "cell_type": "code",
      "metadata": {
        "id": "X4GDSeHHW24m"
      },
      "source": [
        "!unzip /content/drive/My\\Drive/AI_team3/dataset_final/img_final_mdx.zip"
      ],
      "execution_count": null,
      "outputs": []
    },
    {
      "cell_type": "markdown",
      "metadata": {
        "id": "SFT_eALsN3GY"
      },
      "source": [
        "> ### 3. Input Data Path 설정"
      ]
    },
    {
      "cell_type": "code",
      "metadata": {
        "colab": {
          "base_uri": "https://localhost:8080/"
        },
        "id": "X7oTCKOETDlj",
        "outputId": "e1fb20e1-4919-4678-c592-c9af8a50508a"
      },
      "source": [
        "import pathlib\n",
        "from glob import glob\n",
        "\n",
        "data_root = pathlib.Path(glob('/content/*/*/')[2])\n",
        "print(data_root)\n",
        "# label = ['0','1']"
      ],
      "execution_count": null,
      "outputs": [
        {
          "output_type": "stream",
          "text": [
            "/content/img/1\n"
          ],
          "name": "stdout"
        }
      ]
    },
    {
      "cell_type": "markdown",
      "metadata": {
        "id": "26VBaepLOIdv"
      },
      "source": [
        "* .jpg 파일 목록 저장"
      ]
    },
    {
      "cell_type": "code",
      "metadata": {
        "id": "GgpkheJR58sK"
      },
      "source": [
        "import random\n",
        "\n",
        "all_image_paths = list(data_root.glob('*'))\n",
        "all_image_paths = [str(path) for path in all_image_paths]\n",
        "\n",
        "# random.choice(all_image_paths)\n",
        "# all_image_paths"
      ],
      "execution_count": null,
      "outputs": []
    },
    {
      "cell_type": "markdown",
      "metadata": {
        "id": "d7xwcJbOOyKK"
      },
      "source": [
        "* Test dataset 에서 임의로 10개 사진 추출"
      ]
    },
    {
      "cell_type": "code",
      "metadata": {
        "id": "i0BzSODr-gmQ"
      },
      "source": [
        "test_path = []\n",
        "for i in range(10) :\n",
        "    test_shot = random.choice(all_image_paths)\n",
        "    \n",
        "    test_path.append(test_shot)\n",
        "\n",
        "# image_select(all_image_paths)"
      ],
      "execution_count": null,
      "outputs": []
    },
    {
      "cell_type": "markdown",
      "metadata": {
        "id": "9UqZ_EP9O6Vo"
      },
      "source": [
        "> ### 4. Image Selector 실행\n",
        "\n",
        "* Input : \n",
        "    * 사진 10장\n",
        "    * Best / Worst 사진 분류 Model (VGG16)"
      ]
    },
    {
      "cell_type": "code",
      "metadata": {
        "id": "zdpKdZBe_S8R"
      },
      "source": [
        "image_select(test_path, VGG16_model)"
      ],
      "execution_count": null,
      "outputs": []
    },
    {
      "cell_type": "markdown",
      "metadata": {
        "id": "TyT55U4bPcKk"
      },
      "source": [
        "* 사진 10장 분류 확률"
      ]
    },
    {
      "cell_type": "code",
      "metadata": {
        "id": "_iMi2M9MAAoG"
      },
      "source": [
        "# !sudo apt-get install -y fonts-nanum\n",
        "# !sudo fc-cache -fv\n",
        "# !rm ~/.cache/matplotlib -rf\n",
        "\n",
        "plt.figure(figsize=(20,40))\n",
        "\n",
        "for idx, img_path in enumerate(test_path):\n",
        "    #랜덤 이미지 경로 추출\n",
        "    # image_path = random.choice(all_path)\n",
        "\n",
        "    #이미지 크기 변경 및 정규화\n",
        "    img = cv2.imread(img_path)\n",
        "    img = cv2.resize(img, dsize=(640, 640))\n",
        "    img = img / 255.0  # 3차원 행렬(224, 224, 3)\n",
        "    img = np.expand_dims(img, axis=0)  # 4차원 (1, 224, 224, 3)\n",
        "\n",
        "    # 이미지 분류\n",
        "    logits = VGG16_model.predict(img)[0]\n",
        "    logit = logits[0]\n",
        "\n",
        "    #이미지 출력\n",
        "    plt.subplot(5,2, idx+1)\n",
        "    plt.imshow(plt.imread(img_path))\n",
        "    # idx = img_path.split('/')[-2]\n",
        "    plt.title(str(idx))\n",
        "    plt.xlabel('Best Image Percent : ' + str(logit))"
      ],
      "execution_count": null,
      "outputs": []
    }
  ]
}