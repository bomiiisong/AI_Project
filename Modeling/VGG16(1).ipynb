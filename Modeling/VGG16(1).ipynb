{
  "nbformat": 4,
  "nbformat_minor": 0,
  "metadata": {
    "colab": {
      "name": "1st_Modeling.ipynb",
      "provenance": [],
      "collapsed_sections": [],
      "include_colab_link": true
    },
    "kernelspec": {
      "name": "python3",
      "display_name": "Python 3"
    },
    "language_info": {
      "name": "python"
    },
    "accelerator": "GPU"
  },
  "cells": [
    {
      "cell_type": "markdown",
      "metadata": {
        "id": "view-in-github",
        "colab_type": "text"
      },
      "source": [
        "<a href=\"https://colab.research.google.com/github/bomiiisong/AI_Project/blob/master/Modeling/VGG16(1).ipynb\" target=\"_parent\"><img src=\"https://colab.research.google.com/assets/colab-badge.svg\" alt=\"Open In Colab\"/></a>"
      ]
    },
    {
      "cell_type": "markdown",
      "metadata": {
        "id": "ccVNfMMy2i7y"
      },
      "source": [
        "# 1차 모델링 with VGG16 and GPU\n",
        "\n",
        "* dataset : img_final\n",
        "    * best(label 1) : 269\n",
        "    * Worst(label 0) : 275\n",
        "\n",
        "* HyperParameter\n",
        "    * optimizer : RMSprop\n",
        "    * BatchNormalization\n",
        "    * Dropout(0.5)\n",
        "    * epoch : 50\n",
        "    * Trainable Layer : block5_conv1"
      ]
    },
    {
      "cell_type": "markdown",
      "metadata": {
        "id": "zQtB3mel21u7"
      },
      "source": [
        "## 1. Set Data and Modeling Environment "
      ]
    },
    {
      "cell_type": "markdown",
      "metadata": {
        "id": "E3fQw4vV3DmZ"
      },
      "source": [
        "> ### 1) Import packages"
      ]
    },
    {
      "cell_type": "code",
      "metadata": {
        "id": "-D-62_F04yJJ"
      },
      "source": [
        "import pandas as pd\n",
        "import numpy as np\n",
        "import keras\n",
        "import tensorflow\n",
        "from keras.preprocessing.image import ImageDataGenerator\n",
        "from keras import models, layers, optimizers"
      ],
      "execution_count": 5,
      "outputs": []
    },
    {
      "cell_type": "markdown",
      "metadata": {
        "id": "iXFAldqA5Z1x"
      },
      "source": [
        "* Check Tensorflow version"
      ]
    },
    {
      "cell_type": "code",
      "metadata": {
        "colab": {
          "base_uri": "https://localhost:8080/",
          "height": 35
        },
        "id": "oCVfD82o5gbA",
        "outputId": "41e18162-7a5f-403a-83ac-8ae68e552f17"
      },
      "source": [
        "tensorflow.__version__"
      ],
      "execution_count": 6,
      "outputs": [
        {
          "output_type": "execute_result",
          "data": {
            "application/vnd.google.colaboratory.intrinsic+json": {
              "type": "string"
            },
            "text/plain": [
              "'2.4.1'"
            ]
          },
          "metadata": {
            "tags": []
          },
          "execution_count": 6
        }
      ]
    },
    {
      "cell_type": "markdown",
      "metadata": {
        "id": "Bpquw3kU5d_T"
      },
      "source": [
        "* Check Keras version"
      ]
    },
    {
      "cell_type": "code",
      "metadata": {
        "colab": {
          "base_uri": "https://localhost:8080/",
          "height": 35
        },
        "id": "p4ovPEaS5qGX",
        "outputId": "03a778a1-bd85-4f2b-9c87-a5e1a9a1fe59"
      },
      "source": [
        "keras.__version__"
      ],
      "execution_count": 7,
      "outputs": [
        {
          "output_type": "execute_result",
          "data": {
            "application/vnd.google.colaboratory.intrinsic+json": {
              "type": "string"
            },
            "text/plain": [
              "'2.4.3'"
            ]
          },
          "metadata": {
            "tags": []
          },
          "execution_count": 7
        }
      ]
    },
    {
      "cell_type": "markdown",
      "metadata": {
        "id": "zLOnUY2D3HRN"
      },
      "source": [
        "> ### 2) Data Load"
      ]
    },
    {
      "cell_type": "markdown",
      "metadata": {
        "id": "sUtNTISJ3Ks6"
      },
      "source": [
        "* Drive Mount\n"
      ]
    },
    {
      "cell_type": "code",
      "metadata": {
        "colab": {
          "base_uri": "https://localhost:8080/"
        },
        "id": "vzHCztJj5t-1",
        "outputId": "af49dd8d-dd6b-474a-c0ca-d7739bd01ef5"
      },
      "source": [
        "from google.colab import drive\n",
        "\n",
        "drive.mount('/content/drive')"
      ],
      "execution_count": 8,
      "outputs": [
        {
          "output_type": "stream",
          "text": [
            "Drive already mounted at /content/drive; to attempt to forcibly remount, call drive.mount(\"/content/drive\", force_remount=True).\n"
          ],
          "name": "stdout"
        }
      ]
    },
    {
      "cell_type": "markdown",
      "metadata": {
        "id": "0CXpd9WE3MeV"
      },
      "source": [
        "* unzip Data"
      ]
    },
    {
      "cell_type": "code",
      "metadata": {
        "id": "3-ANbT0r50_Z"
      },
      "source": [
        "!unzip /content/drive/My\\ Drive/AI_team3/dataset_final/img_final.zip"
      ],
      "execution_count": null,
      "outputs": []
    },
    {
      "cell_type": "markdown",
      "metadata": {
        "id": "oK9s3bSM3PJc"
      },
      "source": [
        "## 2. Data Preprocessing"
      ]
    },
    {
      "cell_type": "markdown",
      "metadata": {
        "id": "I3V4AP423TJS"
      },
      "source": [
        "* Apply Image Generator (Normalization, set batch size and class mode)\n"
      ]
    },
    {
      "cell_type": "code",
      "metadata": {
        "id": "HSEAztFO6DST"
      },
      "source": [
        "image_dir = 'img'"
      ],
      "execution_count": 12,
      "outputs": []
    },
    {
      "cell_type": "code",
      "metadata": {
        "colab": {
          "base_uri": "https://localhost:8080/"
        },
        "id": "Q5NocL8m8UOT",
        "outputId": "467d78e8-32bf-493c-f1fa-58d84330e465"
      },
      "source": [
        "random_seed = 414\n",
        "\n",
        "datagen = ImageDataGenerator(rescale = 1./255, validation_split=0.3)\n",
        "\n",
        "train_generator = datagen.flow_from_directory(image_dir,target_size = (640, 640), seed=random_seed,\n",
        "                                                    batch_size = 10, class_mode = 'binary', subset='training')\n",
        "\n",
        "valid_generator = datagen.flow_from_directory(image_dir, target_size=(640, 640), seed=random_seed,\n",
        "                                              batch_size=10, class_mode='binary', subset='validation')"
      ],
      "execution_count": 13,
      "outputs": [
        {
          "output_type": "stream",
          "text": [
            "Found 382 images belonging to 2 classes.\n",
            "Found 162 images belonging to 2 classes.\n"
          ],
          "name": "stdout"
        }
      ]
    },
    {
      "cell_type": "markdown",
      "metadata": {
        "id": "G3axsSBT3grj"
      },
      "source": [
        "## 3. Modeling"
      ]
    },
    {
      "cell_type": "markdown",
      "metadata": {
        "id": "4foAiN2j3oZB"
      },
      "source": [
        "> ### 1) Define VGG16 "
      ]
    },
    {
      "cell_type": "code",
      "metadata": {
        "colab": {
          "base_uri": "https://localhost:8080/"
        },
        "id": "_TT3Ty8I-ngI",
        "outputId": "9fc347f6-5284-48bc-f6e4-98061e5a9378"
      },
      "source": [
        "from keras.applications import VGG16\n",
        "\n",
        "base = VGG16(weights = 'imagenet', include_top = False, input_shape = (640, 640, 3))"
      ],
      "execution_count": 19,
      "outputs": [
        {
          "output_type": "stream",
          "text": [
            "Downloading data from https://storage.googleapis.com/tensorflow/keras-applications/vgg16/vgg16_weights_tf_dim_ordering_tf_kernels_notop.h5\n",
            "58892288/58889256 [==============================] - 0s 0us/step\n"
          ],
          "name": "stdout"
        }
      ]
    },
    {
      "cell_type": "code",
      "metadata": {
        "colab": {
          "base_uri": "https://localhost:8080/"
        },
        "id": "S8YFyL-H-7wk",
        "outputId": "402d231e-cbad-4f56-c977-e9ea1b591e43"
      },
      "source": [
        "base.summary()"
      ],
      "execution_count": 20,
      "outputs": [
        {
          "output_type": "stream",
          "text": [
            "Model: \"vgg16\"\n",
            "_________________________________________________________________\n",
            "Layer (type)                 Output Shape              Param #   \n",
            "=================================================================\n",
            "input_1 (InputLayer)         [(None, 640, 640, 3)]     0         \n",
            "_________________________________________________________________\n",
            "block1_conv1 (Conv2D)        (None, 640, 640, 64)      1792      \n",
            "_________________________________________________________________\n",
            "block1_conv2 (Conv2D)        (None, 640, 640, 64)      36928     \n",
            "_________________________________________________________________\n",
            "block1_pool (MaxPooling2D)   (None, 320, 320, 64)      0         \n",
            "_________________________________________________________________\n",
            "block2_conv1 (Conv2D)        (None, 320, 320, 128)     73856     \n",
            "_________________________________________________________________\n",
            "block2_conv2 (Conv2D)        (None, 320, 320, 128)     147584    \n",
            "_________________________________________________________________\n",
            "block2_pool (MaxPooling2D)   (None, 160, 160, 128)     0         \n",
            "_________________________________________________________________\n",
            "block3_conv1 (Conv2D)        (None, 160, 160, 256)     295168    \n",
            "_________________________________________________________________\n",
            "block3_conv2 (Conv2D)        (None, 160, 160, 256)     590080    \n",
            "_________________________________________________________________\n",
            "block3_conv3 (Conv2D)        (None, 160, 160, 256)     590080    \n",
            "_________________________________________________________________\n",
            "block3_pool (MaxPooling2D)   (None, 80, 80, 256)       0         \n",
            "_________________________________________________________________\n",
            "block4_conv1 (Conv2D)        (None, 80, 80, 512)       1180160   \n",
            "_________________________________________________________________\n",
            "block4_conv2 (Conv2D)        (None, 80, 80, 512)       2359808   \n",
            "_________________________________________________________________\n",
            "block4_conv3 (Conv2D)        (None, 80, 80, 512)       2359808   \n",
            "_________________________________________________________________\n",
            "block4_pool (MaxPooling2D)   (None, 40, 40, 512)       0         \n",
            "_________________________________________________________________\n",
            "block5_conv1 (Conv2D)        (None, 40, 40, 512)       2359808   \n",
            "_________________________________________________________________\n",
            "block5_conv2 (Conv2D)        (None, 40, 40, 512)       2359808   \n",
            "_________________________________________________________________\n",
            "block5_conv3 (Conv2D)        (None, 40, 40, 512)       2359808   \n",
            "_________________________________________________________________\n",
            "block5_pool (MaxPooling2D)   (None, 20, 20, 512)       0         \n",
            "=================================================================\n",
            "Total params: 14,714,688\n",
            "Trainable params: 14,714,688\n",
            "Non-trainable params: 0\n",
            "_________________________________________________________________\n"
          ],
          "name": "stdout"
        }
      ]
    },
    {
      "cell_type": "markdown",
      "metadata": {
        "id": "I2bcZTRF3tYS"
      },
      "source": [
        "> ### 2) Training Layer Freezing\n"
      ]
    },
    {
      "cell_type": "code",
      "metadata": {
        "id": "gAFv2OeQ-vrN"
      },
      "source": [
        "set_trainable = False\n",
        "\n",
        "for layer in base.layers:\n",
        "  if layer.name == 'block5_conv1':       \n",
        "    set_trainable = True\n",
        "\n",
        "  if set_trainable:\n",
        "    layer.trainable = True\n",
        "  else:\n",
        "    layer.trainable = False"
      ],
      "execution_count": 21,
      "outputs": []
    },
    {
      "cell_type": "code",
      "metadata": {
        "colab": {
          "base_uri": "https://localhost:8080/"
        },
        "id": "ZuXP9h2h_HgP",
        "outputId": "60bb7f7e-1538-42ee-8011-cf7299483bf6"
      },
      "source": [
        "base.summary()"
      ],
      "execution_count": 22,
      "outputs": [
        {
          "output_type": "stream",
          "text": [
            "Model: \"vgg16\"\n",
            "_________________________________________________________________\n",
            "Layer (type)                 Output Shape              Param #   \n",
            "=================================================================\n",
            "input_1 (InputLayer)         [(None, 640, 640, 3)]     0         \n",
            "_________________________________________________________________\n",
            "block1_conv1 (Conv2D)        (None, 640, 640, 64)      1792      \n",
            "_________________________________________________________________\n",
            "block1_conv2 (Conv2D)        (None, 640, 640, 64)      36928     \n",
            "_________________________________________________________________\n",
            "block1_pool (MaxPooling2D)   (None, 320, 320, 64)      0         \n",
            "_________________________________________________________________\n",
            "block2_conv1 (Conv2D)        (None, 320, 320, 128)     73856     \n",
            "_________________________________________________________________\n",
            "block2_conv2 (Conv2D)        (None, 320, 320, 128)     147584    \n",
            "_________________________________________________________________\n",
            "block2_pool (MaxPooling2D)   (None, 160, 160, 128)     0         \n",
            "_________________________________________________________________\n",
            "block3_conv1 (Conv2D)        (None, 160, 160, 256)     295168    \n",
            "_________________________________________________________________\n",
            "block3_conv2 (Conv2D)        (None, 160, 160, 256)     590080    \n",
            "_________________________________________________________________\n",
            "block3_conv3 (Conv2D)        (None, 160, 160, 256)     590080    \n",
            "_________________________________________________________________\n",
            "block3_pool (MaxPooling2D)   (None, 80, 80, 256)       0         \n",
            "_________________________________________________________________\n",
            "block4_conv1 (Conv2D)        (None, 80, 80, 512)       1180160   \n",
            "_________________________________________________________________\n",
            "block4_conv2 (Conv2D)        (None, 80, 80, 512)       2359808   \n",
            "_________________________________________________________________\n",
            "block4_conv3 (Conv2D)        (None, 80, 80, 512)       2359808   \n",
            "_________________________________________________________________\n",
            "block4_pool (MaxPooling2D)   (None, 40, 40, 512)       0         \n",
            "_________________________________________________________________\n",
            "block5_conv1 (Conv2D)        (None, 40, 40, 512)       2359808   \n",
            "_________________________________________________________________\n",
            "block5_conv2 (Conv2D)        (None, 40, 40, 512)       2359808   \n",
            "_________________________________________________________________\n",
            "block5_conv3 (Conv2D)        (None, 40, 40, 512)       2359808   \n",
            "_________________________________________________________________\n",
            "block5_pool (MaxPooling2D)   (None, 20, 20, 512)       0         \n",
            "=================================================================\n",
            "Total params: 14,714,688\n",
            "Trainable params: 7,079,424\n",
            "Non-trainable params: 7,635,264\n",
            "_________________________________________________________________\n"
          ],
          "name": "stdout"
        }
      ]
    },
    {
      "cell_type": "markdown",
      "metadata": {
        "id": "zvC4vRFZ31fw"
      },
      "source": [
        "> ### 3) Define DNN Layer"
      ]
    },
    {
      "cell_type": "code",
      "metadata": {
        "id": "YAUby8oj_SDn"
      },
      "source": [
        "model_1 = models.Sequential()\n",
        "model_1.add(base)\n",
        "\n",
        "model_1.add(layers.Flatten())\n",
        "\n",
        "model_1.add(layers.Dense(256, activation = 'relu'))\n",
        "model_1.add(layers.Dropout(0.5))\n",
        "model_1.add(layers.Dense(1, activation = 'sigmoid'))"
      ],
      "execution_count": 23,
      "outputs": []
    },
    {
      "cell_type": "code",
      "metadata": {
        "id": "Z34UrSCj_dyv"
      },
      "source": [
        "model_2 = models.Sequential()\n",
        "model_2.add(base)\n",
        "\n",
        "model_2.add(layers.Flatten())\n",
        "\n",
        "model_2.add(layers.Dense(512, activation = 'relu'))\n",
        "model_2.add(layers.Dropout(0.5))\n",
        "model_2.add(layers.Dense(256, activation = 'relu'))\n",
        "model_2.add(layers.Dropout(0.2))\n",
        "model_2.add(layers.Dense(2, activation = 'softmax'))   "
      ],
      "execution_count": null,
      "outputs": []
    },
    {
      "cell_type": "code",
      "metadata": {
        "id": "QcQNcbhzAebU"
      },
      "source": [
        "model_3 = models.Sequential()\n",
        "model_3.add(base)\n",
        "\n",
        "model_3.add(layers.Flatten())\n",
        "\n",
        "model_3.add(layers.Dense(256, activation = 'relu'))\n",
        "model_3.add(layers.BatchNormalization())\n",
        "model_3.add(layers.Dense(2, activation = 'softmax'))  "
      ],
      "execution_count": null,
      "outputs": []
    },
    {
      "cell_type": "code",
      "metadata": {
        "id": "k6Bfpm86_t1J"
      },
      "source": [
        "model_4 = models.Sequential()\n",
        "model_4.add(base)\n",
        "\n",
        "model_4.add(layers.Flatten())\n",
        "\n",
        "model_4.add(layers.Dense(512, activation = 'relu'))\n",
        "model_4.add(layers.Dropout(0.5))\n",
        "model_4.add(layers.Dense(256))\n",
        "model_4.add(layers.Dropout(0.2))\n",
        "model_4.add(layers.BatchNormalization())\n",
        "model_4.add(layers.Activation('relu'))\n",
        "model_4.add(layers.Dense(2, activation = 'softmax'))   "
      ],
      "execution_count": null,
      "outputs": []
    },
    {
      "cell_type": "markdown",
      "metadata": {
        "id": "wmDrYM3s3514"
      },
      "source": [
        "> ### 4) Model Compile"
      ]
    },
    {
      "cell_type": "code",
      "metadata": {
        "id": "WubfcQYmBK6h"
      },
      "source": [
        "model_1.compile(loss='binary_crossentropy',\n",
        "              optimizer = optimizers.RMSprop(lr = 0.000005),\n",
        "              metrics=['accuracy'])"
      ],
      "execution_count": 26,
      "outputs": []
    },
    {
      "cell_type": "code",
      "metadata": {
        "id": "CGMbHKv2BQm5"
      },
      "source": [
        "model_2.compile(loss='categorical_crossentropy',\n",
        "              optimizer='rmsprop',\n",
        "              metrics=['accuracy'])"
      ],
      "execution_count": null,
      "outputs": []
    },
    {
      "cell_type": "code",
      "metadata": {
        "id": "2Ki409bxBTLp"
      },
      "source": [
        "model_3.compile(loss='categorical_crossentropy',\n",
        "              optimizer='rmsprop',\n",
        "              metrics=['accuracy'])"
      ],
      "execution_count": null,
      "outputs": []
    },
    {
      "cell_type": "code",
      "metadata": {
        "id": "_YrNtMfsBTpR"
      },
      "source": [
        "model_4.compile(loss='categorical_crossentropy',\n",
        "              optimizer='rmsprop',\n",
        "              metrics=['accuracy'])"
      ],
      "execution_count": null,
      "outputs": []
    },
    {
      "cell_type": "markdown",
      "metadata": {
        "id": "LHm8oSQ74DBp"
      },
      "source": [
        "> ### 5) Model Train"
      ]
    },
    {
      "cell_type": "code",
      "metadata": {
        "colab": {
          "base_uri": "https://localhost:8080/"
        },
        "id": "ijnIAWx_CYGr",
        "outputId": "13d28ef9-9d77-4db3-fff7-bf8531e3de2d"
      },
      "source": [
        "hist_1 = model_1.fit(train_generator, \n",
        "                 steps_per_epoch = train_generator.samples // train_generator.batch_size, \n",
        "                 epochs = 50, \n",
        "                 validation_data = valid_generator,\n",
        "                 validation_steps=valid_generator.samples // valid_generator.batch_size)"
      ],
      "execution_count": 27,
      "outputs": [
        {
          "output_type": "stream",
          "text": [
            "Epoch 1/50\n",
            "38/38 [==============================] - 72s 730ms/step - loss: 0.7192 - accuracy: 0.5855 - val_loss: 0.5008 - val_accuracy: 0.7375\n",
            "Epoch 2/50\n",
            "38/38 [==============================] - 24s 626ms/step - loss: 0.3018 - accuracy: 0.8915 - val_loss: 0.5072 - val_accuracy: 0.7500\n",
            "Epoch 3/50\n",
            "38/38 [==============================] - 24s 641ms/step - loss: 0.1836 - accuracy: 0.9444 - val_loss: 0.3476 - val_accuracy: 0.8250\n",
            "Epoch 4/50\n",
            "38/38 [==============================] - 25s 661ms/step - loss: 0.0988 - accuracy: 0.9757 - val_loss: 0.3616 - val_accuracy: 0.8188\n",
            "Epoch 5/50\n",
            "38/38 [==============================] - 25s 649ms/step - loss: 0.0635 - accuracy: 0.9836 - val_loss: 0.4587 - val_accuracy: 0.8250\n",
            "Epoch 6/50\n",
            "38/38 [==============================] - 25s 647ms/step - loss: 0.0445 - accuracy: 0.9916 - val_loss: 0.5442 - val_accuracy: 0.8188\n",
            "Epoch 7/50\n",
            "38/38 [==============================] - 25s 649ms/step - loss: 0.0191 - accuracy: 0.9991 - val_loss: 0.4046 - val_accuracy: 0.8062\n",
            "Epoch 8/50\n",
            "38/38 [==============================] - 25s 656ms/step - loss: 0.0105 - accuracy: 0.9982 - val_loss: 0.4907 - val_accuracy: 0.8062\n",
            "Epoch 9/50\n",
            "38/38 [==============================] - 25s 654ms/step - loss: 0.0064 - accuracy: 1.0000 - val_loss: 0.5510 - val_accuracy: 0.8375\n",
            "Epoch 10/50\n",
            "38/38 [==============================] - 25s 654ms/step - loss: 0.0103 - accuracy: 0.9963 - val_loss: 0.6309 - val_accuracy: 0.8000\n",
            "Epoch 11/50\n",
            "38/38 [==============================] - 25s 652ms/step - loss: 0.0029 - accuracy: 1.0000 - val_loss: 0.5091 - val_accuracy: 0.8188\n",
            "Epoch 12/50\n",
            "38/38 [==============================] - 25s 652ms/step - loss: 0.0032 - accuracy: 1.0000 - val_loss: 0.4834 - val_accuracy: 0.8438\n",
            "Epoch 13/50\n",
            "38/38 [==============================] - 25s 654ms/step - loss: 7.5725e-04 - accuracy: 1.0000 - val_loss: 0.6328 - val_accuracy: 0.8500\n",
            "Epoch 14/50\n",
            "38/38 [==============================] - 25s 652ms/step - loss: 0.0013 - accuracy: 1.0000 - val_loss: 0.6056 - val_accuracy: 0.8500\n",
            "Epoch 15/50\n",
            "38/38 [==============================] - 25s 653ms/step - loss: 9.0555e-04 - accuracy: 1.0000 - val_loss: 0.5984 - val_accuracy: 0.8313\n",
            "Epoch 16/50\n",
            "38/38 [==============================] - 25s 662ms/step - loss: 3.6360e-04 - accuracy: 1.0000 - val_loss: 0.6840 - val_accuracy: 0.8438\n",
            "Epoch 17/50\n",
            "38/38 [==============================] - 25s 653ms/step - loss: 1.1535e-04 - accuracy: 1.0000 - val_loss: 0.6823 - val_accuracy: 0.8313\n",
            "Epoch 18/50\n",
            "38/38 [==============================] - 25s 655ms/step - loss: 7.2242e-05 - accuracy: 1.0000 - val_loss: 0.8355 - val_accuracy: 0.8562\n",
            "Epoch 19/50\n",
            "38/38 [==============================] - 25s 655ms/step - loss: 6.9301e-05 - accuracy: 1.0000 - val_loss: 0.8592 - val_accuracy: 0.8500\n",
            "Epoch 20/50\n",
            "38/38 [==============================] - 25s 652ms/step - loss: 1.0036e-04 - accuracy: 1.0000 - val_loss: 0.8550 - val_accuracy: 0.8562\n",
            "Epoch 21/50\n",
            "38/38 [==============================] - 25s 652ms/step - loss: 2.6728e-05 - accuracy: 1.0000 - val_loss: 0.8846 - val_accuracy: 0.8500\n",
            "Epoch 22/50\n",
            "38/38 [==============================] - 25s 660ms/step - loss: 4.9596e-04 - accuracy: 1.0000 - val_loss: 0.7386 - val_accuracy: 0.8562\n",
            "Epoch 23/50\n",
            "38/38 [==============================] - 25s 653ms/step - loss: 8.1495e-05 - accuracy: 1.0000 - val_loss: 0.8242 - val_accuracy: 0.8500\n",
            "Epoch 24/50\n",
            "38/38 [==============================] - 25s 661ms/step - loss: 3.5135e-05 - accuracy: 1.0000 - val_loss: 0.9153 - val_accuracy: 0.8500\n",
            "Epoch 25/50\n",
            "38/38 [==============================] - 25s 651ms/step - loss: 1.2927e-05 - accuracy: 1.0000 - val_loss: 0.9013 - val_accuracy: 0.8500\n",
            "Epoch 26/50\n",
            "38/38 [==============================] - 25s 649ms/step - loss: 4.9001e-05 - accuracy: 1.0000 - val_loss: 0.9092 - val_accuracy: 0.8438\n",
            "Epoch 27/50\n",
            "38/38 [==============================] - 25s 651ms/step - loss: 1.3929e-05 - accuracy: 1.0000 - val_loss: 0.9933 - val_accuracy: 0.8562\n",
            "Epoch 28/50\n",
            "38/38 [==============================] - 25s 651ms/step - loss: 5.8800e-06 - accuracy: 1.0000 - val_loss: 1.0368 - val_accuracy: 0.8438\n",
            "Epoch 29/50\n",
            "38/38 [==============================] - 25s 651ms/step - loss: 2.3435e-06 - accuracy: 1.0000 - val_loss: 0.9990 - val_accuracy: 0.8375\n",
            "Epoch 30/50\n",
            "38/38 [==============================] - 25s 651ms/step - loss: 5.3309e-06 - accuracy: 1.0000 - val_loss: 1.0320 - val_accuracy: 0.8188\n",
            "Epoch 31/50\n",
            "38/38 [==============================] - 25s 652ms/step - loss: 4.0748e-06 - accuracy: 1.0000 - val_loss: 1.0523 - val_accuracy: 0.8250\n",
            "Epoch 32/50\n",
            "38/38 [==============================] - 25s 651ms/step - loss: 2.6319e-05 - accuracy: 1.0000 - val_loss: 0.9571 - val_accuracy: 0.8562\n",
            "Epoch 33/50\n",
            "38/38 [==============================] - 25s 654ms/step - loss: 4.1106e-07 - accuracy: 1.0000 - val_loss: 1.1014 - val_accuracy: 0.8438\n",
            "Epoch 34/50\n",
            "38/38 [==============================] - 25s 655ms/step - loss: 1.3168e-05 - accuracy: 1.0000 - val_loss: 1.0883 - val_accuracy: 0.8500\n",
            "Epoch 35/50\n",
            "38/38 [==============================] - 25s 650ms/step - loss: 5.9060e-07 - accuracy: 1.0000 - val_loss: 1.0343 - val_accuracy: 0.8562\n",
            "Epoch 36/50\n",
            "38/38 [==============================] - 25s 650ms/step - loss: 1.8765e-07 - accuracy: 1.0000 - val_loss: 1.8540 - val_accuracy: 0.8125\n",
            "Epoch 37/50\n",
            "38/38 [==============================] - 25s 652ms/step - loss: 2.5600e-06 - accuracy: 1.0000 - val_loss: 1.0436 - val_accuracy: 0.8438\n",
            "Epoch 38/50\n",
            "38/38 [==============================] - 25s 648ms/step - loss: 7.8973e-07 - accuracy: 1.0000 - val_loss: 1.2803 - val_accuracy: 0.8562\n",
            "Epoch 39/50\n",
            "38/38 [==============================] - 25s 652ms/step - loss: 1.2321e-07 - accuracy: 1.0000 - val_loss: 1.0764 - val_accuracy: 0.8562\n",
            "Epoch 40/50\n",
            "38/38 [==============================] - 25s 652ms/step - loss: 8.5822e-08 - accuracy: 1.0000 - val_loss: 1.1407 - val_accuracy: 0.8375\n",
            "Epoch 41/50\n",
            "38/38 [==============================] - 25s 651ms/step - loss: 1.1536e-07 - accuracy: 1.0000 - val_loss: 1.1289 - val_accuracy: 0.8375\n",
            "Epoch 42/50\n",
            "38/38 [==============================] - 25s 651ms/step - loss: 5.6939e-06 - accuracy: 1.0000 - val_loss: 1.4096 - val_accuracy: 0.8562\n",
            "Epoch 43/50\n",
            "38/38 [==============================] - 25s 653ms/step - loss: 2.8960e-07 - accuracy: 1.0000 - val_loss: 1.2269 - val_accuracy: 0.8500\n",
            "Epoch 44/50\n",
            "38/38 [==============================] - 25s 652ms/step - loss: 1.4254e-07 - accuracy: 1.0000 - val_loss: 1.1219 - val_accuracy: 0.8313\n",
            "Epoch 45/50\n",
            "38/38 [==============================] - 25s 652ms/step - loss: 7.9598e-08 - accuracy: 1.0000 - val_loss: 1.2305 - val_accuracy: 0.8375\n",
            "Epoch 46/50\n",
            "38/38 [==============================] - 25s 653ms/step - loss: 1.4457e-07 - accuracy: 1.0000 - val_loss: 1.3375 - val_accuracy: 0.8438\n",
            "Epoch 47/50\n",
            "38/38 [==============================] - 25s 651ms/step - loss: 6.9822e-08 - accuracy: 1.0000 - val_loss: 1.3168 - val_accuracy: 0.8500\n",
            "Epoch 48/50\n",
            "38/38 [==============================] - 25s 651ms/step - loss: 1.2970e-07 - accuracy: 1.0000 - val_loss: 1.2852 - val_accuracy: 0.8375\n",
            "Epoch 49/50\n",
            "38/38 [==============================] - 25s 650ms/step - loss: 4.6524e-08 - accuracy: 1.0000 - val_loss: 1.6713 - val_accuracy: 0.8375\n",
            "Epoch 50/50\n",
            "38/38 [==============================] - 25s 651ms/step - loss: 3.9210e-07 - accuracy: 1.0000 - val_loss: 1.2248 - val_accuracy: 0.8375\n"
          ],
          "name": "stdout"
        }
      ]
    },
    {
      "cell_type": "code",
      "metadata": {
        "id": "9-L5TcV2DKwO"
      },
      "source": [
        "%%time\n",
        "\n",
        "hist_2 = model_2.fit(train_generator, \n",
        "                 steps_per_epoch = train_generator.samples // train_generator.batch_size, \n",
        "                 epochs = 50, \n",
        "                 validation_data = valid_generator,\n",
        "                 validation_steps=valid_generator.samples // valid_generator.batch_size)"
      ],
      "execution_count": null,
      "outputs": []
    },
    {
      "cell_type": "code",
      "metadata": {
        "id": "cUzVbvwlDNQh"
      },
      "source": [
        "%%time\n",
        "\n",
        "hist_3 = model_3.fit(train_generator, \n",
        "                 steps_per_epoch = train_generator.samples // train_generator.batch_size, \n",
        "                 epochs = 50, \n",
        "                 validation_data = valid_generator,\n",
        "                 validation_steps=valid_generator.samples // valid_generator.batch_size)"
      ],
      "execution_count": null,
      "outputs": []
    },
    {
      "cell_type": "code",
      "metadata": {
        "id": "7ey8B0AuDP1i"
      },
      "source": [
        "%%time\n",
        "\n",
        "hist_4 = model_4.fit(train_generator, \n",
        "                 steps_per_epoch = train_generator.samples // train_generator.batch_size, \n",
        "                 epochs = 50, \n",
        "                 validation_data = valid_generator,\n",
        "                 validation_steps=valid_generator.samples // valid_generator.batch_size)"
      ],
      "execution_count": null,
      "outputs": []
    },
    {
      "cell_type": "markdown",
      "metadata": {
        "id": "-_qU1MjE4HnH"
      },
      "source": [
        "## 4. Evaluate Model"
      ]
    },
    {
      "cell_type": "markdown",
      "metadata": {
        "id": "cB-E6ExM4OFl"
      },
      "source": [
        "* Loss and Accuracy visualization"
      ]
    },
    {
      "cell_type": "code",
      "metadata": {
        "colab": {
          "base_uri": "https://localhost:8080/",
          "height": 791
        },
        "id": "pnDNTTstBwFl",
        "outputId": "52a8cb2c-4b65-41e9-e342-6d42d3f74f37"
      },
      "source": [
        "import matplotlib.pyplot as plt\n",
        "\n",
        "epochs = range(1, len(hist_1.history['loss']) + 1)\n",
        "\n",
        "plt.figure(figsize = (9, 6))\n",
        "plt.plot(epochs, hist_1.history['loss'])\n",
        "plt.plot(epochs, hist_1.history['val_loss'])\n",
        "\n",
        "plt.title('Training & Validation Loss')\n",
        "plt.xlabel('Epochs')\n",
        "plt.ylabel('Loss')\n",
        "plt.legend(['Training Loss', 'Validation Loss'])\n",
        "plt.grid()\n",
        "plt.show()\n",
        "\n",
        "plt.figure(figsize = (9, 6))\n",
        "plt.plot(epochs, hist_1.history['accuracy'])\n",
        "plt.plot(epochs, hist_1.history['val_accuracy'])\n",
        "\n",
        "plt.title('Training & Validation accuracy')\n",
        "plt.xlabel('Epochs')\n",
        "plt.ylabel('accuracy')\n",
        "plt.legend(['Training accuracy', 'Validation accuracy'])\n",
        "plt.grid()\n",
        "plt.show()"
      ],
      "execution_count": 29,
      "outputs": [
        {
          "output_type": "display_data",
          "data": {
            "image/png": "[encoded data removed]",
            "text/plain": [
              "<Figure size 648x432 with 1 Axes>"
            ]
          },
          "metadata": {
            "tags": [],
            "needs_background": "light"
          }
        },
        {
          "output_type": "display_data",
          "data": {
            "image/png": "[encoded data removed]",
            "text/plain": [
              "<Figure size 648x432 with 1 Axes>"
            ]
          },
          "metadata": {
            "tags": [],
            "needs_background": "light"
          }
        }
      ]
    },
    {
      "cell_type": "markdown",
      "metadata": {
        "id": "7X2_0bYP4Vsi"
      },
      "source": [
        "* Loss and Accuracy evaluate"
      ]
    },
    {
      "cell_type": "code",
      "metadata": {
        "colab": {
          "base_uri": "https://localhost:8080/"
        },
        "id": "Ezembp1hCApf",
        "outputId": "dbff20cf-3fb6-462b-c3eb-b95f488d4082"
      },
      "source": [
        "loss_1, accuracy_1 = model_1.evaluate(valid_generator)\n",
        "print(f'Loss : {loss_1:.5f}')\n",
        "print(f'Accuracy : {accuracy_1:.5f}')"
      ],
      "execution_count": 31,
      "outputs": [
        {
          "output_type": "stream",
          "text": [
            "17/17 [==============================] - 6s 359ms/step - loss: 1.2407 - accuracy: 0.8333\n",
            "Loss : 1.24070\n",
            "Accuracy : 0.83333\n"
          ],
          "name": "stdout"
        }
      ]
    },
    {
      "cell_type": "code",
      "metadata": {
        "id": "MnN-_8uSCHUG"
      },
      "source": [
        ""
      ],
      "execution_count": null,
      "outputs": []
    }
  ]
}