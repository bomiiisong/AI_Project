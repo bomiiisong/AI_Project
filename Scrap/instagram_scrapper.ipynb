{
  "nbformat": 4,
  "nbformat_minor": 0,
  "metadata": {
    "colab": {
      "name": "instagram-scraper.ipynb",
      "provenance": [],
      "collapsed_sections": [],
      "authorship_tag": "ABX9TyOUHxjFidPlbO78LbU3QQSi",
      "include_colab_link": true
    },
    "kernelspec": {
      "name": "python3",
      "display_name": "Python 3"
    },
    "language_info": {
      "name": "python"
    }
  },
  "cells": [
    {
      "cell_type": "markdown",
      "metadata": {
        "id": "view-in-github",
        "colab_type": "text"
      },
      "source": [
        "<a href=\"https://colab.research.google.com/github/bomiiisong/AI_Project/blob/master/Scrap/instagram_scrapper.ipynb\" target=\"_parent\"><img src=\"https://colab.research.google.com/assets/colab-badge.svg\" alt=\"Open In Colab\"/></a>"
      ]
    },
    {
      "cell_type": "markdown",
      "metadata": {
        "id": "O689tgMcSsP8"
      },
      "source": [
        "# Instagram Scraper"
      ]
    },
    {
      "cell_type": "markdown",
      "metadata": {
        "id": "lPtkJoNVSmkb"
      },
      "source": [
        "## 1. Import Packages"
      ]
    },
    {
      "cell_type": "code",
      "metadata": {
        "id": "twYRQB3tSiPe"
      },
      "source": [
        "from urllib.request import urlopen\n",
        "from urllib.parse import quote_plus\n",
        "from bs4 import BeautifulSoup\n",
        "from selenium import webdriver\n",
        "import time\n",
        "import requests\n",
        "import shutil\n",
        "from selenium.webdriver.common.keys import Keys\n",
        "import time as time\n",
        "import getpass"
      ],
      "execution_count": null,
      "outputs": []
    },
    {
      "cell_type": "markdown",
      "metadata": {
        "id": "jwdXDj9PS0wc"
      },
      "source": [
        "## 2. Scrap Code"
      ]
    },
    {
      "cell_type": "code",
      "metadata": {
        "id": "MVZD2HuaS5Wy"
      },
      "source": [
        "# Search with Tag\n",
        "baseUrl = 'https://www.instagram.com/explore/tags/'\n",
        "plusUrl = input('검색할 태그를 입력하세요 : ')\n",
        "url = baseUrl + quote_plus(plusUrl)\n",
        "\n",
        "# Search with User\n",
        "baseUrl = 'https://www.instagram.com/'\n",
        "Username = input('Username : ')\n",
        "url = baseUrl + quote_plus(Username)\n",
        "\n",
        "# ChromeDriver 실행\n",
        "driver = webdriver.Chrome(\"chromedriver\")\n",
        "time.sleep(3)\n",
        "\n",
        "# Instagram Login\n",
        "\n",
        "driver.get('https://www.instagram.com/accounts/login/')\n",
        "\n",
        "username = getpass.getpass(\"Input ID : \")# User ID\n",
        "password = getpass.getpass(\"Input PWD : \")# User PWD, getpass 이용 시, 정보를 숨길 수 있어 유용\n",
        " \n",
        "element_id = driver.find_element_by_name(\"username\")\n",
        "element_id.send_keys(username)\n",
        "time.sleep(3)\n",
        "element_password = driver.find_element_by_name(\"password\")\n",
        "element_password.send_keys(password)\n",
        "\n",
        "# Login 버튼 클릭\n",
        "driver.find_element_by_css_selector('.sqdOP.L3NKy.y3zKF').click()\n",
        "\n",
        "time.sleep(3)\n",
        "\n",
        "# url 이동\n",
        "driver.get(url)\n",
        "\n",
        "time.sleep(3)\n",
        "\n",
        "# Image link 담을 list\n",
        "imglist = []\n",
        "\n",
        "while True:\n",
        "    html = driver.page_source\n",
        "    soup = BeautifulSoup(html)\n",
        "\n",
        "    img_selector = soup.findAll('div', {'class' : 'KL4Bh'})\n",
        "    \n",
        "    time.sleep(3)\n",
        "    \n",
        "    for i, v in enumerate(img_selector):\n",
        "        img = v.find('img')\n",
        "        img_source = img.get('src')\n",
        "        imglist.append(img_source)\n",
        "\n",
        "    time.sleep(3)\n",
        "\n",
        "# 페이지 스크롤    \n",
        "    last_height = driver.execute_script(\"return document.body.scrollHeight\")\n",
        "    driver.execute_script(\"window.scrollTo(0, document.body.scrollHeight);\")\n",
        "    time.sleep(3)\n",
        "    new_height = driver.execute_script(\"return document.body.scrollHeight\")\n",
        "    if new_height == last_height:\n",
        "        driver.execute_script(\"window.scrollTo(0, document.body.scrollHeight);\")\n",
        "        time.sleep(3)\n",
        "        new_height = driver.execute_script(\"return document.body.scrollHeight\")\n",
        "        if new_height == last_height:\n",
        "            break\n",
        "        \n",
        "        else:\n",
        "            last_height = new_height\n",
        "            continue\n",
        "\n",
        "driver.close()"
      ],
      "execution_count": null,
      "outputs": []
    },
    {
      "cell_type": "markdown",
      "metadata": {
        "id": "pSsLHmOSUOoh"
      },
      "source": [
        "## 3. Save Image"
      ]
    },
    {
      "cell_type": "code",
      "metadata": {
        "id": "uIN_rvJ9UNUk"
      },
      "source": [
        "# image 저장 번호\n",
        "n = 1\n",
        "# 중복 image 없도록 중복제거\n",
        "imglist = list(set(imglist))\n",
        "\n",
        "# image list 길이만큼 반복하며 저장\n",
        "for i in range(len(imglist)):\n",
        "\n",
        "    # This is the image url.\n",
        "    image_url = imglist[i]\n",
        "    resp = requests.get(image_url, stream = True)\n",
        "\n",
        "    # image 저장 -> img 폴더 아래 저장 (.ipynb 파일과 동일한 경로에 img 폴더 미리 생성해놓기)\n",
        "    local_file = open('./img/' + plusUrl+ str(n) + '.jpg', 'wb')\n",
        "    resp.raw.decode_content = True\n",
        "    shutil.copyfileobj(resp.raw, local_file)\n",
        "    \n",
        "    n += 1\n",
        "    del resp"
      ],
      "execution_count": null,
      "outputs": []
    }
  ]
}